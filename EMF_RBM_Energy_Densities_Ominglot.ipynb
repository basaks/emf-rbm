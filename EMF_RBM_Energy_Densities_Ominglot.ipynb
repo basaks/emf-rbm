{
 "cells": [
  {
   "cell_type": "markdown",
   "metadata": {},
   "source": [
    "#  EMF RBM Energy Densities\n",
    "\n",
    "Look at different ways of computing the\n",
    "\n",
    "- energy density\n",
    "- free energy density\n",
    "- entropy density\n",
    "\n",
    "We can\n",
    "\n",
    "- use the TAP S and MF Energy *U_naive   \n",
    "    - which takes an equlibration step first  \n",
    "    - S(mv, mh), U_naive(mv, mh)\n",
    "- use a simple h = means_hiddens() step\n",
    "    - S(v, h), E_MF(v, h)\n"
   ]
  },
  {
   "cell_type": "code",
   "execution_count": 29,
   "metadata": {
    "ExecuteTime": {
     "end_time": "2016-11-08T23:33:50.367876",
     "start_time": "2016-11-08T23:33:50.361534"
    },
    "collapsed": false
   },
   "outputs": [],
   "source": [
    "import numpy as np\n",
    "import h5py\n",
    "\n",
    "import matplotlib\n",
    "import matplotlib as mpl\n",
    "import matplotlib.pyplot as plt\n",
    "%matplotlib inline \n",
    "\n",
    "from sklearn import linear_model, datasets, metrics, preprocessing \n",
    "from sklearn.cross_validation import train_test_split\n",
    "from sklearn.metrics import accuracy_score\n",
    "\n",
    "import psutil"
   ]
  },
  {
   "cell_type": "code",
   "execution_count": 30,
   "metadata": {
    "ExecuteTime": {
     "end_time": "2016-11-08T23:33:50.512461",
     "start_time": "2016-11-08T23:33:50.507597"
    },
    "collapsed": false
   },
   "outputs": [
    {
     "data": {
      "text/plain": [
       "{'divide': 'warn', 'invalid': 'warn', 'over': 'warn', 'under': 'warn'}"
      ]
     },
     "execution_count": 30,
     "metadata": {},
     "output_type": "execute_result"
    }
   ],
   "source": [
    "from sklearn.datasets import fetch_mldata\n",
    "from sklearn.utils.validation import assert_all_finite\n",
    "from scipy.sparse import csc_matrix, csr_matrix, lil_matrix\n",
    "from sklearn.preprocessing import Binarizer\n",
    "np.seterr(all='warn')"
   ]
  },
  {
   "cell_type": "raw",
   "metadata": {
    "ExecuteTime": {
     "end_time": "2016-11-08T23:33:53.684714",
     "start_time": "2016-11-08T23:33:51.186577"
    },
    "collapsed": false,
    "scrolled": true
   },
   "source": [
    "hf =  h5py.File('mnist.h5','r')\n",
    "print('List of arrays in this file: \\n', hf.keys())\n",
    "X = np.array(hf.get('HDF5.name___X'))\n",
    "y = np.array(hf.get('HDF5.name___y'))\n",
    "\n",
    "print X.shape, y.shape\n",
    "hf.close()\n",
    "np.linalg.norm(X, ord=2)"
   ]
  },
  {
   "cell_type": "markdown",
   "metadata": {},
   "source": [
    "## MNIST data\n",
    "\n",
    "http://scikit-learn.org/stable/auto_examples/neural_networks/plot_mnist_filters.html\n",
    "\n"
   ]
  },
  {
   "cell_type": "code",
   "execution_count": 33,
   "metadata": {
    "collapsed": true
   },
   "outputs": [],
   "source": [
    "from sklearn.datasets import fetch_mldata\n",
    "mnist = fetch_mldata(\"MNIST original\")"
   ]
  },
  {
   "cell_type": "code",
   "execution_count": 35,
   "metadata": {
    "collapsed": true
   },
   "outputs": [],
   "source": [
    "Xall, y = mnist.data / 255., mnist.target\n",
    "X_train, X_test = Xall[:60000], Xall[60000:]\n",
    "y_train, y_test = y[:60000], y[60000:]"
   ]
  },
  {
   "cell_type": "code",
   "execution_count": 45,
   "metadata": {
    "collapsed": false
   },
   "outputs": [],
   "source": [
    "from sklearn.preprocessing import binarize\n",
    "X = binarize(X_train, threshold=0.1, copy=True)"
   ]
  },
  {
   "cell_type": "code",
   "execution_count": null,
   "metadata": {
    "collapsed": true
   },
   "outputs": [],
   "source": []
  },
  {
   "cell_type": "markdown",
   "metadata": {
    "collapsed": true
   },
   "source": [
    "### Helper methods for simple case"
   ]
  },
  {
   "cell_type": "code",
   "execution_count": 48,
   "metadata": {
    "ExecuteTime": {
     "end_time": "2016-11-08T22:38:39.742812",
     "start_time": "2016-11-08T22:38:39.737075"
    },
    "collapsed": true
   },
   "outputs": [],
   "source": [
    "from sklearn.utils.fixes import expit    \n",
    "from sklearn.utils.extmath import safe_sparse_dot\n",
    "\n",
    "def sig_means(x, b, W):\n",
    "    a = safe_sparse_dot(x, W.T) + b\n",
    "    return expit(a, out=a)"
   ]
  },
  {
   "cell_type": "markdown",
   "metadata": {
    "ExecuteTime": {
     "end_time": "2016-10-20T17:56:14.156132",
     "start_time": "2016-10-20T17:56:14.153682"
    }
   },
   "source": [
    "### Baseline"
   ]
  },
  {
   "cell_type": "code",
   "execution_count": 49,
   "metadata": {
    "collapsed": false
   },
   "outputs": [],
   "source": [
    "import emf_rbm"
   ]
  },
  {
   "cell_type": "code",
   "execution_count": 50,
   "metadata": {
    "ExecuteTime": {
     "end_time": "2016-11-08T22:42:32.963306",
     "start_time": "2016-11-08T22:42:32.959982"
    },
    "collapsed": false
   },
   "outputs": [
    {
     "data": {
      "text/plain": [
       "sswap(total=0, used=0, free=0, percent=0.0, sin=0, sout=0)"
      ]
     },
     "execution_count": 50,
     "metadata": {},
     "output_type": "execute_result"
    }
   ],
   "source": [
    "psutil.swap_memory()"
   ]
  },
  {
   "cell_type": "markdown",
   "metadata": {},
   "source": [
    "### mean Entropy, Energy, and Free Energy"
   ]
  },
  {
   "cell_type": "code",
   "execution_count": 52,
   "metadata": {
    "ExecuteTime": {
     "end_time": "2016-11-08T22:55:48.509468",
     "start_time": "2016-11-08T22:45:04.953105"
    },
    "collapsed": false
   },
   "outputs": [
    {
     "name": "stdout",
     "output_type": "stream",
     "text": [
      "[EMF_RBM] Iteration 1, pseudo-likelihood = -233.51, time = 23.45s\n",
      "computing TAP Free Energies\n",
      "monitor:  -361.590476288 333.987235796 -26.9541948016\n",
      "[EMF_RBM] Iteration 2, pseudo-likelihood = -199.81, time = 53.50s\n",
      "computing TAP Free Energies\n",
      "monitor:  -347.1014084 281.540042684 -64.1845633544\n",
      "[EMF_RBM] Iteration 3, pseudo-likelihood = -161.95, time = 53.19s\n",
      "computing TAP Free Energies\n",
      "monitor:  -340.751219697 253.508561995 -84.9607242813\n",
      "[EMF_RBM] Iteration 4, pseudo-likelihood = -143.83, time = 53.14s\n",
      "computing TAP Free Energies\n",
      "monitor:  -349.615439283 233.776341949 -112.80351918\n",
      "[EMF_RBM] Iteration 5, pseudo-likelihood = -133.14, time = 53.17s\n",
      "computing TAP Free Energies\n",
      "monitor:  -360.027094493 218.87089056 -137.450810833\n",
      "[EMF_RBM] Iteration 6, pseudo-likelihood = -121.99, time = 53.18s\n",
      "computing TAP Free Energies\n",
      "monitor:  -370.436213399 207.845811892 -158.268702403\n",
      "[EMF_RBM] Iteration 7, pseudo-likelihood = -114.35, time = 53.06s\n",
      "computing TAP Free Energies\n",
      "monitor:  -380.389411213 198.811182541 -176.737491108\n",
      "[EMF_RBM] Iteration 8, pseudo-likelihood = -111.12, time = 53.07s\n",
      "computing TAP Free Energies\n",
      "monitor:  -389.176217312 191.335239037 -192.573345657\n",
      "[EMF_RBM] Iteration 9, pseudo-likelihood = -105.72, time = 53.20s\n",
      "computing TAP Free Energies\n",
      "monitor:  -396.991812367 185.315178082 -206.02367808\n",
      "[EMF_RBM] Iteration 10, pseudo-likelihood = -101.68, time = 53.08s\n",
      "computing TAP Free Energies\n",
      "monitor:  -404.306817343 180.30525679 -217.988028961\n",
      "[EMF_RBM] Iteration 11, pseudo-likelihood = -99.13, time = 53.02s\n",
      "computing TAP Free Energies\n",
      "monitor:  -411.135558263 175.931319824 -228.862119135\n",
      "[EMF_RBM] Iteration 12, pseudo-likelihood = -95.51, time = 53.11s\n",
      "computing TAP Free Energies\n",
      "monitor:  -417.571740128 172.063612853 -238.862995624\n",
      "[EMF_RBM] Iteration 13, pseudo-likelihood = -95.84, time = 52.93s\n",
      "computing TAP Free Energies\n",
      "monitor:  -423.684477649 168.614864158 -248.143484082\n",
      "[EMF_RBM] Iteration 14, pseudo-likelihood = -91.27, time = 53.20s\n",
      "computing TAP Free Energies\n",
      "monitor:  -429.440924214 165.500843371 -256.755163458\n",
      "[EMF_RBM] Iteration 15, pseudo-likelihood = -88.36, time = 53.04s\n",
      "computing TAP Free Energies\n",
      "monitor:  -434.809092564 162.66365222 -264.723311234\n",
      "[EMF_RBM] Iteration 16, pseudo-likelihood = -88.89, time = 52.99s\n",
      "computing TAP Free Energies\n",
      "monitor:  -439.798974252 160.068257798 -272.091046366\n",
      "[EMF_RBM] Iteration 17, pseudo-likelihood = -85.74, time = 52.96s\n",
      "computing TAP Free Energies\n",
      "monitor:  -444.443367405 157.691093477 -278.912231222\n",
      "[EMF_RBM] Iteration 18, pseudo-likelihood = -84.75, time = 53.12s\n",
      "computing TAP Free Energies\n",
      "monitor:  -448.783535686 155.511022318 -285.246764136\n",
      "[EMF_RBM] Iteration 19, pseudo-likelihood = -80.58, time = 53.05s\n",
      "computing TAP Free Energies\n",
      "monitor:  -452.854372009 153.507891957 -291.147579929\n",
      "[EMF_RBM] Iteration 20, pseudo-likelihood = -82.22, time = 53.26s\n",
      "computing TAP Free Energies\n",
      "monitor:  -456.691781558 151.662994952 -296.667508653\n"
     ]
    }
   ],
   "source": [
    "rbm = emf_rbm.EMF_RBM(verbose=True, monitor=True)\n",
    "rbm= rbm.fit(X)"
   ]
  },
  {
   "cell_type": "code",
   "execution_count": 54,
   "metadata": {
    "ExecuteTime": {
     "end_time": "2016-11-08T22:57:27.868434",
     "start_time": "2016-11-08T22:57:27.697130"
    },
    "collapsed": false,
    "scrolled": true
   },
   "outputs": [
    {
     "data": {
      "text/plain": [
       "[<matplotlib.lines.Line2D at 0x7f54ee4699d0>]"
      ]
     },
     "execution_count": 54,
     "metadata": {},
     "output_type": "execute_result"
    },
    {
     "data": {
      "image/png": "[encoded data removed]",
      "text/plain": [
       "<matplotlib.figure.Figure at 0x7f54ee1be310>"
      ]
     },
     "metadata": {},
     "output_type": "display_data"
    }
   ],
   "source": [
    "plt.plot(rbm.entropies-rbm.entropies[0], color='red')\n",
    "plt.plot(rbm.mean_field_energies-rbm.mean_field_energies[0], color='blue')\n",
    "plt.plot(rbm.free_energies-rbm.free_energies[0], color='green')"
   ]
  },
  {
   "cell_type": "code",
   "execution_count": 3,
   "metadata": {
    "collapsed": false
   },
   "outputs": [],
   "source": [
    "import matplotlib\n",
    "import matplotlib as mpl\n",
    "import matplotlib.pyplot as plt\n",
    "%matplotlib inline \n"
   ]
  },
  {
   "cell_type": "code",
   "execution_count": null,
   "metadata": {
    "collapsed": true
   },
   "outputs": [],
   "source": []
  },
  {
   "cell_type": "code",
   "execution_count": 4,
   "metadata": {
    "collapsed": false
   },
   "outputs": [
    {
     "ename": "NameError",
     "evalue": "name 'rbm' is not defined",
     "output_type": "error",
     "traceback": [
      "\u001b[0;31m---------------------------------------------------------------------------\u001b[0m",
      "\u001b[0;31mNameError\u001b[0m                                 Traceback (most recent call last)",
      "\u001b[0;32m<ipython-input-4-cc2cb92aadf5>\u001b[0m in \u001b[0;36m<module>\u001b[0;34m()\u001b[0m\n\u001b[0;32m----> 1\u001b[0;31m \u001b[0mplt\u001b[0m\u001b[0;34m.\u001b[0m\u001b[0mplot\u001b[0m\u001b[0;34m(\u001b[0m\u001b[0mrbm\u001b[0m\u001b[0;34m.\u001b[0m\u001b[0mentropies\u001b[0m\u001b[0;34m-\u001b[0m\u001b[0mrbm\u001b[0m\u001b[0;34m.\u001b[0m\u001b[0mentropies\u001b[0m\u001b[0;34m[\u001b[0m\u001b[0;36m0\u001b[0m\u001b[0;34m]\u001b[0m\u001b[0;34m,\u001b[0m \u001b[0mrbm\u001b[0m\u001b[0;34m.\u001b[0m\u001b[0mmean_field_energies\u001b[0m\u001b[0;34m-\u001b[0m\u001b[0mrbm\u001b[0m\u001b[0;34m.\u001b[0m\u001b[0mmean_field_energies\u001b[0m\u001b[0;34m[\u001b[0m\u001b[0;36m0\u001b[0m\u001b[0;34m]\u001b[0m\u001b[0;34m)\u001b[0m\u001b[0;34m\u001b[0m\u001b[0m\n\u001b[0m",
      "\u001b[0;31mNameError\u001b[0m: name 'rbm' is not defined"
     ]
    }
   ],
   "source": []
  },
  {
   "cell_type": "code",
   "execution_count": null,
   "metadata": {
    "collapsed": true
   },
   "outputs": [],
   "source": []
  }
 ],
 "metadata": {
  "anaconda-cloud": {},
  "kernelspec": {
   "display_name": "Python [default]",
   "language": "python",
   "name": "python2"
  },
  "language_info": {
   "codemirror_mode": {
    "name": "ipython",
    "version": 2
   },
   "file_extension": ".py",
   "mimetype": "text/x-python",
   "name": "python",
   "nbconvert_exporter": "python",
   "pygments_lexer": "ipython2",
   "version": "2.7.12"
  }
 },
 "nbformat": 4,
 "nbformat_minor": 0
}
