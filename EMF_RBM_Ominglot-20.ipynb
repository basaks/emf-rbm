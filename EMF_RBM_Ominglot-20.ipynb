{
 "cells": [
  {
   "cell_type": "markdown",
   "metadata": {},
   "source": [
    "#  EMF RBM Omniglot\n",
    "\n",
    "### Binarized, 20 Epochs, faster learning rate\n",
    "\n",
    "Look at different ways of computing the\n",
    "\n",
    "- energy density\n",
    "- free energy density\n",
    "- entropy density\n",
    "\n",
    "We can\n",
    "\n",
    "- use the TAP S and MF Energy *U_naive   \n",
    "    - which takes an equlibration step first  \n",
    "    - S(mv, mh), U_naive(mv, mh)\n",
    "- use a simple h = means_hiddens() step\n",
    "    - S(v, h), E_MF(v, h)\n"
   ]
  },
  {
   "cell_type": "code",
   "execution_count": 3,
   "metadata": {
    "ExecuteTime": {
     "end_time": "2017-03-06T23:33:27.475030",
     "start_time": "2017-03-06T23:33:24.890325"
    },
    "collapsed": false
   },
   "outputs": [
    {
     "name": "stderr",
     "output_type": "stream",
     "text": [
      "/Users/charlesmartin14/anaconda/lib/python2.7/site-packages/matplotlib/font_manager.py:273: UserWarning: Matplotlib is building the font cache using fc-list. This may take a moment.\n",
      "  warnings.warn('Matplotlib is building the font cache using fc-list. This may take a moment.')\n",
      "/Users/charlesmartin14/anaconda/lib/python2.7/site-packages/sklearn/cross_validation.py:44: DeprecationWarning: This module was deprecated in version 0.18 in favor of the model_selection module into which all the refactored classes and functions are moved. Also note that the interface of the new CV iterators are different from that of this module. This module will be removed in 0.20.\n",
      "  \"This module will be removed in 0.20.\", DeprecationWarning)\n"
     ]
    }
   ],
   "source": [
    "import numpy as np\n",
    "import h5py\n",
    "\n",
    "import matplotlib\n",
    "import matplotlib as mpl\n",
    "import matplotlib.pyplot as plt\n",
    "%matplotlib inline \n",
    "\n",
    "from sklearn import linear_model, datasets, metrics, preprocessing \n",
    "from sklearn.cross_validation import train_test_split\n",
    "from sklearn.metrics import accuracy_score\n",
    "\n",
    "import psutil"
   ]
  },
  {
   "cell_type": "code",
   "execution_count": 4,
   "metadata": {
    "ExecuteTime": {
     "end_time": "2017-03-06T23:33:27.484393",
     "start_time": "2017-03-06T23:33:27.476730"
    },
    "collapsed": false
   },
   "outputs": [
    {
     "data": {
      "text/plain": [
       "{'divide': 'warn', 'invalid': 'warn', 'over': 'warn', 'under': 'ignore'}"
      ]
     },
     "execution_count": 4,
     "metadata": {},
     "output_type": "execute_result"
    }
   ],
   "source": [
    "from sklearn.datasets import fetch_mldata\n",
    "from sklearn.utils.validation import assert_all_finite\n",
    "from scipy.sparse import csc_matrix, csr_matrix, lil_matrix\n",
    "from sklearn.preprocessing import Binarizer\n",
    "np.seterr(all='warn')"
   ]
  },
  {
   "cell_type": "code",
   "execution_count": 5,
   "metadata": {
    "ExecuteTime": {
     "end_time": "2017-03-06T23:33:27.494076",
     "start_time": "2017-03-06T23:33:27.486563"
    },
    "collapsed": true
   },
   "outputs": [],
   "source": [
    "from scipy.io import loadmat\n",
    "import matplotlib.pyplot as plt\n",
    "import matplotlib as mpl\n",
    "\n",
    "def show_image(image): \n",
    "    fig = plt.figure()\n",
    "    ax = fig.add_subplot(1,1,1)\n",
    "    imgplot = ax.imshow(image, cmap=mpl.cm.Greys)\n",
    "    imgplot.set_interpolation('nearest')\n",
    "    ax.xaxis.set_ticks_position('top')\n",
    "    ax.yaxis.set_ticks_position('left')\n",
    "    plt.show()"
   ]
  },
  {
   "cell_type": "code",
   "execution_count": 6,
   "metadata": {
    "ExecuteTime": {
     "end_time": "2017-03-06T23:33:27.500493",
     "start_time": "2017-03-06T23:33:27.496214"
    },
    "collapsed": true
   },
   "outputs": [],
   "source": [
    "import rbm_datasets"
   ]
  },
  {
   "cell_type": "code",
   "execution_count": 7,
   "metadata": {
    "ExecuteTime": {
     "end_time": "2017-03-06T23:33:29.765545",
     "start_time": "2017-03-06T23:33:27.503050"
    },
    "collapsed": false
   },
   "outputs": [],
   "source": [
    "train_x, train_y, train_char, test_x, test_y, test_char = rbm_datasets.load_omniglot_iwae()"
   ]
  },
  {
   "cell_type": "code",
   "execution_count": null,
   "metadata": {
    "ExecuteTime": {
     "start_time": "2017-03-07T07:33:25.630Z"
    },
    "collapsed": true
   },
   "outputs": [],
   "source": [
    "from sklearn.preprocessing import binarize\n",
    "X_train = binarize(train_x, threshold=0.5, copy=True)"
   ]
  },
  {
   "cell_type": "code",
   "execution_count": null,
   "metadata": {
    "ExecuteTime": {
     "start_time": "2017-03-07T07:33:25.790Z"
    },
    "collapsed": false
   },
   "outputs": [
    {
     "data": {
      "image/png": "[encoded data removed]",
      "text/plain": [
       "<matplotlib.figure.Figure at 0x10df47d10>"
      ]
     },
     "metadata": {},
     "output_type": "display_data"
    },
    {
     "data": {
      "image/png": "[encoded data removed]",
      "text/plain": [
       "<matplotlib.figure.Figure at 0x102e83510>"
      ]
     },
     "metadata": {},
     "output_type": "display_data"
    },
    {
     "data": {
      "image/png": "[encoded data removed]",
      "text/plain": [
       "<matplotlib.figure.Figure at 0x12310cbd0>"
      ]
     },
     "metadata": {},
     "output_type": "display_data"
    },
    {
     "data": {
      "image/png": "[encoded data removed]",
      "text/plain": [
       "<matplotlib.figure.Figure at 0x123279a90>"
      ]
     },
     "metadata": {},
     "output_type": "display_data"
    },
    {
     "data": {
      "image/png": "[encoded data removed]",
      "text/plain": [
       "<matplotlib.figure.Figure at 0x123438dd0>"
      ]
     },
     "metadata": {},
     "output_type": "display_data"
    },
    {
     "data": {
      "image/png": "[encoded data removed]",
      "text/plain": [
       "<matplotlib.figure.Figure at 0x123639f50>"
      ]
     },
     "metadata": {},
     "output_type": "display_data"
    },
    {
     "data": {
      "image/png": "[encoded data removed]",
      "text/plain": [
       "<matplotlib.figure.Figure at 0x1237973d0>"
      ]
     },
     "metadata": {},
     "output_type": "display_data"
    }
   ],
   "source": [
    "for i in range(5):\n",
    "    show_image(X_train[i+100].reshape(28,28))\n",
    "    show_image(train_x[i+100].reshape(28,28))"
   ]
  },
  {
   "cell_type": "code",
   "execution_count": null,
   "metadata": {
    "ExecuteTime": {
     "start_time": "2017-03-07T07:33:25.950Z"
    },
    "collapsed": false
   },
   "outputs": [],
   "source": [
    "X_train.shape"
   ]
  },
  {
   "cell_type": "code",
   "execution_count": null,
   "metadata": {
    "ExecuteTime": {
     "start_time": "2017-03-07T07:33:26.102Z"
    },
    "collapsed": true
   },
   "outputs": [],
   "source": [
    "from sklearn.preprocessing import binarize\n",
    "X_test = binarize(test_x, threshold=0.5, copy=True)"
   ]
  },
  {
   "cell_type": "markdown",
   "metadata": {
    "ExecuteTime": {
     "end_time": "2016-10-20T17:56:14.156132",
     "start_time": "2016-10-20T17:56:14.153682"
    }
   },
   "source": [
    "### EMF RBM"
   ]
  },
  {
   "cell_type": "code",
   "execution_count": null,
   "metadata": {
    "ExecuteTime": {
     "start_time": "2017-03-07T07:33:26.421Z"
    },
    "collapsed": false
   },
   "outputs": [],
   "source": [
    "psutil.swap_memory()"
   ]
  },
  {
   "cell_type": "markdown",
   "metadata": {},
   "source": [
    "### mean Entropy, Energy, and Free Energy"
   ]
  },
  {
   "cell_type": "code",
   "execution_count": null,
   "metadata": {
    "ExecuteTime": {
     "start_time": "2017-03-07T07:33:26.750Z"
    },
    "collapsed": true
   },
   "outputs": [],
   "source": [
    "import emf_rbm\n",
    "from sklearn.svm import LinearSVC\n",
    "from sklearn.metrics import accuracy_score"
   ]
  },
  {
   "cell_type": "code",
   "execution_count": null,
   "metadata": {
    "ExecuteTime": {
     "start_time": "2017-03-07T07:33:26.918Z"
    },
    "collapsed": false
   },
   "outputs": [],
   "source": [
    "rbm = emf_rbm.EMF_RBM(verbose=True, monitor=True, learning_rate=0.1, n_iter=20, batch_size=10, weight_decay='L2')\n",
    "print rbm\n",
    "rbm= rbm.fit(X_train)\n",
    "\n",
    "F_train = rbm.transform(X_train)\n",
    "F_test = rbm.transform(X_test)\n",
    "\n",
    "classifier = LinearSVC(C=1.0)\n",
    "classifier.fit(F_train, train_y)\n",
    "pred_y = classifier.predict(F_test)\n",
    "emf_accuracy = accuracy_score(y_pred=pred_y, y_true=test_y)\n",
    "print classifier, emf_accuracy"
   ]
  },
  {
   "cell_type": "code",
   "execution_count": null,
   "metadata": {
    "ExecuteTime": {
     "start_time": "2017-03-07T07:33:27.086Z"
    },
    "collapsed": false,
    "scrolled": true
   },
   "outputs": [],
   "source": [
    "plt.plot(rbm.entropies-rbm.entropies[0], color='red', label='Entropy')\n",
    "plt.plot(rbm.mean_field_energies-rbm.mean_field_energies[0], color='blue', label='MF Energy')\n",
    "plt.plot(rbm.free_energies-rbm.free_energies[0], color='green', label='Free Energy')\n",
    "plt.legend(loc='upper right')\n",
    "plt.title(\"Ominglot: Free Energy, Mean Field Enegry, & Entropy vs Epochs\")"
   ]
  },
  {
   "cell_type": "code",
   "execution_count": null,
   "metadata": {
    "ExecuteTime": {
     "end_time": "2017-03-06T10:29:54.878691",
     "start_time": "2017-03-06T10:29:54.769349"
    },
    "collapsed": true
   },
   "outputs": [],
   "source": []
  },
  {
   "cell_type": "code",
   "execution_count": null,
   "metadata": {
    "ExecuteTime": {
     "end_time": "2017-03-06T11:02:14.557390",
     "start_time": "2017-03-06T10:29:54.887567"
    },
    "collapsed": false
   },
   "outputs": [],
   "source": []
  },
  {
   "cell_type": "markdown",
   "metadata": {
    "ExecuteTime": {
     "end_time": "2017-03-06T23:30:14.827284",
     "start_time": "2017-03-06T23:30:14.823594"
    },
    "collapsed": true
   },
   "source": [
    "### variations"
   ]
  },
  {
   "cell_type": "code",
   "execution_count": null,
   "metadata": {
    "ExecuteTime": {
     "start_time": "2017-03-07T07:33:27.734Z"
    },
    "collapsed": true
   },
   "outputs": [],
   "source": [
    "rbm = emf_rbm.EMF_RBM(verbose=True, monitor=True, learning_rate=0.1, n_iter=20, batch_size=10, weight_decay='L1')\n",
    "print rbm\n",
    "rbm= rbm.fit(X_train)\n",
    "\n",
    "F_train = rbm.transform(X_train)\n",
    "F_test = rbm.transform(X_test)\n",
    "\n",
    "classifier = LinearSVC(C=1.0)\n",
    "classifier.fit(F_train, train_y)\n",
    "pred_y = classifier.predict(F_test)\n",
    "emf_accuracy = accuracy_score(y_pred=pred_y, y_true=test_y)\n",
    "print classifier, emf_accuracy"
   ]
  },
  {
   "cell_type": "code",
   "execution_count": null,
   "metadata": {
    "ExecuteTime": {
     "start_time": "2017-03-07T07:33:27.902Z"
    },
    "collapsed": true
   },
   "outputs": [],
   "source": [
    "plt.plot(rbm.entropies-rbm.entropies[0], color='red', label='Entropy')\n",
    "plt.plot(rbm.mean_field_energies-rbm.mean_field_energies[0], color='blue', label='MF Energy')\n",
    "plt.plot(rbm.free_energies-rbm.free_energies[0], color='green', label='Free Energy')\n",
    "plt.legend(loc='upper right')\n",
    "plt.title(\"Ominglot: Free Energy, Mean Field Enegry, & Entropy vs Epochs\")"
   ]
  },
  {
   "cell_type": "code",
   "execution_count": null,
   "metadata": {
    "collapsed": true
   },
   "outputs": [],
   "source": []
  },
  {
   "cell_type": "code",
   "execution_count": null,
   "metadata": {
    "ExecuteTime": {
     "start_time": "2017-03-07T07:33:28.238Z"
    },
    "collapsed": true
   },
   "outputs": [],
   "source": [
    "rbm = emf_rbm.EMF_RBM(verbose=True, monitor=True, learning_rate=0.1, n_iter=100, batch_size=10, weight_decay='L1', decay=0.5 )\n",
    "print rbm\n",
    "rbm= rbm.fit(X_train)\n",
    "\n",
    "F_train = rbm.transform(X_train)\n",
    "F_test = rbm.transform(X_test)\n",
    "\n",
    "classifier = LinearSVC(C=1.0)\n",
    "classifier.fit(F_train, train_y)\n",
    "pred_y = classifier.predict(F_test)\n",
    "emf_accuracy = accuracy_score(y_pred=pred_y, y_true=test_y)\n",
    "print classifier, emf_accuracy"
   ]
  },
  {
   "cell_type": "code",
   "execution_count": null,
   "metadata": {
    "ExecuteTime": {
     "start_time": "2017-03-07T07:33:28.925Z"
    },
    "collapsed": true
   },
   "outputs": [],
   "source": [
    "plt.plot(rbm.entropies-rbm.entropies[0], color='red', label='Entropy')\n",
    "plt.plot(rbm.mean_field_energies-rbm.mean_field_energies[0], color='blue', label='MF Energy')\n",
    "plt.plot(rbm.free_energies-rbm.free_energies[0], color='green', label='Free Energy')\n",
    "plt.legend(loc='upper right')\n",
    "plt.title(\"Ominglot: Free Energy, Mean Field Enegry, & Entropy vs Epochs\")"
   ]
  },
  {
   "cell_type": "code",
   "execution_count": null,
   "metadata": {
    "collapsed": true
   },
   "outputs": [],
   "source": []
  },
  {
   "cell_type": "code",
   "execution_count": null,
   "metadata": {
    "ExecuteTime": {
     "start_time": "2017-03-07T07:33:28.757Z"
    },
    "collapsed": true
   },
   "outputs": [],
   "source": [
    "rbm = emf_rbm.EMF_RBM(verbose=True, monitor=True, neq_steps=10, learning_rate=0.1, n_iter=100, batch_size=10, weight_decay='L1', decay=0.5 )\n",
    "print rbm\n",
    "rbm= rbm.fit(X_train)\n",
    "\n",
    "F_train = rbm.transform(X_train)\n",
    "F_test = rbm.transform(X_test)\n",
    "\n",
    "classifier = LinearSVC(C=1.0)\n",
    "classifier.fit(F_train, train_y)\n",
    "pred_y = classifier.predict(F_test)\n",
    "emf_accuracy = accuracy_score(y_pred=pred_y, y_true=test_y)\n",
    "print classifier, emf_accuracy"
   ]
  },
  {
   "cell_type": "code",
   "execution_count": null,
   "metadata": {
    "ExecuteTime": {
     "start_time": "2017-03-07T07:33:28.925Z"
    },
    "collapsed": true
   },
   "outputs": [],
   "source": [
    "plt.plot(rbm.entropies-rbm.entropies[0], color='red', label='Entropy')\n",
    "plt.plot(rbm.mean_field_energies-rbm.mean_field_energies[0], color='blue', label='MF Energy')\n",
    "plt.plot(rbm.free_energies-rbm.free_energies[0], color='green', label='Free Energy')\n",
    "plt.legend(loc='upper right')\n",
    "plt.title(\"Ominglot: Free Energy, Mean Field Enegry, & Entropy vs Epochs\")"
   ]
  },
  {
   "cell_type": "code",
   "execution_count": null,
   "metadata": {
    "collapsed": true
   },
   "outputs": [],
   "source": []
  },
  {
   "cell_type": "code",
   "execution_count": null,
   "metadata": {
    "collapsed": true
   },
   "outputs": [],
   "source": []
  },
  {
   "cell_type": "code",
   "execution_count": null,
   "metadata": {
    "collapsed": true
   },
   "outputs": [],
   "source": []
  }
 ],
 "metadata": {
  "anaconda-cloud": {},
  "kernelspec": {
   "display_name": "Python [Root]",
   "language": "python",
   "name": "Python [Root]"
  },
  "language_info": {
   "codemirror_mode": {
    "name": "ipython",
    "version": 2
   },
   "file_extension": ".py",
   "mimetype": "text/x-python",
   "name": "python",
   "nbconvert_exporter": "python",
   "pygments_lexer": "ipython2",
   "version": "2.7.12"
  }
 },
 "nbformat": 4,
 "nbformat_minor": 0
}
