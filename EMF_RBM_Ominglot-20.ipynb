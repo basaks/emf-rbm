{
 "cells": [
  {
   "cell_type": "markdown",
   "metadata": {},
   "source": [
    "#  EMF RBM Omniglot\n",
    "\n",
    "### Binarized, 20 Epochs, faster learning rate\n",
    "\n",
    "Look at different ways of computing the\n",
    "\n",
    "- energy density\n",
    "- free energy density\n",
    "- entropy density\n",
    "\n",
    "We can\n",
    "\n",
    "- use the TAP S and MF Energy *U_naive   \n",
    "    - which takes an equlibration step first  \n",
    "    - S(mv, mh), U_naive(mv, mh)\n",
    "- use a simple h = means_hiddens() step\n",
    "    - S(v, h), E_MF(v, h)\n"
   ]
  },
  {
   "cell_type": "code",
   "execution_count": 3,
   "metadata": {
    "ExecuteTime": {
     "end_time": "2017-03-06T23:33:27.475030",
     "start_time": "2017-03-06T23:33:24.890325"
    },
    "collapsed": false
   },
   "outputs": [
    {
     "name": "stderr",
     "output_type": "stream",
     "text": [
      "/Users/charlesmartin14/anaconda/lib/python2.7/site-packages/matplotlib/font_manager.py:273: UserWarning: Matplotlib is building the font cache using fc-list. This may take a moment.\n",
      "  warnings.warn('Matplotlib is building the font cache using fc-list. This may take a moment.')\n",
      "/Users/charlesmartin14/anaconda/lib/python2.7/site-packages/sklearn/cross_validation.py:44: DeprecationWarning: This module was deprecated in version 0.18 in favor of the model_selection module into which all the refactored classes and functions are moved. Also note that the interface of the new CV iterators are different from that of this module. This module will be removed in 0.20.\n",
      "  \"This module will be removed in 0.20.\", DeprecationWarning)\n"
     ]
    }
   ],
   "source": [
    "import numpy as np\n",
    "import h5py\n",
    "\n",
    "import matplotlib\n",
    "import matplotlib as mpl\n",
    "import matplotlib.pyplot as plt\n",
    "%matplotlib inline \n",
    "\n",
    "from sklearn import linear_model, datasets, metrics, preprocessing \n",
    "from sklearn.cross_validation import train_test_split\n",
    "from sklearn.metrics import accuracy_score\n",
    "\n",
    "import psutil"
   ]
  },
  {
   "cell_type": "code",
   "execution_count": 4,
   "metadata": {
    "ExecuteTime": {
     "end_time": "2017-03-06T23:33:27.484393",
     "start_time": "2017-03-06T23:33:27.476730"
    },
    "collapsed": false
   },
   "outputs": [
    {
     "data": {
      "text/plain": [
       "{'divide': 'warn', 'invalid': 'warn', 'over': 'warn', 'under': 'ignore'}"
      ]
     },
     "execution_count": 4,
     "metadata": {},
     "output_type": "execute_result"
    }
   ],
   "source": [
    "from sklearn.datasets import fetch_mldata\n",
    "from sklearn.utils.validation import assert_all_finite\n",
    "from scipy.sparse import csc_matrix, csr_matrix, lil_matrix\n",
    "from sklearn.preprocessing import Binarizer\n",
    "np.seterr(all='warn')"
   ]
  },
  {
   "cell_type": "code",
   "execution_count": 5,
   "metadata": {
    "ExecuteTime": {
     "end_time": "2017-03-06T23:33:27.494076",
     "start_time": "2017-03-06T23:33:27.486563"
    },
    "collapsed": true
   },
   "outputs": [],
   "source": [
    "from scipy.io import loadmat\n",
    "import matplotlib.pyplot as plt\n",
    "import matplotlib as mpl\n",
    "\n",
    "def show_image(image): \n",
    "    fig = plt.figure()\n",
    "    ax = fig.add_subplot(1,1,1)\n",
    "    imgplot = ax.imshow(image, cmap=mpl.cm.Greys)\n",
    "    imgplot.set_interpolation('nearest')\n",
    "    ax.xaxis.set_ticks_position('top')\n",
    "    ax.yaxis.set_ticks_position('left')\n",
    "    plt.show()"
   ]
  },
  {
   "cell_type": "code",
   "execution_count": 6,
   "metadata": {
    "ExecuteTime": {
     "end_time": "2017-03-06T23:33:27.500493",
     "start_time": "2017-03-06T23:33:27.496214"
    },
    "collapsed": true
   },
   "outputs": [],
   "source": [
    "import rbm_datasets"
   ]
  },
  {
   "cell_type": "code",
   "execution_count": 7,
   "metadata": {
    "ExecuteTime": {
     "end_time": "2017-03-06T23:33:29.765545",
     "start_time": "2017-03-06T23:33:27.503050"
    },
    "collapsed": false
   },
   "outputs": [],
   "source": [
    "train_x, train_y, train_char, test_x, test_y, test_char = rbm_datasets.load_omniglot_iwae()"
   ]
  },
  {
   "cell_type": "code",
   "execution_count": 8,
   "metadata": {
    "ExecuteTime": {
     "end_time": "2017-03-06T23:33:29.946915",
     "start_time": "2017-03-06T23:33:29.767335"
    },
    "collapsed": true
   },
   "outputs": [],
   "source": [
    "from sklearn.preprocessing import binarize\n",
    "X_train = binarize(train_x, threshold=0.5, copy=True)"
   ]
  },
  {
   "cell_type": "code",
   "execution_count": 9,
   "metadata": {
    "ExecuteTime": {
     "end_time": "2017-03-06T23:33:31.499745",
     "start_time": "2017-03-06T23:33:29.948552"
    },
    "collapsed": false
   },
   "outputs": [
    {
     "data": {
      "image/png": "[encoded data removed]",
      "text/plain": [
       "<matplotlib.figure.Figure at 0x10df47d10>"
      ]
     },
     "metadata": {},
     "output_type": "display_data"
    },
    {
     "data": {
      "image/png": "[encoded data removed]",
      "text/plain": [
       "<matplotlib.figure.Figure at 0x102e83510>"
      ]
     },
     "metadata": {},
     "output_type": "display_data"
    },
    {
     "data": {
      "image/png": "[encoded data removed]",
      "text/plain": [
       "<matplotlib.figure.Figure at 0x12310cbd0>"
      ]
     },
     "metadata": {},
     "output_type": "display_data"
    },
    {
     "data": {
      "image/png": "[encoded data removed]",
      "text/plain": [
       "<matplotlib.figure.Figure at 0x123279a90>"
      ]
     },
     "metadata": {},
     "output_type": "display_data"
    },
    {
     "data": {
      "image/png": "[encoded data removed]",
      "text/plain": [
       "<matplotlib.figure.Figure at 0x123438dd0>"
      ]
     },
     "metadata": {},
     "output_type": "display_data"
    },
    {
     "data": {
      "image/png": "[encoded data removed]",
      "text/plain": [
       "<matplotlib.figure.Figure at 0x123639f50>"
      ]
     },
     "metadata": {},
     "output_type": "display_data"
    },
    {
     "data": {
      "image/png": "[encoded data removed]",
      "text/plain": [
       "<matplotlib.figure.Figure at 0x1237973d0>"
      ]
     },
     "metadata": {},
     "output_type": "display_data"
    },
    {
     "data": {
      "image/png": "[encoded data removed]",
      "text/plain": [
       "<matplotlib.figure.Figure at 0x1238ea590>"
      ]
     },
     "metadata": {},
     "output_type": "display_data"
    },
    {
     "data": {
      "image/png": "[encoded data removed]",
      "text/plain": [
       "<matplotlib.figure.Figure at 0x123a3d810>"
      ]
     },
     "metadata": {},
     "output_type": "display_data"
    },
    {
     "data": {
      "image/png": "[encoded data removed]",
      "text/plain": [
       "<matplotlib.figure.Figure at 0x123818ed0>"
      ]
     },
     "metadata": {},
     "output_type": "display_data"
    }
   ],
   "source": [
    "for i in range(5):\n",
    "    show_image(X_train[i+100].reshape(28,28))\n",
    "    show_image(train_x[i+100].reshape(28,28))"
   ]
  },
  {
   "cell_type": "code",
   "execution_count": 10,
   "metadata": {
    "ExecuteTime": {
     "end_time": "2017-03-06T23:33:31.506527",
     "start_time": "2017-03-06T23:33:31.501686"
    },
    "collapsed": false
   },
   "outputs": [
    {
     "data": {
      "text/plain": [
       "(24345, 784)"
      ]
     },
     "execution_count": 10,
     "metadata": {},
     "output_type": "execute_result"
    }
   ],
   "source": [
    "X_train.shape"
   ]
  },
  {
   "cell_type": "code",
   "execution_count": 11,
   "metadata": {
    "ExecuteTime": {
     "end_time": "2017-03-06T23:33:31.569463",
     "start_time": "2017-03-06T23:33:31.509131"
    },
    "collapsed": true
   },
   "outputs": [],
   "source": [
    "from sklearn.preprocessing import binarize\n",
    "X_test = binarize(test_x, threshold=0.5, copy=True)"
   ]
  },
  {
   "cell_type": "markdown",
   "metadata": {
    "ExecuteTime": {
     "end_time": "2016-10-20T17:56:14.156132",
     "start_time": "2016-10-20T17:56:14.153682"
    }
   },
   "source": [
    "### EMF RBM"
   ]
  },
  {
   "cell_type": "code",
   "execution_count": 16,
   "metadata": {
    "ExecuteTime": {
     "end_time": "2017-03-06T23:51:14.697369",
     "start_time": "2017-03-06T23:51:14.692014"
    },
    "collapsed": false
   },
   "outputs": [
    {
     "data": {
      "text/plain": [
       "sswap(total=7516192768L, used=6640107520L, free=876085248L, percent=88.3, sin=69141757952L, sout=937185280L)"
      ]
     },
     "execution_count": 16,
     "metadata": {},
     "output_type": "execute_result"
    }
   ],
   "source": [
    "psutil.swap_memory()"
   ]
  },
  {
   "cell_type": "markdown",
   "metadata": {},
   "source": [
    "### mean Entropy, Energy, and Free Energy"
   ]
  },
  {
   "cell_type": "code",
   "execution_count": 17,
   "metadata": {
    "ExecuteTime": {
     "end_time": "2017-03-06T23:51:15.062814",
     "start_time": "2017-03-06T23:51:15.059802"
    },
    "collapsed": true
   },
   "outputs": [],
   "source": [
    "import emf_rbm\n",
    "from sklearn.svm import LinearSVC\n",
    "from sklearn.metrics import accuracy_score"
   ]
  },
  {
   "cell_type": "code",
   "execution_count": 18,
   "metadata": {
    "ExecuteTime": {
     "end_time": "2017-03-07T00:07:22.734480",
     "start_time": "2017-03-06T23:51:15.331852"
    },
    "collapsed": false
   },
   "outputs": [
    {
     "name": "stdout",
     "output_type": "stream",
     "text": [
      "EMF_RBM(batch_size=10, decay=0.01, learning_rate=0.1, momentum=0.5,\n",
      "    monitor=True, n_components=256, n_iter=20, neq_steps=3,\n",
      "    random_state=<mtrand.RandomState object at 0x106f88780>, sigma=0.001,\n",
      "    thresh=1e-08, verbose=True, weight_decay='L2')\n",
      "[EMF_RBM] Iteration 1, pseudo-likelihood = -90.53, time = 21.79s\n",
      "computing TAP Free Energies\n",
      "monitor:  -180.078246121 177.551250361 17.9152196109\n",
      "[EMF_RBM] Iteration 2, pseudo-likelihood = -82.12, time = 33.28s\n",
      "computing TAP Free Energies\n",
      "monitor:  -228.630725252 172.268346144 -30.9769599567\n",
      "[EMF_RBM] Iteration 3, pseudo-likelihood = -80.19, time = 31.68s\n",
      "computing TAP Free Energies\n",
      "monitor:  -247.432974109 170.183320717 -49.984954656\n",
      "[EMF_RBM] Iteration 4, pseudo-likelihood = -74.19, time = 30.73s\n",
      "computing TAP Free Energies\n",
      "monitor:  -252.029424929 169.697224142 -54.0902980932\n",
      "[EMF_RBM] Iteration 5, pseudo-likelihood = -73.72, time = 30.26s\n",
      "computing TAP Free Energies\n",
      "monitor:  -256.362866776 168.891716606 -58.8176604653\n",
      "[EMF_RBM] Iteration 6, pseudo-likelihood = -71.86, time = 31.95s\n",
      "computing TAP Free Energies\n",
      "monitor:  -256.650244905 168.150385483 -59.4684553382\n",
      "[EMF_RBM] Iteration 7, pseudo-likelihood = -73.59, time = 31.43s\n",
      "computing TAP Free Energies\n",
      "monitor:  -254.05832213 168.175406196 -56.5497134881\n",
      "[EMF_RBM] Iteration 8, pseudo-likelihood = -67.86, time = 29.91s\n",
      "computing TAP Free Energies\n",
      "monitor:  -257.137487052 167.431355306 -60.2772378099\n",
      "[EMF_RBM] Iteration 9, pseudo-likelihood = -68.24, time = 28.85s\n",
      "computing TAP Free Energies\n",
      "monitor:  -259.136295006 166.679435222 -62.9333830201\n",
      "[EMF_RBM] Iteration 10, pseudo-likelihood = -67.61, time = 28.68s\n",
      "computing TAP Free Energies\n",
      "monitor:  -260.049731637 166.159641636 -64.2778845693\n",
      "[EMF_RBM] Iteration 11, pseudo-likelihood = -65.71, time = 28.86s\n",
      "computing TAP Free Energies\n",
      "monitor:  -260.304554867 165.768080662 -64.8437607751\n",
      "[EMF_RBM] Iteration 12, pseudo-likelihood = -67.18, time = 28.64s\n",
      "computing TAP Free Energies\n",
      "monitor:  -260.330957104 165.432363111 -65.1368761251\n",
      "[EMF_RBM] Iteration 13, pseudo-likelihood = -67.47, time = 28.82s\n",
      "computing TAP Free Energies\n",
      "monitor:  -260.273963588 165.141648711 -65.3148201063\n",
      "[EMF_RBM] Iteration 14, pseudo-likelihood = -68.51, time = 28.87s\n",
      "computing TAP Free Energies\n",
      "monitor:  -260.125117301 164.8844613 -65.3797930901\n",
      "[EMF_RBM] Iteration 15, pseudo-likelihood = -69.33, time = 28.74s\n",
      "computing TAP Free Energies\n",
      "monitor:  -259.898472132 164.655198747 -65.3464618713\n",
      "[EMF_RBM] Iteration 16, pseudo-likelihood = -69.48, time = 28.85s\n",
      "computing TAP Free Energies\n",
      "monitor:  -259.640712552 164.462237746 -65.2428969324\n",
      "[EMF_RBM] Iteration 17, pseudo-likelihood = -68.71, time = 28.87s\n",
      "computing TAP Free Energies\n",
      "monitor:  -259.356993723 164.300871844 -65.0776750107\n",
      "[EMF_RBM] Iteration 18, pseudo-likelihood = -64.78, time = 29.15s\n",
      "computing TAP Free Energies\n",
      "monitor:  -259.019579175 164.14775731 -64.8539873078\n",
      "[EMF_RBM] Iteration 19, pseudo-likelihood = -66.56, time = 29.94s\n",
      "computing TAP Free Energies\n",
      "monitor:  -258.631641214 163.988431379 -64.5919362549\n",
      "[EMF_RBM] Iteration 20, pseudo-likelihood = -67.19, time = 29.28s\n",
      "computing TAP Free Energies\n",
      "monitor:  -258.225474218 163.833575094 -64.3072351275\n",
      "LinearSVC(C=1.0, class_weight=None, dual=True, fit_intercept=True,\n",
      "     intercept_scaling=1, loss='squared_hinge', max_iter=1000,\n",
      "     multi_class='ovr', penalty='l2', random_state=None, tol=0.0001,\n",
      "     verbose=0) 0.274225526642\n"
     ]
    }
   ],
   "source": [
    "rbm = emf_rbm.EMF_RBM(verbose=True, monitor=True, learning_rate=0.1, n_iter=20, batch_size=10, weight_decay='L2')\n",
    "print rbm\n",
    "rbm= rbm.fit(X_train)\n",
    "\n",
    "F_train = rbm.transform(X_train)\n",
    "F_test = rbm.transform(X_test)\n",
    "\n",
    "classifier = LinearSVC(C=1.0)\n",
    "classifier.fit(F_train, train_y)\n",
    "pred_y = classifier.predict(F_test)\n",
    "emf_accuracy = accuracy_score(y_pred=pred_y, y_true=test_y)\n",
    "print classifier, emf_accuracy"
   ]
  },
  {
   "cell_type": "code",
   "execution_count": 19,
   "metadata": {
    "ExecuteTime": {
     "end_time": "2017-03-07T00:07:22.989034",
     "start_time": "2017-03-07T00:07:22.739912"
    },
    "collapsed": false,
    "scrolled": true
   },
   "outputs": [
    {
     "data": {
      "text/plain": [
       "<matplotlib.text.Text at 0x10e5ac5d0>"
      ]
     },
     "execution_count": 19,
     "metadata": {},
     "output_type": "execute_result"
    },
    {
     "data": {
      "image/png": "[encoded data removed]",
      "text/plain": [
       "<matplotlib.figure.Figure at 0x10e3adad0>"
      ]
     },
     "metadata": {},
     "output_type": "display_data"
    }
   ],
   "source": [
    "plt.plot(rbm.entropies-rbm.entropies[0], color='red', label='Entropy')\n",
    "plt.plot(rbm.mean_field_energies-rbm.mean_field_energies[0], color='blue', label='MF Energy')\n",
    "plt.plot(rbm.free_energies-rbm.free_energies[0], color='green', label='Free Energy')\n",
    "plt.legend(loc='upper right')\n",
    "plt.title(\"Ominglot: Free Energy, Mean Field Enegry, & Entropy vs Epochs\")"
   ]
  },
  {
   "cell_type": "code",
   "execution_count": null,
   "metadata": {
    "ExecuteTime": {
     "end_time": "2017-03-06T10:29:54.878691",
     "start_time": "2017-03-06T10:29:54.769349"
    },
    "collapsed": true
   },
   "outputs": [],
   "source": []
  },
  {
   "cell_type": "code",
   "execution_count": null,
   "metadata": {
    "ExecuteTime": {
     "end_time": "2017-03-06T11:02:14.557390",
     "start_time": "2017-03-06T10:29:54.887567"
    },
    "collapsed": false
   },
   "outputs": [],
   "source": []
  },
  {
   "cell_type": "markdown",
   "metadata": {
    "ExecuteTime": {
     "end_time": "2017-03-06T23:30:14.827284",
     "start_time": "2017-03-06T23:30:14.823594"
    },
    "collapsed": true
   },
   "source": [
    "### variations"
   ]
  },
  {
   "cell_type": "code",
   "execution_count": 20,
   "metadata": {
    "ExecuteTime": {
     "end_time": "2017-03-07T00:24:06.215972",
     "start_time": "2017-03-07T00:07:22.990735"
    },
    "collapsed": false
   },
   "outputs": [
    {
     "name": "stdout",
     "output_type": "stream",
     "text": [
      "EMF_RBM(batch_size=10, decay=0.01, learning_rate=0.1, momentum=0.5,\n",
      "    monitor=True, n_components=256, n_iter=20, neq_steps=3,\n",
      "    random_state=<mtrand.RandomState object at 0x106f88780>, sigma=0.001,\n",
      "    thresh=1e-08, verbose=True, weight_decay='L1')\n",
      "[EMF_RBM] Iteration 1, pseudo-likelihood = -96.73, time = 21.79s\n",
      "computing TAP Free Energies\n",
      "monitor:  -173.167167942 193.478844542 39.4345376386\n",
      "[EMF_RBM] Iteration 2, pseudo-likelihood = -80.02, time = 31.63s\n",
      "computing TAP Free Energies\n",
      "monitor:  -217.669685817 180.461384227 -11.7198988386\n",
      "[EMF_RBM] Iteration 3, pseudo-likelihood = -76.30, time = 31.09s\n",
      "computing TAP Free Energies\n",
      "monitor:  -237.353947183 174.626540005 -34.2591192441\n",
      "[EMF_RBM] Iteration 4, pseudo-likelihood = -72.96, time = 30.92s\n",
      "computing TAP Free Energies\n",
      "monitor:  -247.360124844 171.464891367 -45.8884253173\n",
      "[EMF_RBM] Iteration 5, pseudo-likelihood = -70.17, time = 31.12s\n",
      "computing TAP Free Energies\n",
      "monitor:  -252.85067821 169.249801242 -52.7695618073\n",
      "[EMF_RBM] Iteration 6, pseudo-likelihood = -72.57, time = 31.88s\n",
      "computing TAP Free Energies\n",
      "monitor:  -255.382496058 167.75911232 -56.2539892811\n",
      "[EMF_RBM] Iteration 7, pseudo-likelihood = -72.03, time = 31.28s\n",
      "computing TAP Free Energies\n",
      "monitor:  -256.570086227 166.72562015 -58.0679328129\n",
      "[EMF_RBM] Iteration 8, pseudo-likelihood = -68.59, time = 31.41s\n",
      "computing TAP Free Energies\n",
      "monitor:  -257.167907091 165.878006154 -59.225324937\n",
      "[EMF_RBM] Iteration 9, pseudo-likelihood = -68.26, time = 31.11s\n",
      "computing TAP Free Energies\n",
      "monitor:  -256.959318599 165.235734633 -59.4705694952\n",
      "[EMF_RBM] Iteration 10, pseudo-likelihood = -68.85, time = 31.22s\n",
      "computing TAP Free Energies\n",
      "monitor:  -256.419694909 164.704182331 -59.3405531466\n",
      "[EMF_RBM] Iteration 11, pseudo-likelihood = -72.69, time = 31.44s\n",
      "computing TAP Free Energies\n",
      "monitor:  -255.682430396 164.435030613 -58.7324242987\n",
      "[EMF_RBM] Iteration 12, pseudo-likelihood = -70.11, time = 31.44s\n",
      "computing TAP Free Energies\n",
      "monitor:  -254.798574515 164.174859115 -57.9765805809\n",
      "[EMF_RBM] Iteration 13, pseudo-likelihood = -68.85, time = 31.15s\n",
      "computing TAP Free Energies\n",
      "monitor:  -254.008029335 163.882921719 -57.3612582324\n",
      "[EMF_RBM] Iteration 14, pseudo-likelihood = -68.58, time = 31.11s\n",
      "computing TAP Free Energies\n",
      "monitor:  -253.28892601 163.701555399 -56.7240012357\n",
      "[EMF_RBM] Iteration 15, pseudo-likelihood = -68.10, time = 31.10s\n",
      "computing TAP Free Energies\n",
      "monitor:  -252.623999302 163.571921286 -56.0942628039\n",
      "[EMF_RBM] Iteration 16, pseudo-likelihood = -68.52, time = 31.30s\n",
      "computing TAP Free Energies\n",
      "monitor:  -251.991613674 163.464371141 -55.4816088586\n",
      "[EMF_RBM] Iteration 17, pseudo-likelihood = -71.41, time = 30.92s\n",
      "computing TAP Free Energies\n",
      "monitor:  -251.508291339 163.348854948 -55.0378171425\n",
      "[EMF_RBM] Iteration 18, pseudo-likelihood = -67.62, time = 30.81s\n",
      "computing TAP Free Energies\n",
      "monitor:  -251.164121596 163.241957185 -54.7361168845\n",
      "[EMF_RBM] Iteration 19, pseudo-likelihood = -66.67, time = 30.73s\n",
      "computing TAP Free Energies\n",
      "monitor:  -250.851067535 163.158378571 -54.4483321205\n",
      "[EMF_RBM] Iteration 20, pseudo-likelihood = -67.98, time = 30.84s\n",
      "computing TAP Free Energies\n",
      "monitor:  -250.542899287 163.076692115 -54.1749820254\n",
      "LinearSVC(C=1.0, class_weight=None, dual=True, fit_intercept=True,\n",
      "     intercept_scaling=1, loss='squared_hinge', max_iter=1000,\n",
      "     multi_class='ovr', penalty='l2', random_state=None, tol=0.0001,\n",
      "     verbose=0) 0.270879801735\n"
     ]
    }
   ],
   "source": [
    "rbm = emf_rbm.EMF_RBM(verbose=True, monitor=True, learning_rate=0.1, n_iter=20, batch_size=10, weight_decay='L1')\n",
    "print rbm\n",
    "rbm= rbm.fit(X_train)\n",
    "\n",
    "F_train = rbm.transform(X_train)\n",
    "F_test = rbm.transform(X_test)\n",
    "\n",
    "classifier = LinearSVC(C=1.0)\n",
    "classifier.fit(F_train, train_y)\n",
    "pred_y = classifier.predict(F_test)\n",
    "emf_accuracy = accuracy_score(y_pred=pred_y, y_true=test_y)\n",
    "print classifier, emf_accuracy"
   ]
  },
  {
   "cell_type": "code",
   "execution_count": 21,
   "metadata": {
    "ExecuteTime": {
     "end_time": "2017-03-07T00:24:06.447434",
     "start_time": "2017-03-07T00:24:06.218896"
    },
    "collapsed": false
   },
   "outputs": [
    {
     "data": {
      "text/plain": [
       "<matplotlib.text.Text at 0x1115b2590>"
      ]
     },
     "execution_count": 21,
     "metadata": {},
     "output_type": "execute_result"
    },
    {
     "data": {
      "image/png": "[encoded data removed]",
      "text/plain": [
       "<matplotlib.figure.Figure at 0x123800e10>"
      ]
     },
     "metadata": {},
     "output_type": "display_data"
    }
   ],
   "source": [
    "plt.plot(rbm.entropies-rbm.entropies[0], color='red', label='Entropy')\n",
    "plt.plot(rbm.mean_field_energies-rbm.mean_field_energies[0], color='blue', label='MF Energy')\n",
    "plt.plot(rbm.free_energies-rbm.free_energies[0], color='green', label='Free Energy')\n",
    "plt.legend(loc='upper right')\n",
    "plt.title(\"Ominglot: Free Energy, Mean Field Enegry, & Entropy vs Epochs\")"
   ]
  },
  {
   "cell_type": "code",
   "execution_count": null,
   "metadata": {
    "collapsed": true
   },
   "outputs": [],
   "source": []
  },
  {
   "cell_type": "code",
   "execution_count": 22,
   "metadata": {
    "ExecuteTime": {
     "end_time": "2017-03-07T01:18:10.672933",
     "start_time": "2017-03-07T00:24:06.449087"
    },
    "collapsed": false
   },
   "outputs": [
    {
     "name": "stdout",
     "output_type": "stream",
     "text": [
      "EMF_RBM(batch_size=10, decay=0.5, learning_rate=0.1, momentum=0.5,\n",
      "    monitor=True, n_components=256, n_iter=100, neq_steps=3,\n",
      "    random_state=<mtrand.RandomState object at 0x106f88780>, sigma=0.001,\n",
      "    thresh=1e-08, verbose=True, weight_decay='L1')\n",
      "[EMF_RBM] Iteration 1, pseudo-likelihood = -177.20, time = 21.28s\n",
      "computing TAP Free Energies\n",
      "monitor:  -126.876431543 301.70528613 174.892402673\n",
      "[EMF_RBM] Iteration 2, pseudo-likelihood = -174.57, time = 30.60s\n",
      "computing TAP Free Energies\n",
      "monitor:  -123.835677423 298.341754527 174.566159317\n",
      "[EMF_RBM] Iteration 3, pseudo-likelihood = -172.51, time = 30.88s\n",
      "computing TAP Free Energies\n",
      "monitor:  -121.368673483 294.932780093 173.622717564\n",
      "[EMF_RBM] Iteration 4, pseudo-likelihood = -174.08, time = 30.69s\n",
      "computing TAP Free Energies\n",
      "monitor:  -115.731748899 286.478689788 170.800348911\n",
      "[EMF_RBM] Iteration 5, pseudo-likelihood = -175.43, time = 30.70s\n",
      "computing TAP Free Energies\n",
      "monitor:  -112.080512174 280.860350633 168.830220505\n",
      "[EMF_RBM] Iteration 6, pseudo-likelihood = -176.26, time = 30.60s\n",
      "computing TAP Free Energies\n",
      "monitor:  -109.995237628 277.622128221 167.67543674\n",
      "[EMF_RBM] Iteration 7, pseudo-likelihood = -172.05, time = 30.81s\n",
      "computing TAP Free Energies\n",
      "monitor:  -108.617375689 275.446709669 166.876438805\n",
      "[EMF_RBM] Iteration 8, pseudo-likelihood = -174.26, time = 30.81s\n",
      "computing TAP Free Energies\n",
      "monitor:  -107.771938671 274.212548457 166.486906797\n",
      "[EMF_RBM] Iteration 9, pseudo-likelihood = -175.59, time = 30.69s\n",
      "computing TAP Free Energies\n",
      "monitor:  -107.084197194 273.049495323 166.011023269\n",
      "[EMF_RBM] Iteration 10, pseudo-likelihood = -176.47, time = 30.69s\n",
      "computing TAP Free Energies\n",
      "monitor:  -106.644779246 272.316280995 165.716590035\n",
      "[EMF_RBM] Iteration 11, pseudo-likelihood = -170.51, time = 30.74s\n",
      "computing TAP Free Energies\n",
      "monitor:  -106.574413972 272.249380006 165.720279211\n",
      "[EMF_RBM] Iteration 12, pseudo-likelihood = -172.90, time = 30.73s\n",
      "computing TAP Free Energies\n",
      "monitor:  -106.142332292 271.399669947 165.302093008\n",
      "[EMF_RBM] Iteration 13, pseudo-likelihood = -176.02, time = 30.79s\n",
      "computing TAP Free Energies\n",
      "monitor:  -106.05450659 271.267380951 165.257763583\n",
      "[EMF_RBM] Iteration 14, pseudo-likelihood = -177.06, time = 30.74s\n",
      "computing TAP Free Energies\n",
      "monitor:  -105.906327831 270.880779939 165.018633205\n",
      "[EMF_RBM] Iteration 15, pseudo-likelihood = -171.46, time = 31.03s\n",
      "computing TAP Free Energies\n",
      "monitor:  -105.606946516 270.241277885 164.678627134\n",
      "[EMF_RBM] Iteration 16, pseudo-likelihood = -171.81, time = 30.81s\n",
      "computing TAP Free Energies\n",
      "monitor:  -105.485706587 270.088639209 164.647293186\n",
      "[EMF_RBM] Iteration 17, pseudo-likelihood = -175.91, time = 31.29s\n",
      "computing TAP Free Energies\n",
      "monitor:  -105.221413834 269.607478484 164.429915256\n",
      "[EMF_RBM] Iteration 18, pseudo-likelihood = -172.92, time = 30.74s\n",
      "computing TAP Free Energies\n",
      "monitor:  -105.158108024 269.435252263 164.321231098\n",
      "[EMF_RBM] Iteration 19, pseudo-likelihood = -174.14, time = 30.72s\n",
      "computing TAP Free Energies\n",
      "monitor:  -104.98993389 269.07564228 164.129200749\n",
      "[EMF_RBM] Iteration 20, pseudo-likelihood = -174.59, time = 30.62s\n",
      "computing TAP Free Energies\n",
      "monitor:  -104.863355592 268.915711477 164.096113673\n",
      "[EMF_RBM] Iteration 21, pseudo-likelihood = -177.20, time = 30.74s\n",
      "computing TAP Free Energies\n",
      "monitor:  -104.799984739 268.700928539 163.944384704\n",
      "[EMF_RBM] Iteration 22, pseudo-likelihood = -176.43, time = 30.75s\n",
      "computing TAP Free Energies\n",
      "monitor:  -104.697826416 268.59607388 163.941581435\n",
      "[EMF_RBM] Iteration 23, pseudo-likelihood = -173.94, time = 31.01s\n",
      "computing TAP Free Energies\n",
      "monitor:  -104.724303071 268.50932901 163.828519284\n",
      "[EMF_RBM] Iteration 24, pseudo-likelihood = -170.66, time = 30.75s\n",
      "computing TAP Free Energies\n",
      "monitor:  -104.558156557 268.093549041 163.578488403\n",
      "[EMF_RBM] Iteration 25, pseudo-likelihood = -176.16, time = 30.86s\n",
      "computing TAP Free Energies\n",
      "monitor:  -104.542664676 268.043386063 163.543785\n",
      "[EMF_RBM] Iteration 26, pseudo-likelihood = -168.00, time = 30.79s\n",
      "computing TAP Free Energies\n",
      "monitor:  -104.467219832 267.745689723 163.321416637\n",
      "[EMF_RBM] Iteration 27, pseudo-likelihood = -177.80, time = 30.77s\n",
      "computing TAP Free Energies\n",
      "monitor:  -104.309923209 267.481462119 163.214199807\n",
      "[EMF_RBM] Iteration 28, pseudo-likelihood = -173.86, time = 30.76s\n",
      "computing TAP Free Energies\n",
      "monitor:  -104.263389263 267.262542704 163.042173278\n",
      "[EMF_RBM] Iteration 29, pseudo-likelihood = -175.40, time = 30.82s\n",
      "computing TAP Free Energies\n",
      "monitor:  -104.211003845 267.205426359 163.036893643\n",
      "[EMF_RBM] Iteration 30, pseudo-likelihood = -171.68, time = 30.93s\n",
      "computing TAP Free Energies\n",
      "monitor:  -103.938348376 266.560987598 162.665393507\n",
      "[EMF_RBM] Iteration 31, pseudo-likelihood = -177.76, time = 30.87s\n",
      "computing TAP Free Energies\n",
      "monitor:  -103.853390923 266.394197364 162.583447065\n",
      "[EMF_RBM] Iteration 32, pseudo-likelihood = -170.16, time = 31.03s\n",
      "computing TAP Free Energies\n",
      "monitor:  -103.706081908 266.075190269 162.410958971\n",
      "[EMF_RBM] Iteration 33, pseudo-likelihood = -173.20, time = 30.68s\n",
      "computing TAP Free Energies\n",
      "monitor:  -103.593737314 265.824198893 162.272644126\n",
      "[EMF_RBM] Iteration 34, pseudo-likelihood = -172.39, time = 30.68s\n",
      "computing TAP Free Energies\n",
      "monitor:  -103.456964205 265.552888363 162.137743196\n",
      "[EMF_RBM] Iteration 35, pseudo-likelihood = -171.19, time = 30.74s\n",
      "computing TAP Free Energies\n",
      "monitor:  -103.545132944 265.790169209 162.287191355\n",
      "[EMF_RBM] Iteration 36, pseudo-likelihood = -169.70, time = 30.82s\n",
      "computing TAP Free Energies\n",
      "monitor:  -103.361942086 265.39623771 162.076088999\n",
      "[EMF_RBM] Iteration 37, pseudo-likelihood = -174.09, time = 31.04s\n",
      "computing TAP Free Energies\n",
      "monitor:  -103.299335639 265.237615904 161.980146746\n",
      "[EMF_RBM] Iteration 38, pseudo-likelihood = -170.84, time = 31.01s\n",
      "computing TAP Free Energies\n",
      "monitor:  -103.182494739 265.059872435 161.919355236\n",
      "[EMF_RBM] Iteration 39, pseudo-likelihood = -176.89, time = 31.08s\n",
      "computing TAP Free Energies\n",
      "monitor:  -103.221184694 265.054546849 161.874876859\n",
      "[EMF_RBM] Iteration 40, pseudo-likelihood = -174.63, time = 31.01s\n",
      "computing TAP Free Energies\n",
      "monitor:  -103.141148666 264.88308202 161.782989754\n",
      "[EMF_RBM] Iteration 41, pseudo-likelihood = -172.50, time = 31.61s\n",
      "computing TAP Free Energies\n",
      "monitor:  -103.031526024 264.711397748 161.721460609\n",
      "[EMF_RBM] Iteration 42, pseudo-likelihood = -177.21, time = 31.01s\n",
      "computing TAP Free Energies\n",
      "monitor:  -103.163144567 264.900021582 161.778480095\n",
      "[EMF_RBM] Iteration 43, pseudo-likelihood = -173.35, time = 31.31s\n",
      "computing TAP Free Energies\n",
      "monitor:  -103.107737311 264.778531828 161.712390774\n",
      "[EMF_RBM] Iteration 44, pseudo-likelihood = -176.98, time = 31.60s\n",
      "computing TAP Free Energies\n",
      "monitor:  -103.024583605 264.569073629 161.585984247\n",
      "[EMF_RBM] Iteration 45, pseudo-likelihood = -171.87, time = 31.74s\n",
      "computing TAP Free Energies\n",
      "monitor:  -102.996281124 264.456817087 161.501865652\n",
      "[EMF_RBM] Iteration 46, pseudo-likelihood = -181.58, time = 31.67s\n",
      "computing TAP Free Energies\n",
      "monitor:  -102.863036375 264.288652605 161.467205497\n",
      "[EMF_RBM] Iteration 47, pseudo-likelihood = -174.49, time = 31.59s\n",
      "computing TAP Free Energies\n",
      "monitor:  -102.909467585 264.322872454 161.454387267\n",
      "[EMF_RBM] Iteration 48, pseudo-likelihood = -172.13, time = 31.68s\n",
      "computing TAP Free Energies\n",
      "monitor:  -102.911795843 264.356454145 161.48578116\n",
      "[EMF_RBM] Iteration 49, pseudo-likelihood = -174.58, time = 31.37s\n",
      "computing TAP Free Energies\n",
      "monitor:  -102.884957594 264.253660078 161.409993012\n",
      "[EMF_RBM] Iteration 50, pseudo-likelihood = -171.34, time = 31.46s\n",
      "computing TAP Free Energies\n",
      "monitor:  -102.88329695 264.263479822 161.421614596\n",
      "[EMF_RBM] Iteration 51, pseudo-likelihood = -174.35, time = 31.32s\n",
      "computing TAP Free Energies\n",
      "monitor:  -102.671691769 263.787356263 161.156808269\n",
      "[EMF_RBM] Iteration 52, pseudo-likelihood = -174.61, time = 31.66s\n",
      "computing TAP Free Energies\n",
      "monitor:  -102.658863 263.881770767 161.264148551\n",
      "[EMF_RBM] Iteration 53, pseudo-likelihood = -175.89, time = 31.35s\n",
      "computing TAP Free Energies\n",
      "monitor:  -102.759149997 263.949911152 161.232296619\n",
      "[EMF_RBM] Iteration 54, pseudo-likelihood = -170.25, time = 30.97s\n",
      "computing TAP Free Energies\n",
      "monitor:  -102.635110542 263.827073568 161.233270164\n",
      "[EMF_RBM] Iteration 55, pseudo-likelihood = -173.27, time = 31.21s\n",
      "computing TAP Free Energies\n",
      "monitor:  -102.632949215 263.680728787 161.088621733\n",
      "[EMF_RBM] Iteration 56, pseudo-likelihood = -172.23, time = 31.45s\n",
      "computing TAP Free Energies\n",
      "monitor:  -102.668023074 263.797998376 161.171410695\n",
      "[EMF_RBM] Iteration 57, pseudo-likelihood = -175.04, time = 31.36s\n",
      "computing TAP Free Energies\n",
      "monitor:  -102.575188453 263.665635717 161.131478081\n",
      "[EMF_RBM] Iteration 58, pseudo-likelihood = -176.46, time = 31.19s\n",
      "computing TAP Free Energies\n",
      "monitor:  -102.638918174 263.692999632 161.095314451\n",
      "[EMF_RBM] Iteration 59, pseudo-likelihood = -173.58, time = 31.26s\n",
      "computing TAP Free Energies\n",
      "monitor:  -102.595855284 263.6463151 161.091570444\n",
      "[EMF_RBM] Iteration 60, pseudo-likelihood = -172.72, time = 31.31s\n",
      "computing TAP Free Energies\n",
      "monitor:  -102.600991401 263.558035385 160.997895145\n",
      "[EMF_RBM] Iteration 61, pseudo-likelihood = -174.50, time = 31.43s\n",
      "computing TAP Free Energies\n",
      "monitor:  -102.481639602 263.370027686 160.929161473\n",
      "[EMF_RBM] Iteration 62, pseudo-likelihood = -178.40, time = 31.30s\n",
      "computing TAP Free Energies\n",
      "monitor:  -102.572567316 263.548292333 161.016668704\n",
      "[EMF_RBM] Iteration 63, pseudo-likelihood = -178.62, time = 31.34s\n",
      "computing TAP Free Energies\n",
      "monitor:  -102.546614914 263.455705847 160.950456702\n",
      "[EMF_RBM] Iteration 64, pseudo-likelihood = -175.11, time = 31.03s\n",
      "computing TAP Free Energies\n",
      "monitor:  -102.569658841 263.464197571 160.935762168\n",
      "[EMF_RBM] Iteration 65, pseudo-likelihood = -174.43, time = 31.17s\n",
      "computing TAP Free Energies\n",
      "monitor:  -102.445322529 263.31956134 160.915277512\n",
      "[EMF_RBM] Iteration 66, pseudo-likelihood = -166.52, time = 31.37s\n",
      "computing TAP Free Energies\n",
      "monitor:  -102.479876029 263.388250736 160.949104328\n",
      "[EMF_RBM] Iteration 67, pseudo-likelihood = -170.62, time = 31.44s\n",
      "computing TAP Free Energies\n",
      "monitor:  -102.572548454 263.520314238 160.988854173\n",
      "[EMF_RBM] Iteration 68, pseudo-likelihood = -176.47, time = 31.01s\n",
      "computing TAP Free Energies\n",
      "monitor:  -102.41156837 263.176226271 160.805512435\n",
      "[EMF_RBM] Iteration 69, pseudo-likelihood = -174.18, time = 30.92s\n",
      "computing TAP Free Energies\n",
      "monitor:  -102.47033909 263.286941955 160.857430567\n",
      "[EMF_RBM] Iteration 70, pseudo-likelihood = -173.63, time = 31.28s\n",
      "computing TAP Free Energies\n",
      "monitor:  -102.509530674 263.362685765 160.894060083\n",
      "[EMF_RBM] Iteration 71, pseudo-likelihood = -170.86, time = 31.12s\n",
      "computing TAP Free Energies\n",
      "monitor:  -102.382146405 263.128229191 160.786922648\n",
      "[EMF_RBM] Iteration 72, pseudo-likelihood = -174.57, time = 31.13s\n",
      "computing TAP Free Energies\n",
      "monitor:  -102.515760351 263.378611071 160.903871717\n",
      "[EMF_RBM] Iteration 73, pseudo-likelihood = -175.01, time = 30.90s\n",
      "computing TAP Free Energies\n",
      "monitor:  -102.360670951 262.982823978 160.662757538\n",
      "[EMF_RBM] Iteration 74, pseudo-likelihood = -174.33, time = 30.97s\n",
      "computing TAP Free Energies\n",
      "monitor:  -102.403551505 263.184576877 160.821867308\n",
      "[EMF_RBM] Iteration 75, pseudo-likelihood = -175.06, time = 31.13s\n",
      "computing TAP Free Energies\n",
      "monitor:  -102.41298587 263.177392647 160.80540914\n",
      "[EMF_RBM] Iteration 76, pseudo-likelihood = -172.69, time = 31.17s\n",
      "computing TAP Free Energies\n",
      "monitor:  -102.255213435 262.837021271 160.622674565\n",
      "[EMF_RBM] Iteration 77, pseudo-likelihood = -177.70, time = 30.71s\n",
      "computing TAP Free Energies\n",
      "monitor:  -102.324784128 263.0752608 160.791663718\n",
      "[EMF_RBM] Iteration 78, pseudo-likelihood = -174.03, time = 30.80s\n",
      "computing TAP Free Energies\n",
      "monitor:  -102.363943526 263.059147365 160.736168571\n",
      "[EMF_RBM] Iteration 79, pseudo-likelihood = -178.39, time = 30.91s\n",
      "computing TAP Free Energies\n",
      "monitor:  -102.263582436 262.795220787 160.572621596\n",
      "[EMF_RBM] Iteration 80, pseudo-likelihood = -176.88, time = 30.73s\n",
      "computing TAP Free Energies\n",
      "monitor:  -102.364695203 263.066784908 160.742917866\n",
      "[EMF_RBM] Iteration 81, pseudo-likelihood = -178.36, time = 30.84s\n",
      "computing TAP Free Energies\n",
      "monitor:  -102.304353648 262.935480951 160.67186554\n",
      "[EMF_RBM] Iteration 82, pseudo-likelihood = -171.87, time = 31.12s\n",
      "computing TAP Free Energies\n",
      "monitor:  -102.340209908 262.963019437 160.663807943\n",
      "[EMF_RBM] Iteration 83, pseudo-likelihood = -178.16, time = 30.90s\n",
      "computing TAP Free Energies\n",
      "monitor:  -102.304376402 262.884862134 160.621069017\n",
      "[EMF_RBM] Iteration 84, pseudo-likelihood = -176.71, time = 30.87s\n",
      "computing TAP Free Energies\n",
      "monitor:  -102.348056944 262.940673333 160.633383813\n",
      "[EMF_RBM] Iteration 85, pseudo-likelihood = -174.92, time = 30.81s\n",
      "computing TAP Free Energies\n",
      "monitor:  -102.267284415 262.907337001 160.680986437\n",
      "[EMF_RBM] Iteration 86, pseudo-likelihood = -178.18, time = 30.77s\n",
      "computing TAP Free Energies\n",
      "monitor:  -102.187507797 262.612323705 160.465174162\n",
      "[EMF_RBM] Iteration 87, pseudo-likelihood = -172.02, time = 30.97s\n",
      "computing TAP Free Energies\n",
      "monitor:  -102.275361875 262.798625224 160.564219245\n",
      "[EMF_RBM] Iteration 88, pseudo-likelihood = -175.48, time = 30.77s\n",
      "computing TAP Free Energies\n",
      "monitor:  -102.281181735 262.882710801 160.642213462\n",
      "[EMF_RBM] Iteration 89, pseudo-likelihood = -175.32, time = 30.75s\n",
      "computing TAP Free Energies\n",
      "monitor:  -102.323752211 262.881617243 160.598576364\n",
      "[EMF_RBM] Iteration 90, pseudo-likelihood = -171.48, time = 30.71s\n",
      "computing TAP Free Energies\n",
      "monitor:  -102.327010833 262.890353982 160.603989002\n",
      "[EMF_RBM] Iteration 91, pseudo-likelihood = -173.85, time = 30.75s\n",
      "computing TAP Free Energies\n",
      "monitor:  -102.270828948 262.835719465 160.605405107\n",
      "[EMF_RBM] Iteration 92, pseudo-likelihood = -176.58, time = 30.79s\n",
      "computing TAP Free Energies\n",
      "monitor:  -102.164976681 262.561742964 160.437662144\n",
      "[EMF_RBM] Iteration 93, pseudo-likelihood = -172.33, time = 30.76s\n",
      "computing TAP Free Energies\n",
      "monitor:  -102.316077838 262.899737077 160.624503789\n",
      "[EMF_RBM] Iteration 94, pseudo-likelihood = -174.04, time = 30.97s\n",
      "computing TAP Free Energies\n",
      "monitor:  -102.137044915 262.448218149 160.351341499\n",
      "[EMF_RBM] Iteration 95, pseudo-likelihood = -173.95, time = 31.66s\n",
      "computing TAP Free Energies\n",
      "monitor:  -102.244499541 262.734035535 160.530277605\n",
      "[EMF_RBM] Iteration 96, pseudo-likelihood = -173.45, time = 31.18s\n",
      "computing TAP Free Energies\n",
      "monitor:  -102.148786876 262.569740763 160.461753346\n",
      "[EMF_RBM] Iteration 97, pseudo-likelihood = -177.72, time = 30.89s\n",
      "computing TAP Free Energies\n",
      "monitor:  -102.228284106 262.647958629 160.46036673\n",
      "[EMF_RBM] Iteration 98, pseudo-likelihood = -174.32, time = 30.81s\n",
      "computing TAP Free Energies\n",
      "monitor:  -102.226947585 262.700088187 160.513716753\n",
      "[EMF_RBM] Iteration 99, pseudo-likelihood = -174.38, time = 30.96s\n",
      "computing TAP Free Energies\n",
      "monitor:  -102.158311692 262.572185601 160.454442777\n",
      "[EMF_RBM] Iteration 100, pseudo-likelihood = -176.33, time = 30.85s\n",
      "computing TAP Free Energies\n",
      "monitor:  -102.18016095 262.65435065 160.514664039\n",
      "LinearSVC(C=1.0, class_weight=None, dual=True, fit_intercept=True,\n",
      "     intercept_scaling=1, loss='squared_hinge', max_iter=1000,\n",
      "     multi_class='ovr', penalty='l2', random_state=None, tol=0.0001,\n",
      "     verbose=0) 0.180173482032\n"
     ]
    }
   ],
   "source": [
    "rbm = emf_rbm.EMF_RBM(verbose=True, monitor=True, learning_rate=0.1, n_iter=100, batch_size=10, weight_decay='L1', decay=0.5 )\n",
    "print rbm\n",
    "rbm= rbm.fit(X_train)\n",
    "\n",
    "F_train = rbm.transform(X_train)\n",
    "F_test = rbm.transform(X_test)\n",
    "\n",
    "classifier = LinearSVC(C=1.0)\n",
    "classifier.fit(F_train, train_y)\n",
    "pred_y = classifier.predict(F_test)\n",
    "emf_accuracy = accuracy_score(y_pred=pred_y, y_true=test_y)\n",
    "print classifier, emf_accuracy"
   ]
  },
  {
   "cell_type": "code",
   "execution_count": 23,
   "metadata": {
    "ExecuteTime": {
     "end_time": "2017-03-07T02:57:15.269393",
     "start_time": "2017-03-07T02:57:15.020985"
    },
    "collapsed": false
   },
   "outputs": [
    {
     "data": {
      "text/plain": [
       "<matplotlib.text.Text at 0x12378b090>"
      ]
     },
     "execution_count": 23,
     "metadata": {},
     "output_type": "execute_result"
    },
    {
     "data": {
      "image/png": "[encoded data removed]",
      "text/plain": [
       "<matplotlib.figure.Figure at 0x10e4b8210>"
      ]
     },
     "metadata": {},
     "output_type": "display_data"
    }
   ],
   "source": [
    "plt.plot(rbm.entropies-rbm.entropies[0], color='red', label='Entropy')\n",
    "plt.plot(rbm.mean_field_energies-rbm.mean_field_energies[0], color='blue', label='MF Energy')\n",
    "plt.plot(rbm.free_energies-rbm.free_energies[0], color='green', label='Free Energy')\n",
    "plt.legend(loc='upper right')\n",
    "plt.title(\"Ominglot: Free Energy, Mean Field Enegry, & Entropy vs Epochs\")"
   ]
  },
  {
   "cell_type": "code",
   "execution_count": null,
   "metadata": {
    "collapsed": true
   },
   "outputs": [],
   "source": []
  },
  {
   "cell_type": "code",
   "execution_count": 24,
   "metadata": {
    "ExecuteTime": {
     "end_time": "2017-03-07T02:57:15.017317",
     "start_time": "2017-03-07T01:18:10.923230"
    },
    "collapsed": false
   },
   "outputs": [
    {
     "name": "stdout",
     "output_type": "stream",
     "text": [
      "EMF_RBM(batch_size=10, decay=0.5, learning_rate=0.1, momentum=0.5,\n",
      "    monitor=True, n_components=256, n_iter=100, neq_steps=10,\n",
      "    random_state=<mtrand.RandomState object at 0x106f88780>, sigma=0.001,\n",
      "    thresh=1e-08, verbose=True, weight_decay='L1')\n",
      "[EMF_RBM] Iteration 1, pseudo-likelihood = -176.27, time = 35.99s\n",
      "computing TAP Free Energies\n",
      "monitor:  -119.9534535 293.294947637 173.398776247\n",
      "[EMF_RBM] Iteration 2, pseudo-likelihood = -171.71, time = 59.15s\n",
      "computing TAP Free Energies\n",
      "monitor:  -113.99841355 284.159026126 170.213003753\n",
      "[EMF_RBM] Iteration 3, pseudo-likelihood = -173.02, time = 58.27s\n",
      "computing TAP Free Energies\n",
      "monitor:  -109.328370023 276.606591488 167.326383633\n",
      "[EMF_RBM] Iteration 4, pseudo-likelihood = -173.47, time = 57.65s\n",
      "computing TAP Free Energies\n",
      "monitor:  -106.917050171 272.492940322 165.620963106\n",
      "[EMF_RBM] Iteration 5, pseudo-likelihood = -171.81, time = 58.37s\n",
      "computing TAP Free Energies\n",
      "monitor:  -105.215383263 269.603514864 164.431522918\n",
      "[EMF_RBM] Iteration 6, pseudo-likelihood = -172.37, time = 57.85s\n",
      "computing TAP Free Energies\n",
      "monitor:  -104.292730514 267.838884043 163.58819951\n",
      "[EMF_RBM] Iteration 7, pseudo-likelihood = -168.26, time = 57.79s\n",
      "computing TAP Free Energies\n",
      "monitor:  -103.853847303 267.220077538 163.408025039\n",
      "[EMF_RBM] Iteration 8, pseudo-likelihood = -173.17, time = 57.77s\n",
      "computing TAP Free Energies\n",
      "monitor:  -103.483781238 266.5250416 163.082573694\n",
      "[EMF_RBM] Iteration 9, pseudo-likelihood = -178.44, time = 57.60s\n",
      "computing TAP Free Energies\n",
      "monitor:  -103.20104604 265.876449566 162.716823967\n",
      "[EMF_RBM] Iteration 10, pseudo-likelihood = -180.71, time = 57.89s\n",
      "computing TAP Free Energies\n",
      "monitor:  -103.083418413 265.732370442 162.690245245\n",
      "[EMF_RBM] Iteration 11, pseudo-likelihood = -173.25, time = 58.05s\n",
      "computing TAP Free Energies\n",
      "monitor:  -102.826456945 265.090763804 162.305447303\n",
      "[EMF_RBM] Iteration 12, pseudo-likelihood = -174.60, time = 57.70s\n",
      "computing TAP Free Energies\n",
      "monitor:  -102.641090378 264.85986641 162.259611865\n",
      "[EMF_RBM] Iteration 13, pseudo-likelihood = -180.68, time = 57.65s\n",
      "computing TAP Free Energies\n",
      "monitor:  -102.442583419 264.377374885 161.975254749\n",
      "[EMF_RBM] Iteration 14, pseudo-likelihood = -171.88, time = 57.74s\n",
      "computing TAP Free Energies\n",
      "monitor:  -102.382687618 264.24819266 161.906129665\n",
      "[EMF_RBM] Iteration 15, pseudo-likelihood = -177.95, time = 57.64s\n",
      "computing TAP Free Energies\n",
      "monitor:  -102.256595696 263.985712844 161.769243429\n",
      "[EMF_RBM] Iteration 16, pseudo-likelihood = -172.62, time = 57.71s\n",
      "computing TAP Free Energies\n",
      "monitor:  -102.161878995 263.741034068 161.619425125\n",
      "[EMF_RBM] Iteration 17, pseudo-likelihood = -177.33, time = 57.58s\n",
      "computing TAP Free Energies\n",
      "monitor:  -102.02659184 263.488902029 161.502465239\n",
      "[EMF_RBM] Iteration 18, pseudo-likelihood = -174.47, time = 57.57s\n",
      "computing TAP Free Energies\n",
      "monitor:  -101.991107339 263.364666349 161.4136012\n",
      "[EMF_RBM] Iteration 19, pseudo-likelihood = -175.22, time = 57.77s\n",
      "computing TAP Free Energies\n",
      "monitor:  -101.912364391 263.227102162 161.354657697\n",
      "[EMF_RBM] Iteration 20, pseudo-likelihood = -172.80, time = 57.51s\n",
      "computing TAP Free Energies\n",
      "monitor:  -101.894200608 263.247045567 161.392830315\n",
      "[EMF_RBM] Iteration 21, pseudo-likelihood = -171.99, time = 57.73s\n",
      "computing TAP Free Energies\n",
      "monitor:  -101.745599993 262.865173031 161.159727879\n",
      "[EMF_RBM] Iteration 22, pseudo-likelihood = -173.45, time = 57.52s\n",
      "computing TAP Free Energies\n",
      "monitor:  -101.780797966 262.896702971 161.155628653\n",
      "[EMF_RBM] Iteration 23, pseudo-likelihood = -175.47, time = 57.59s\n",
      "computing TAP Free Energies\n",
      "monitor:  -101.728905406 262.784065716 161.094731862\n",
      "[EMF_RBM] Iteration 24, pseudo-likelihood = -170.83, time = 57.78s\n",
      "computing TAP Free Energies\n",
      "monitor:  -101.596084965 262.463316352 160.906571192\n",
      "[EMF_RBM] Iteration 25, pseudo-likelihood = -172.79, time = 58.05s\n",
      "computing TAP Free Energies\n",
      "monitor:  -101.592269917 262.514670939 160.961897755\n",
      "[EMF_RBM] Iteration 26, pseudo-likelihood = -173.89, time = 58.56s\n",
      "computing TAP Free Energies\n",
      "monitor:  -101.675919913 262.703274112 161.066895491\n",
      "[EMF_RBM] Iteration 27, pseudo-likelihood = -171.87, time = 60.30s\n",
      "computing TAP Free Energies\n",
      "monitor:  -101.597045696 262.493981992 160.936706466\n",
      "[EMF_RBM] Iteration 28, pseudo-likelihood = -174.29, time = 58.99s\n",
      "computing TAP Free Energies\n",
      "monitor:  -101.63203661 262.615046065 161.022969279\n",
      "[EMF_RBM] Iteration 29, pseudo-likelihood = -175.71, time = 59.58s\n",
      "computing TAP Free Energies\n",
      "monitor:  -101.605615464 262.492619745 160.926698461\n",
      "[EMF_RBM] Iteration 30, pseudo-likelihood = -173.27, time = 59.81s\n",
      "computing TAP Free Energies\n",
      "monitor:  -101.487350683 262.226483107 160.778418177\n",
      "[EMF_RBM] Iteration 31, pseudo-likelihood = -171.69, time = 60.26s\n",
      "computing TAP Free Energies\n",
      "monitor:  -101.622994562 262.517803004 160.934452032\n",
      "[EMF_RBM] Iteration 32, pseudo-likelihood = -178.64, time = 59.77s\n",
      "computing TAP Free Energies\n",
      "monitor:  -101.488813399 262.264626041 160.815511055\n",
      "[EMF_RBM] Iteration 33, pseudo-likelihood = -171.38, time = 60.40s\n",
      "computing TAP Free Energies\n",
      "monitor:  -101.398309599 261.961680073 160.60249243\n",
      "[EMF_RBM] Iteration 34, pseudo-likelihood = -174.44, time = 59.79s\n",
      "computing TAP Free Energies\n",
      "monitor:  -101.580127254 262.369460853 160.828947379\n",
      "[EMF_RBM] Iteration 35, pseudo-likelihood = -171.70, time = 59.31s\n",
      "computing TAP Free Energies\n",
      "monitor:  -101.507755286 262.230495341 160.762294434\n",
      "[EMF_RBM] Iteration 36, pseudo-likelihood = -171.18, time = 60.06s\n",
      "computing TAP Free Energies\n",
      "monitor:  -101.52626858 262.220804004 160.733822791\n",
      "[EMF_RBM] Iteration 37, pseudo-likelihood = -168.14, time = 59.39s\n",
      "computing TAP Free Energies\n",
      "monitor:  -101.512641423 262.224392631 160.751113766\n",
      "[EMF_RBM] Iteration 38, pseudo-likelihood = -168.43, time = 58.89s\n",
      "computing TAP Free Energies\n",
      "monitor:  -101.381235042 261.88422735 160.542445947\n",
      "[EMF_RBM] Iteration 39, pseudo-likelihood = -166.24, time = 58.68s\n",
      "computing TAP Free Energies\n",
      "monitor:  -101.42117736 261.927506707 160.545716542\n",
      "[EMF_RBM] Iteration 40, pseudo-likelihood = -173.43, time = 58.88s\n",
      "computing TAP Free Energies\n",
      "monitor:  -101.435060314 262.074381579 160.678447232\n",
      "[EMF_RBM] Iteration 41, pseudo-likelihood = -172.34, time = 58.92s\n",
      "computing TAP Free Energies\n",
      "monitor:  -101.297004474 261.724757916 160.4666226\n",
      "[EMF_RBM] Iteration 42, pseudo-likelihood = -176.40, time = 58.76s\n",
      "computing TAP Free Energies\n",
      "monitor:  -101.367519175 261.803314694 160.475277939\n",
      "[EMF_RBM] Iteration 43, pseudo-likelihood = -177.27, time = 57.69s\n",
      "computing TAP Free Energies\n",
      "monitor:  -101.346613103 261.769423322 160.462052722\n",
      "[EMF_RBM] Iteration 44, pseudo-likelihood = -180.69, time = 58.04s\n",
      "computing TAP Free Energies\n",
      "monitor:  -101.249089478 261.599716883 160.389695159\n",
      "[EMF_RBM] Iteration 45, pseudo-likelihood = -170.68, time = 57.75s\n",
      "computing TAP Free Energies\n",
      "monitor:  -101.278848467 261.654272295 160.414509234\n",
      "[EMF_RBM] Iteration 46, pseudo-likelihood = -171.40, time = 57.90s\n",
      "computing TAP Free Energies\n",
      "monitor:  -101.32475045 261.781975936 160.49612026\n",
      "[EMF_RBM] Iteration 47, pseudo-likelihood = -175.96, time = 57.61s\n",
      "computing TAP Free Energies\n",
      "monitor:  -101.281022472 261.60765845 160.365861788\n",
      "[EMF_RBM] Iteration 48, pseudo-likelihood = -172.32, time = 57.52s\n",
      "computing TAP Free Energies\n",
      "monitor:  -101.348299918 261.6963609 160.386684838\n",
      "[EMF_RBM] Iteration 49, pseudo-likelihood = -174.18, time = 57.90s\n",
      "computing TAP Free Energies\n",
      "monitor:  -101.292307829 261.6497345 160.396342563\n",
      "[EMF_RBM] Iteration 50, pseudo-likelihood = -175.53, time = 58.26s\n",
      "computing TAP Free Energies\n",
      "monitor:  -101.266659587 261.584419279 160.356886521\n",
      "[EMF_RBM] Iteration 51, pseudo-likelihood = -171.45, time = 58.09s\n",
      "computing TAP Free Energies\n",
      "monitor:  -101.233618845 261.522335167 160.327488409\n",
      "[EMF_RBM] Iteration 52, pseudo-likelihood = -173.34, time = 57.47s\n",
      "computing TAP Free Energies\n",
      "monitor:  -101.246346303 261.524033902 160.31696603\n",
      "[EMF_RBM] Iteration 53, pseudo-likelihood = -176.04, time = 57.71s\n",
      "computing TAP Free Energies\n",
      "monitor:  -101.233772856 261.467427759 160.272389948\n",
      "[EMF_RBM] Iteration 54, pseudo-likelihood = -179.22, time = 57.92s\n",
      "computing TAP Free Energies\n",
      "monitor:  -101.114320893 261.187158554 160.111919849\n",
      "[EMF_RBM] Iteration 55, pseudo-likelihood = -175.81, time = 57.75s\n",
      "computing TAP Free Energies\n",
      "monitor:  -101.26158233 261.591310702 160.368630861\n",
      "[EMF_RBM] Iteration 56, pseudo-likelihood = -173.65, time = 57.61s\n",
      "computing TAP Free Energies\n",
      "monitor:  -101.222519466 261.399693388 160.216131092\n",
      "[EMF_RBM] Iteration 57, pseudo-likelihood = -176.87, time = 57.76s\n",
      "computing TAP Free Energies\n",
      "monitor:  -101.111277615 261.136042898 160.063842442\n",
      "[EMF_RBM] Iteration 58, pseudo-likelihood = -169.49, time = 57.62s\n",
      "computing TAP Free Energies\n",
      "monitor:  -101.036620689 260.996008037 159.99860968\n",
      "[EMF_RBM] Iteration 59, pseudo-likelihood = -178.45, time = 57.44s\n",
      "computing TAP Free Energies\n",
      "monitor:  -101.125472399 261.1762956 160.08962457\n",
      "[EMF_RBM] Iteration 60, pseudo-likelihood = -173.33, time = 57.83s\n",
      "computing TAP Free Energies\n",
      "monitor:  -101.181204745 261.283074399 160.140969938\n",
      "[EMF_RBM] Iteration 61, pseudo-likelihood = -169.26, time = 57.87s\n",
      "computing TAP Free Energies\n",
      "monitor:  -101.116791575 261.155237218 160.077136034\n",
      "[EMF_RBM] Iteration 62, pseudo-likelihood = -172.93, time = 57.87s\n",
      "computing TAP Free Energies\n",
      "monitor:  -101.143456988 261.176524911 160.07186742\n",
      "[EMF_RBM] Iteration 63, pseudo-likelihood = -177.81, time = 57.39s\n",
      "computing TAP Free Energies\n",
      "monitor:  -101.215906622 261.433691793 160.256754496\n",
      "[EMF_RBM] Iteration 64, pseudo-likelihood = -175.98, time = 57.83s\n",
      "computing TAP Free Energies\n",
      "monitor:  -101.203225892 261.446533209 160.282629012\n",
      "[EMF_RBM] Iteration 65, pseudo-likelihood = -176.50, time = 57.85s\n",
      "computing TAP Free Energies\n",
      "monitor:  -101.152791214 261.210868484 160.097052201\n",
      "[EMF_RBM] Iteration 66, pseudo-likelihood = -174.78, time = 57.63s\n",
      "computing TAP Free Energies\n",
      "monitor:  -101.204567566 261.270240854 160.104873308\n",
      "[EMF_RBM] Iteration 67, pseudo-likelihood = -175.80, time = 57.90s\n",
      "computing TAP Free Energies\n",
      "monitor:  -101.241455161 261.448640934 160.24616345\n",
      "[EMF_RBM] Iteration 68, pseudo-likelihood = -174.67, time = 57.45s\n",
      "computing TAP Free Energies\n",
      "monitor:  -101.104023523 261.116139195 160.050813653\n",
      "[EMF_RBM] Iteration 69, pseudo-likelihood = -177.48, time = 58.44s\n",
      "computing TAP Free Energies\n",
      "monitor:  -101.113010692 261.045709448 159.971411125\n",
      "[EMF_RBM] Iteration 70, pseudo-likelihood = -176.91, time = 57.71s\n",
      "computing TAP Free Energies\n",
      "monitor:  -101.172061276 261.260289288 160.1270948\n",
      "[EMF_RBM] Iteration 71, pseudo-likelihood = -173.04, time = 57.93s\n",
      "computing TAP Free Energies\n",
      "monitor:  -101.216505288 261.326790825 160.149157632\n",
      "[EMF_RBM] Iteration 72, pseudo-likelihood = -174.83, time = 57.82s\n",
      "computing TAP Free Energies\n",
      "monitor:  -101.167000306 261.338573322 160.210354728\n",
      "[EMF_RBM] Iteration 73, pseudo-likelihood = -173.17, time = 57.77s\n",
      "computing TAP Free Energies\n",
      "monitor:  -101.082194653 261.144507124 160.101150463\n",
      "[EMF_RBM] Iteration 74, pseudo-likelihood = -169.73, time = 57.77s\n",
      "computing TAP Free Energies\n",
      "monitor:  -101.122052534 261.237017672 160.154112455\n",
      "[EMF_RBM] Iteration 75, pseudo-likelihood = -178.20, time = 57.62s\n",
      "computing TAP Free Energies\n",
      "monitor:  -101.031399914 260.941166529 159.948370076\n",
      "[EMF_RBM] Iteration 76, pseudo-likelihood = -171.68, time = 57.82s\n",
      "computing TAP Free Energies\n",
      "monitor:  -101.145169406 261.23006259 160.123521302\n",
      "[EMF_RBM] Iteration 77, pseudo-likelihood = -173.13, time = 58.20s\n",
      "computing TAP Free Energies\n",
      "monitor:  -101.084467419 261.052951148 160.007274282\n",
      "[EMF_RBM] Iteration 78, pseudo-likelihood = -180.19, time = 58.01s\n",
      "computing TAP Free Energies\n",
      "monitor:  -101.11246489 261.115165197 160.041684969\n",
      "[EMF_RBM] Iteration 79, pseudo-likelihood = -169.17, time = 57.67s\n",
      "computing TAP Free Energies\n",
      "monitor:  -101.147813039 261.217862328 160.109049384\n",
      "[EMF_RBM] Iteration 80, pseudo-likelihood = -180.02, time = 57.91s\n",
      "computing TAP Free Energies\n",
      "monitor:  -101.115770405 261.144631159 160.067548563\n",
      "[EMF_RBM] Iteration 81, pseudo-likelihood = -174.60, time = 57.68s\n",
      "computing TAP Free Energies\n",
      "monitor:  -101.068977928 260.89346536 159.862914097\n",
      "[EMF_RBM] Iteration 82, pseudo-likelihood = -175.54, time = 58.06s\n",
      "computing TAP Free Energies\n",
      "monitor:  -101.064989232 260.996765331 159.970602219\n",
      "[EMF_RBM] Iteration 83, pseudo-likelihood = -173.49, time = 58.01s\n",
      "computing TAP Free Energies\n",
      "monitor:  -101.133216292 261.213297688 160.118828376\n",
      "[EMF_RBM] Iteration 84, pseudo-likelihood = -174.82, time = 57.25s\n",
      "computing TAP Free Energies\n",
      "monitor:  -101.091380487 261.039519963 159.986855284\n",
      "[EMF_RBM] Iteration 85, pseudo-likelihood = -175.43, time = 57.77s\n",
      "computing TAP Free Energies\n",
      "monitor:  -101.085799791 261.037296902 159.990442455\n",
      "[EMF_RBM] Iteration 86, pseudo-likelihood = -174.23, time = 57.55s\n",
      "computing TAP Free Energies\n",
      "monitor:  -101.09523954 261.025924411 159.969415394\n",
      "[EMF_RBM] Iteration 87, pseudo-likelihood = -175.97, time = 57.53s\n",
      "computing TAP Free Energies\n",
      "monitor:  -101.126583628 261.062623477 159.975062585\n",
      "[EMF_RBM] Iteration 88, pseudo-likelihood = -172.48, time = 57.75s\n",
      "computing TAP Free Energies\n",
      "monitor:  -101.064555534 260.953538711 159.927883105\n",
      "[EMF_RBM] Iteration 89, pseudo-likelihood = -174.07, time = 57.75s\n",
      "computing TAP Free Energies\n",
      "monitor:  -101.112690774 261.020518751 159.946614821\n",
      "[EMF_RBM] Iteration 90, pseudo-likelihood = -175.68, time = 57.77s\n",
      "computing TAP Free Energies\n",
      "monitor:  -101.015792216 260.822338456 159.844985649\n",
      "[EMF_RBM] Iteration 91, pseudo-likelihood = -176.79, time = 58.46s\n",
      "computing TAP Free Energies\n",
      "monitor:  -101.125792021 261.080559032 159.993844921\n",
      "[EMF_RBM] Iteration 92, pseudo-likelihood = -171.51, time = 58.93s\n",
      "computing TAP Free Energies\n",
      "monitor:  -101.0583913 260.992879597 159.973201345\n",
      "[EMF_RBM] Iteration 93, pseudo-likelihood = -173.83, time = 59.23s\n",
      "computing TAP Free Energies\n",
      "monitor:  -101.04100715 260.947512714 159.945404371\n",
      "[EMF_RBM] Iteration 94, pseudo-likelihood = -176.11, time = 58.86s\n",
      "computing TAP Free Energies\n",
      "monitor:  -101.088086862 260.978403891 159.929288387\n",
      "[EMF_RBM] Iteration 95, pseudo-likelihood = -171.43, time = 59.62s\n",
      "computing TAP Free Energies\n",
      "monitor:  -101.034206351 260.883462462 159.887951619\n",
      "[EMF_RBM] Iteration 96, pseudo-likelihood = -177.36, time = 59.72s\n",
      "computing TAP Free Energies\n",
      "monitor:  -101.049460118 260.900888184 159.890294547\n",
      "[EMF_RBM] Iteration 97, pseudo-likelihood = -176.27, time = 58.78s\n",
      "computing TAP Free Energies\n",
      "monitor:  -101.063841244 260.883236827 159.858350511\n",
      "[EMF_RBM] Iteration 98, pseudo-likelihood = -178.50, time = 59.33s\n",
      "computing TAP Free Energies\n",
      "monitor:  -101.066822251 260.961053489 159.932745245\n",
      "[EMF_RBM] Iteration 99, pseudo-likelihood = -176.17, time = 59.72s\n",
      "computing TAP Free Energies\n",
      "monitor:  -101.129791086 261.052097385 159.960966833\n",
      "[EMF_RBM] Iteration 100, pseudo-likelihood = -175.43, time = 59.21s\n",
      "computing TAP Free Energies\n",
      "monitor:  -101.130632995 261.125140235 160.033418166\n",
      "LinearSVC(C=1.0, class_weight=None, dual=True, fit_intercept=True,\n",
      "     intercept_scaling=1, loss='squared_hinge', max_iter=1000,\n",
      "     multi_class='ovr', penalty='l2', random_state=None, tol=0.0001,\n",
      "     verbose=0) 0.175836431227\n"
     ]
    }
   ],
   "source": [
    "rbm = emf_rbm.EMF_RBM(verbose=True, monitor=True, neq_steps=10, learning_rate=0.1, n_iter=100, batch_size=10, weight_decay='L1', decay=0.5 )\n",
    "print rbm\n",
    "rbm= rbm.fit(X_train)\n",
    "\n",
    "F_train = rbm.transform(X_train)\n",
    "F_test = rbm.transform(X_test)\n",
    "\n",
    "classifier = LinearSVC(C=1.0)\n",
    "classifier.fit(F_train, train_y)\n",
    "pred_y = classifier.predict(F_test)\n",
    "emf_accuracy = accuracy_score(y_pred=pred_y, y_true=test_y)\n",
    "print classifier, emf_accuracy"
   ]
  },
  {
   "cell_type": "code",
   "execution_count": 25,
   "metadata": {
    "ExecuteTime": {
     "end_time": "2017-03-07T02:57:15.269393",
     "start_time": "2017-03-07T02:57:15.020985"
    },
    "collapsed": false
   },
   "outputs": [
    {
     "data": {
      "text/plain": [
       "<matplotlib.text.Text at 0x10e7c8050>"
      ]
     },
     "execution_count": 25,
     "metadata": {},
     "output_type": "execute_result"
    },
    {
     "data": {
      "image/png": "[encoded data removed]",
      "text/plain": [
       "<matplotlib.figure.Figure at 0x123639d10>"
      ]
     },
     "metadata": {},
     "output_type": "display_data"
    }
   ],
   "source": [
    "plt.plot(rbm.entropies-rbm.entropies[0], color='red', label='Entropy')\n",
    "plt.plot(rbm.mean_field_energies-rbm.mean_field_energies[0], color='blue', label='MF Energy')\n",
    "plt.plot(rbm.free_energies-rbm.free_energies[0], color='green', label='Free Energy')\n",
    "plt.legend(loc='upper right')\n",
    "plt.title(\"Ominglot: Free Energy, Mean Field Enegry, & Entropy vs Epochs\")"
   ]
  },
  {
   "cell_type": "code",
   "execution_count": null,
   "metadata": {
    "collapsed": true
   },
   "outputs": [],
   "source": []
  },
  {
   "cell_type": "code",
   "execution_count": null,
   "metadata": {
    "collapsed": true
   },
   "outputs": [],
   "source": []
  },
  {
   "cell_type": "code",
   "execution_count": null,
   "metadata": {
    "collapsed": true
   },
   "outputs": [],
   "source": []
  },
  {
   "cell_type": "code",
   "execution_count": null,
   "metadata": {
    "collapsed": true
   },
   "outputs": [],
   "source": []
  },
  {
   "cell_type": "code",
   "execution_count": null,
   "metadata": {
    "collapsed": true
   },
   "outputs": [],
   "source": []
  },
  {
   "cell_type": "code",
   "execution_count": null,
   "metadata": {
    "collapsed": true
   },
   "outputs": [],
   "source": []
  },
  {
   "cell_type": "code",
   "execution_count": null,
   "metadata": {
    "collapsed": true
   },
   "outputs": [],
   "source": []
  }
 ],
 "metadata": {
  "anaconda-cloud": {},
  "kernelspec": {
   "display_name": "Python [Root]",
   "language": "python",
   "name": "Python [Root]"
  },
  "language_info": {
   "codemirror_mode": {
    "name": "ipython",
    "version": 2
   },
   "file_extension": ".py",
   "mimetype": "text/x-python",
   "name": "python",
   "nbconvert_exporter": "python",
   "pygments_lexer": "ipython2",
   "version": "2.7.12"
  }
 },
 "nbformat": 4,
 "nbformat_minor": 0
}
