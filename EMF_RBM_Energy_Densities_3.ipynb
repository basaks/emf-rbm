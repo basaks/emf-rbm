{
 "cells": [
  {
   "cell_type": "markdown",
   "metadata": {},
   "source": [
    "#  EMF RBM Energy Densities\n",
    "\n",
    "Look at different ways of computing the\n",
    "\n",
    "- energy density\n",
    "- free energy density\n",
    "- entropy density\n",
    "\n",
    "We can\n",
    "\n",
    "- use the TAP S and MF Energy *U_naive   \n",
    "    - which takes an equlibration step first  \n",
    "    - S(mv, mh), U_naive(mv, mh)\n",
    "- use a simple h = means_hiddens() step\n",
    "    - S(v, h), E_MF(v, h)\n"
   ]
  },
  {
   "cell_type": "code",
   "execution_count": 1,
   "metadata": {
    "ExecuteTime": {
     "end_time": "2016-11-08T23:33:50.367876",
     "start_time": "2016-11-08T23:33:50.361534"
    },
    "collapsed": false
   },
   "outputs": [],
   "source": [
    "import numpy as np\n",
    "import h5py\n",
    "\n",
    "import matplotlib\n",
    "import matplotlib as mpl\n",
    "import matplotlib.pyplot as plt\n",
    "%matplotlib inline \n",
    "\n",
    "from sklearn import linear_model, datasets, metrics, preprocessing \n",
    "from sklearn.cross_validation import train_test_split\n",
    "from sklearn.metrics import accuracy_score\n",
    "\n",
    "import psutil"
   ]
  },
  {
   "cell_type": "code",
   "execution_count": 2,
   "metadata": {
    "ExecuteTime": {
     "end_time": "2016-11-08T23:33:50.512461",
     "start_time": "2016-11-08T23:33:50.507597"
    },
    "collapsed": false
   },
   "outputs": [
    {
     "data": {
      "text/plain": [
       "{'divide': 'warn', 'invalid': 'warn', 'over': 'warn', 'under': 'ignore'}"
      ]
     },
     "execution_count": 2,
     "metadata": {},
     "output_type": "execute_result"
    }
   ],
   "source": [
    "from sklearn.datasets import fetch_mldata\n",
    "from sklearn.utils.validation import assert_all_finite\n",
    "from scipy.sparse import csc_matrix, csr_matrix, lil_matrix\n",
    "from sklearn.preprocessing import Binarizer\n",
    "np.seterr(all='warn')"
   ]
  },
  {
   "cell_type": "code",
   "execution_count": 3,
   "metadata": {
    "collapsed": true
   },
   "outputs": [],
   "source": [
    "import rbm_datasets"
   ]
  },
  {
   "cell_type": "code",
   "execution_count": 5,
   "metadata": {
    "collapsed": false
   },
   "outputs": [],
   "source": [
    "train_x, train_t, test_x, test_t  = rbm_datasets."
   ]
  },
  {
   "cell_type": "code",
   "execution_count": 7,
   "metadata": {
    "collapsed": false
   },
   "outputs": [
    {
     "data": {
      "text/plain": [
       "(50000, 32, 32, 3)"
      ]
     },
     "execution_count": 7,
     "metadata": {},
     "output_type": "execute_result"
    }
   ],
   "source": [
    "train_x.shape"
   ]
  },
  {
   "cell_type": "code",
   "execution_count": 6,
   "metadata": {
    "collapsed": false
   },
   "outputs": [
    {
     "ename": "ValueError",
     "evalue": "Found array with dim 4. Estimator expected <= 2.",
     "output_type": "error",
     "traceback": [
      "\u001b[0;31m---------------------------------------------------------------------------\u001b[0m",
      "\u001b[0;31mValueError\u001b[0m                                Traceback (most recent call last)",
      "\u001b[0;32m<ipython-input-6-ff74ef5758c3>\u001b[0m in \u001b[0;36m<module>\u001b[0;34m()\u001b[0m\n\u001b[1;32m      1\u001b[0m \u001b[0;32mfrom\u001b[0m \u001b[0msklearn\u001b[0m\u001b[0;34m.\u001b[0m\u001b[0mpreprocessing\u001b[0m \u001b[0;32mimport\u001b[0m \u001b[0mbinarize\u001b[0m\u001b[0;34m\u001b[0m\u001b[0m\n\u001b[0;32m----> 2\u001b[0;31m \u001b[0mX\u001b[0m \u001b[0;34m=\u001b[0m \u001b[0mbinarize\u001b[0m\u001b[0;34m(\u001b[0m\u001b[0mtrain_x\u001b[0m\u001b[0;34m,\u001b[0m \u001b[0mthreshold\u001b[0m\u001b[0;34m=\u001b[0m\u001b[0;36m0.01\u001b[0m\u001b[0;34m,\u001b[0m \u001b[0mcopy\u001b[0m\u001b[0;34m=\u001b[0m\u001b[0mTrue\u001b[0m\u001b[0;34m)\u001b[0m\u001b[0;34m\u001b[0m\u001b[0m\n\u001b[0m",
      "\u001b[0;32m/home/ec2-user/src/anaconda2/lib/python2.7/site-packages/sklearn/preprocessing/data.pyc\u001b[0m in \u001b[0;36mbinarize\u001b[0;34m(X, threshold, copy)\u001b[0m\n\u001b[1;32m   1402\u001b[0m     :class:`sklearn.pipeline.Pipeline`)\n\u001b[1;32m   1403\u001b[0m     \"\"\"\n\u001b[0;32m-> 1404\u001b[0;31m     \u001b[0mX\u001b[0m \u001b[0;34m=\u001b[0m \u001b[0mcheck_array\u001b[0m\u001b[0;34m(\u001b[0m\u001b[0mX\u001b[0m\u001b[0;34m,\u001b[0m \u001b[0maccept_sparse\u001b[0m\u001b[0;34m=\u001b[0m\u001b[0;34m[\u001b[0m\u001b[0;34m'csr'\u001b[0m\u001b[0;34m,\u001b[0m \u001b[0;34m'csc'\u001b[0m\u001b[0;34m]\u001b[0m\u001b[0;34m,\u001b[0m \u001b[0mcopy\u001b[0m\u001b[0;34m=\u001b[0m\u001b[0mcopy\u001b[0m\u001b[0;34m)\u001b[0m\u001b[0;34m\u001b[0m\u001b[0m\n\u001b[0m\u001b[1;32m   1405\u001b[0m     \u001b[0;32mif\u001b[0m \u001b[0msparse\u001b[0m\u001b[0;34m.\u001b[0m\u001b[0missparse\u001b[0m\u001b[0;34m(\u001b[0m\u001b[0mX\u001b[0m\u001b[0;34m)\u001b[0m\u001b[0;34m:\u001b[0m\u001b[0;34m\u001b[0m\u001b[0m\n\u001b[1;32m   1406\u001b[0m         \u001b[0;32mif\u001b[0m \u001b[0mthreshold\u001b[0m \u001b[0;34m<\u001b[0m \u001b[0;36m0\u001b[0m\u001b[0;34m:\u001b[0m\u001b[0;34m\u001b[0m\u001b[0m\n",
      "\u001b[0;32m/home/ec2-user/src/anaconda2/lib/python2.7/site-packages/sklearn/utils/validation.pyc\u001b[0m in \u001b[0;36mcheck_array\u001b[0;34m(array, accept_sparse, dtype, order, copy, force_all_finite, ensure_2d, allow_nd, ensure_min_samples, ensure_min_features, warn_on_dtype, estimator)\u001b[0m\n\u001b[1;32m    394\u001b[0m         \u001b[0;32mif\u001b[0m \u001b[0;32mnot\u001b[0m \u001b[0mallow_nd\u001b[0m \u001b[0;32mand\u001b[0m \u001b[0marray\u001b[0m\u001b[0;34m.\u001b[0m\u001b[0mndim\u001b[0m \u001b[0;34m>=\u001b[0m \u001b[0;36m3\u001b[0m\u001b[0;34m:\u001b[0m\u001b[0;34m\u001b[0m\u001b[0m\n\u001b[1;32m    395\u001b[0m             raise ValueError(\"Found array with dim %d. %s expected <= 2.\"\n\u001b[0;32m--> 396\u001b[0;31m                              % (array.ndim, estimator_name))\n\u001b[0m\u001b[1;32m    397\u001b[0m         \u001b[0;32mif\u001b[0m \u001b[0mforce_all_finite\u001b[0m\u001b[0;34m:\u001b[0m\u001b[0;34m\u001b[0m\u001b[0m\n\u001b[1;32m    398\u001b[0m             \u001b[0m_assert_all_finite\u001b[0m\u001b[0;34m(\u001b[0m\u001b[0marray\u001b[0m\u001b[0;34m)\u001b[0m\u001b[0;34m\u001b[0m\u001b[0m\n",
      "\u001b[0;31mValueError\u001b[0m: Found array with dim 4. Estimator expected <= 2."
     ]
    }
   ],
   "source": [
    "from sklearn.preprocessing import binarize\n",
    "X = binarize(train_x, threshold=0.01, copy=True)"
   ]
  },
  {
   "cell_type": "code",
   "execution_count": null,
   "metadata": {
    "collapsed": true
   },
   "outputs": [],
   "source": []
  },
  {
   "cell_type": "code",
   "execution_count": null,
   "metadata": {
    "collapsed": true
   },
   "outputs": [],
   "source": []
  },
  {
   "cell_type": "markdown",
   "metadata": {
    "collapsed": true
   },
   "source": [
    "### Helper methods for simple case"
   ]
  },
  {
   "cell_type": "code",
   "execution_count": 14,
   "metadata": {
    "ExecuteTime": {
     "end_time": "2016-11-08T22:38:39.742812",
     "start_time": "2016-11-08T22:38:39.737075"
    },
    "collapsed": true
   },
   "outputs": [],
   "source": [
    "from sklearn.utils.fixes import expit    \n",
    "from sklearn.utils.extmath import safe_sparse_dot\n",
    "\n",
    "def sig_means(x, b, W):\n",
    "    a = safe_sparse_dot(x, W.T) + b\n",
    "    return expit(a, out=a)"
   ]
  },
  {
   "cell_type": "markdown",
   "metadata": {
    "ExecuteTime": {
     "end_time": "2016-10-20T17:56:14.156132",
     "start_time": "2016-10-20T17:56:14.153682"
    }
   },
   "source": [
    "### Baseline"
   ]
  },
  {
   "cell_type": "code",
   "execution_count": 15,
   "metadata": {
    "collapsed": false
   },
   "outputs": [],
   "source": [
    "import emf_rbm"
   ]
  },
  {
   "cell_type": "code",
   "execution_count": 16,
   "metadata": {
    "ExecuteTime": {
     "end_time": "2016-11-08T22:42:32.963306",
     "start_time": "2016-11-08T22:42:32.959982"
    },
    "collapsed": false
   },
   "outputs": [
    {
     "data": {
      "text/plain": [
       "sswap(total=0, used=0, free=0, percent=0.0, sin=0, sout=0)"
      ]
     },
     "execution_count": 16,
     "metadata": {},
     "output_type": "execute_result"
    }
   ],
   "source": [
    "psutil.swap_memory()"
   ]
  },
  {
   "cell_type": "markdown",
   "metadata": {},
   "source": [
    "### mean Entropy, Energy, and Free Energy"
   ]
  },
  {
   "cell_type": "code",
   "execution_count": 17,
   "metadata": {
    "ExecuteTime": {
     "end_time": "2016-11-08T22:55:48.509468",
     "start_time": "2016-11-08T22:45:04.953105"
    },
    "collapsed": false
   },
   "outputs": [
    {
     "name": "stdout",
     "output_type": "stream",
     "text": [
      "[EMF_RBM] Iteration 1, pseudo-likelihood = -250.48, time = 9.95s\n",
      "computing TAP Free Energies\n",
      "monitor:  -314.171713225 417.643157365 103.479902116\n",
      "[EMF_RBM] Iteration 2, pseudo-likelihood = -242.32, time = 24.28s\n",
      "computing TAP Free Energies\n",
      "monitor:  -311.883392684 415.497312213 103.670005269\n",
      "[EMF_RBM] Iteration 3, pseudo-likelihood = -227.67, time = 24.57s\n",
      "computing TAP Free Energies\n",
      "monitor:  -301.33418311 393.456914109 92.8084122982\n",
      "[EMF_RBM] Iteration 4, pseudo-likelihood = -216.42, time = 24.69s\n",
      "computing TAP Free Energies\n",
      "monitor:  -290.875488216 364.169795189 74.4673250356\n",
      "[EMF_RBM] Iteration 5, pseudo-likelihood = -200.88, time = 24.54s\n",
      "computing TAP Free Energies\n",
      "monitor:  -284.760235952 344.120048601 61.2078356171\n",
      "[EMF_RBM] Iteration 6, pseudo-likelihood = -194.78, time = 24.65s\n",
      "computing TAP Free Energies\n",
      "monitor:  -282.499515775 325.535774554 45.3502290321\n",
      "[EMF_RBM] Iteration 7, pseudo-likelihood = -191.02, time = 24.49s\n",
      "computing TAP Free Energies\n",
      "monitor:  -280.215966561 313.642803487 36.125496138\n",
      "[EMF_RBM] Iteration 8, pseudo-likelihood = -180.73, time = 24.59s\n",
      "computing TAP Free Energies\n",
      "monitor:  -279.6040162 304.442445632 27.9673683129\n",
      "[EMF_RBM] Iteration 9, pseudo-likelihood = -179.30, time = 24.57s\n",
      "computing TAP Free Energies\n",
      "monitor:  -280.603247614 296.28797873 19.2710032221\n",
      "[EMF_RBM] Iteration 10, pseudo-likelihood = -172.90, time = 24.50s\n",
      "computing TAP Free Energies\n",
      "monitor:  -282.434813449 289.037387623 10.6457809873\n",
      "[EMF_RBM] Iteration 11, pseudo-likelihood = -164.91, time = 24.51s\n",
      "computing TAP Free Energies\n",
      "monitor:  -284.661342773 282.531813554 2.3619789671\n",
      "[EMF_RBM] Iteration 12, pseudo-likelihood = -163.70, time = 24.42s\n",
      "computing TAP Free Energies\n",
      "monitor:  -286.963826764 276.673346036 -5.37925079806\n",
      "[EMF_RBM] Iteration 13, pseudo-likelihood = -160.30, time = 24.47s\n",
      "computing TAP Free Energies\n",
      "monitor:  -289.09725549 271.518093724 -12.2673037094\n",
      "[EMF_RBM] Iteration 14, pseudo-likelihood = -154.05, time = 24.59s\n",
      "computing TAP Free Energies\n",
      "monitor:  -291.25342753 266.847542098 -18.7048455648\n",
      "[EMF_RBM] Iteration 15, pseudo-likelihood = -154.32, time = 24.63s\n",
      "computing TAP Free Energies\n",
      "monitor:  -293.514494111 262.548066852 -24.8871998373\n",
      "[EMF_RBM] Iteration 16, pseudo-likelihood = -153.30, time = 24.40s\n",
      "computing TAP Free Energies\n",
      "monitor:  -295.9067065 258.52126202 -30.9423605908\n",
      "[EMF_RBM] Iteration 17, pseudo-likelihood = -145.64, time = 24.66s\n",
      "computing TAP Free Energies\n",
      "monitor:  -298.457760173 254.682440633 -36.9903665944\n",
      "[EMF_RBM] Iteration 18, pseudo-likelihood = -143.61, time = 24.42s\n",
      "computing TAP Free Energies\n",
      "monitor:  -301.08142442 251.036940684 -42.9407483302\n",
      "[EMF_RBM] Iteration 19, pseudo-likelihood = -136.67, time = 24.57s\n",
      "computing TAP Free Energies\n",
      "monitor:  -303.685638259 247.587972656 -48.6953440545\n",
      "[EMF_RBM] Iteration 20, pseudo-likelihood = -137.09, time = 24.53s\n",
      "computing TAP Free Energies\n",
      "monitor:  -306.236360724 244.319693669 -54.2339859531\n"
     ]
    }
   ],
   "source": [
    "rbm = emf_rbm.EMF_RBM(verbose=True, monitor=True)\n",
    "rbm= rbm.fit(X)"
   ]
  },
  {
   "cell_type": "code",
   "execution_count": 18,
   "metadata": {
    "ExecuteTime": {
     "end_time": "2016-11-08T22:57:27.868434",
     "start_time": "2016-11-08T22:57:27.697130"
    },
    "collapsed": false,
    "scrolled": true
   },
   "outputs": [
    {
     "data": {
      "text/plain": [
       "[<matplotlib.lines.Line2D at 0x7f2741c4c890>]"
      ]
     },
     "execution_count": 18,
     "metadata": {},
     "output_type": "execute_result"
    },
    {
     "data": {
      "image/png": "[encoded data removed]",
      "text/plain": [
       "<matplotlib.figure.Figure at 0x7f2741cf1410>"
      ]
     },
     "metadata": {},
     "output_type": "display_data"
    }
   ],
   "source": [
    "plt.plot(rbm.entropies-rbm.entropies[0], color='red')\n",
    "plt.plot(rbm.mean_field_energies-rbm.mean_field_energies[0], color='blue')\n",
    "plt.plot(rbm.free_energies-rbm.free_energies[0], color='green')"
   ]
  },
  {
   "cell_type": "code",
   "execution_count": null,
   "metadata": {
    "collapsed": true
   },
   "outputs": [],
   "source": []
  }
 ],
 "metadata": {
  "anaconda-cloud": {},
  "kernelspec": {
   "display_name": "Python [default]",
   "language": "python",
   "name": "python2"
  },
  "language_info": {
   "codemirror_mode": {
    "name": "ipython",
    "version": 2
   },
   "file_extension": ".py",
   "mimetype": "text/x-python",
   "name": "python",
   "nbconvert_exporter": "python",
   "pygments_lexer": "ipython2",
   "version": "2.7.12"
  }
 },
 "nbformat": 4,
 "nbformat_minor": 0
}
