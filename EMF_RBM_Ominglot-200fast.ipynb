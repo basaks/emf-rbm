{
 "cells": [
  {
   "cell_type": "markdown",
   "metadata": {},
   "source": [
    "#  EMF RBM Omniglot\n",
    "\n",
    "### Binarized, 200 Epochs, faster learning rate\n",
    "\n",
    "Look at different ways of computing the\n",
    "\n",
    "- energy density\n",
    "- free energy density\n",
    "- entropy density\n",
    "\n",
    "We can\n",
    "\n",
    "- use the TAP S and MF Energy *U_naive   \n",
    "    - which takes an equlibration step first  \n",
    "    - S(mv, mh), U_naive(mv, mh)\n",
    "- use a simple h = means_hiddens() step\n",
    "    - S(v, h), E_MF(v, h)\n"
   ]
  },
  {
   "cell_type": "code",
   "execution_count": 1,
   "metadata": {
    "ExecuteTime": {
     "end_time": "2017-03-06T22:20:58.170312",
     "start_time": "2017-03-06T22:20:55.490244"
    },
    "collapsed": false
   },
   "outputs": [
    {
     "name": "stderr",
     "output_type": "stream",
     "text": [
      "/Users/charlesmartin14/anaconda/lib/python2.7/site-packages/matplotlib/font_manager.py:273: UserWarning: Matplotlib is building the font cache using fc-list. This may take a moment.\n",
      "  warnings.warn('Matplotlib is building the font cache using fc-list. This may take a moment.')\n",
      "/Users/charlesmartin14/anaconda/lib/python2.7/site-packages/sklearn/cross_validation.py:44: DeprecationWarning: This module was deprecated in version 0.18 in favor of the model_selection module into which all the refactored classes and functions are moved. Also note that the interface of the new CV iterators are different from that of this module. This module will be removed in 0.20.\n",
      "  \"This module will be removed in 0.20.\", DeprecationWarning)\n"
     ]
    }
   ],
   "source": [
    "import numpy as np\n",
    "import h5py\n",
    "\n",
    "import matplotlib\n",
    "import matplotlib as mpl\n",
    "import matplotlib.pyplot as plt\n",
    "%matplotlib inline \n",
    "\n",
    "from sklearn import linear_model, datasets, metrics, preprocessing \n",
    "from sklearn.cross_validation import train_test_split\n",
    "from sklearn.metrics import accuracy_score\n",
    "\n",
    "import psutil"
   ]
  },
  {
   "cell_type": "code",
   "execution_count": 2,
   "metadata": {
    "ExecuteTime": {
     "end_time": "2017-03-06T22:20:58.180724",
     "start_time": "2017-03-06T22:20:58.172058"
    },
    "collapsed": false
   },
   "outputs": [
    {
     "data": {
      "text/plain": [
       "{'divide': 'warn', 'invalid': 'warn', 'over': 'warn', 'under': 'ignore'}"
      ]
     },
     "execution_count": 2,
     "metadata": {},
     "output_type": "execute_result"
    }
   ],
   "source": [
    "from sklearn.datasets import fetch_mldata\n",
    "from sklearn.utils.validation import assert_all_finite\n",
    "from scipy.sparse import csc_matrix, csr_matrix, lil_matrix\n",
    "from sklearn.preprocessing import Binarizer\n",
    "np.seterr(all='warn')"
   ]
  },
  {
   "cell_type": "code",
   "execution_count": 3,
   "metadata": {
    "ExecuteTime": {
     "end_time": "2017-03-06T22:20:58.190046",
     "start_time": "2017-03-06T22:20:58.182447"
    },
    "collapsed": true
   },
   "outputs": [],
   "source": [
    "from scipy.io import loadmat\n",
    "import matplotlib.pyplot as plt\n",
    "import matplotlib as mpl\n",
    "\n",
    "def show_image(image): \n",
    "    fig = plt.figure()\n",
    "    ax = fig.add_subplot(1,1,1)\n",
    "    imgplot = ax.imshow(image, cmap=mpl.cm.Greys)\n",
    "    imgplot.set_interpolation('nearest')\n",
    "    ax.xaxis.set_ticks_position('top')\n",
    "    ax.yaxis.set_ticks_position('left')\n",
    "    plt.show()"
   ]
  },
  {
   "cell_type": "code",
   "execution_count": 4,
   "metadata": {
    "ExecuteTime": {
     "end_time": "2017-03-06T22:20:58.196554",
     "start_time": "2017-03-06T22:20:58.191860"
    },
    "collapsed": true
   },
   "outputs": [],
   "source": [
    "import rbm_datasets"
   ]
  },
  {
   "cell_type": "code",
   "execution_count": 5,
   "metadata": {
    "ExecuteTime": {
     "end_time": "2017-03-06T22:21:00.426255",
     "start_time": "2017-03-06T22:20:58.198582"
    },
    "collapsed": false
   },
   "outputs": [],
   "source": [
    "train_x, train_y, train_char, test_x, test_y, test_char = rbm_datasets.load_omniglot_iwae()"
   ]
  },
  {
   "cell_type": "code",
   "execution_count": 6,
   "metadata": {
    "ExecuteTime": {
     "end_time": "2017-03-06T22:21:00.604334",
     "start_time": "2017-03-06T22:21:00.427915"
    },
    "collapsed": true
   },
   "outputs": [],
   "source": [
    "from sklearn.preprocessing import binarize\n",
    "X_train = binarize(train_x, threshold=0.5, copy=True)"
   ]
  },
  {
   "cell_type": "code",
   "execution_count": 7,
   "metadata": {
    "ExecuteTime": {
     "end_time": "2017-03-06T22:21:02.058303",
     "start_time": "2017-03-06T22:21:00.605863"
    },
    "collapsed": false
   },
   "outputs": [
    {
     "data": {
      "image/png": "[encoded data removed]",
      "text/plain": [
       "<matplotlib.figure.Figure at 0x10df45e10>"
      ]
     },
     "metadata": {},
     "output_type": "display_data"
    },
    {
     "data": {
      "image/png": "[encoded data removed]",
      "text/plain": [
       "<matplotlib.figure.Figure at 0x102e040d0>"
      ]
     },
     "metadata": {},
     "output_type": "display_data"
    },
    {
     "data": {
      "image/png": "[encoded data removed]",
      "text/plain": [
       "<matplotlib.figure.Figure at 0x123209bd0>"
      ]
     },
     "metadata": {},
     "output_type": "display_data"
    },
    {
     "data": {
      "image/png": "[encoded data removed]",
      "text/plain": [
       "<matplotlib.figure.Figure at 0x123346b50>"
      ]
     },
     "metadata": {},
     "output_type": "display_data"
    },
    {
     "data": {
      "image/png": "[encoded data removed]",
      "text/plain": [
       "<matplotlib.figure.Figure at 0x1233eedd0>"
      ]
     },
     "metadata": {},
     "output_type": "display_data"
    },
    {
     "data": {
      "image/png": "[encoded data removed]",
      "text/plain": [
       "<matplotlib.figure.Figure at 0x1235eee90>"
      ]
     },
     "metadata": {},
     "output_type": "display_data"
    },
    {
     "data": {
      "image/png": "[encoded data removed]",
      "text/plain": [
       "<matplotlib.figure.Figure at 0x12374c3d0>"
      ]
     },
     "metadata": {},
     "output_type": "display_data"
    },
    {
     "data": {
      "image/png": "[encoded data removed]",
      "text/plain": [
       "<matplotlib.figure.Figure at 0x1237f4590>"
      ]
     },
     "metadata": {},
     "output_type": "display_data"
    },
    {
     "data": {
      "image/png": "[encoded data removed]",
      "text/plain": [
       "<matplotlib.figure.Figure at 0x1242fc810>"
      ]
     },
     "metadata": {},
     "output_type": "display_data"
    },
    {
     "data": {
      "image/png": "[encoded data removed]",
      "text/plain": [
       "<matplotlib.figure.Figure at 0x1237ce510>"
      ]
     },
     "metadata": {},
     "output_type": "display_data"
    }
   ],
   "source": [
    "for i in range(5):\n",
    "    show_image(X_train[i+100].reshape(28,28))\n",
    "    show_image(train_x[i+100].reshape(28,28))"
   ]
  },
  {
   "cell_type": "code",
   "execution_count": 8,
   "metadata": {
    "ExecuteTime": {
     "end_time": "2017-03-06T22:21:02.063941",
     "start_time": "2017-03-06T22:21:02.059936"
    },
    "collapsed": false
   },
   "outputs": [
    {
     "data": {
      "text/plain": [
       "(24345, 784)"
      ]
     },
     "execution_count": 8,
     "metadata": {},
     "output_type": "execute_result"
    }
   ],
   "source": [
    "X_train.shape"
   ]
  },
  {
   "cell_type": "markdown",
   "metadata": {
    "ExecuteTime": {
     "end_time": "2016-10-20T17:56:14.156132",
     "start_time": "2016-10-20T17:56:14.153682"
    }
   },
   "source": [
    "### EMF RBM"
   ]
  },
  {
   "cell_type": "code",
   "execution_count": 9,
   "metadata": {
    "ExecuteTime": {
     "end_time": "2017-03-06T22:21:02.071560",
     "start_time": "2017-03-06T22:21:02.066405"
    },
    "collapsed": false
   },
   "outputs": [
    {
     "data": {
      "text/plain": [
       "sswap(total=8589934592L, used=8005877760L, free=584056832L, percent=93.2, sin=68239060992L, sout=894988288L)"
      ]
     },
     "execution_count": 9,
     "metadata": {},
     "output_type": "execute_result"
    }
   ],
   "source": [
    "psutil.swap_memory()"
   ]
  },
  {
   "cell_type": "markdown",
   "metadata": {},
   "source": [
    "### mean Entropy, Energy, and Free Energy"
   ]
  },
  {
   "cell_type": "code",
   "execution_count": 10,
   "metadata": {
    "ExecuteTime": {
     "end_time": "2017-03-06T23:14:33.809481",
     "start_time": "2017-03-06T22:21:02.073320"
    },
    "collapsed": false
   },
   "outputs": [
    {
     "name": "stdout",
     "output_type": "stream",
     "text": [
      "EMF_RBM(batch_size=100, decay=0.01, learning_rate=0.01, momentum=0.5,\n",
      "    monitor=True, n_components=256, n_iter=200, neq_steps=3,\n",
      "    random_state=<mtrand.RandomState object at 0x106df23c0>, sigma=0.001,\n",
      "    thresh=1e-08, verbose=True, weight_decay='L1')\n",
      "[EMF_RBM] Iteration 1, pseudo-likelihood = -174.23, time = 6.98s\n",
      "computing TAP Free Energies\n",
      "monitor:  -237.721216186 340.953813715 103.238565319\n",
      "[EMF_RBM] Iteration 2, pseudo-likelihood = -175.98, time = 17.85s\n",
      "computing TAP Free Energies\n",
      "monitor:  -237.018056264 340.980029504 103.969722213\n",
      "[EMF_RBM] Iteration 3, pseudo-likelihood = -172.80, time = 16.33s\n",
      "computing TAP Free Energies\n",
      "monitor:  -236.088325895 340.769110731 104.711655769\n",
      "[EMF_RBM] Iteration 4, pseudo-likelihood = -168.00, time = 15.36s\n",
      "computing TAP Free Energies\n",
      "monitor:  -232.816333421 337.654181073 105.136949458\n",
      "[EMF_RBM] Iteration 5, pseudo-likelihood = -161.61, time = 16.36s\n",
      "computing TAP Free Energies\n",
      "monitor:  -225.022115149 323.03961392 99.0183234643\n",
      "[EMF_RBM] Iteration 6, pseudo-likelihood = -151.84, time = 16.30s\n",
      "computing TAP Free Energies\n",
      "monitor:  -217.467447944 309.497107223 93.6805521494\n",
      "[EMF_RBM] Iteration 7, pseudo-likelihood = -149.60, time = 15.50s\n",
      "computing TAP Free Energies\n",
      "monitor:  -212.490223178 297.107438196 86.9522091431\n",
      "[EMF_RBM] Iteration 8, pseudo-likelihood = -147.74, time = 15.59s\n",
      "computing TAP Free Energies\n",
      "monitor:  -208.826461643 287.196917427 81.3266524622\n",
      "[EMF_RBM] Iteration 9, pseudo-likelihood = -139.36, time = 15.82s\n",
      "computing TAP Free Energies\n",
      "monitor:  -205.550122935 278.273242742 76.2666488889\n",
      "[EMF_RBM] Iteration 10, pseudo-likelihood = -137.15, time = 16.57s\n",
      "computing TAP Free Energies\n",
      "monitor:  -202.842636078 270.375621402 71.6089542627\n",
      "[EMF_RBM] Iteration 11, pseudo-likelihood = -134.49, time = 17.60s\n",
      "computing TAP Free Energies\n",
      "monitor:  -200.804328215 263.629880679 67.4020823535\n",
      "[EMF_RBM] Iteration 12, pseudo-likelihood = -133.06, time = 16.35s\n",
      "computing TAP Free Energies\n",
      "monitor:  -199.344473233 257.798034675 63.4845172023\n",
      "[EMF_RBM] Iteration 13, pseudo-likelihood = -130.32, time = 15.95s\n",
      "computing TAP Free Energies\n",
      "monitor:  -198.392661515 252.874228597 59.9212263154\n",
      "[EMF_RBM] Iteration 14, pseudo-likelihood = -128.72, time = 15.67s\n",
      "computing TAP Free Energies\n",
      "monitor:  -197.929539181 248.800925259 56.6880799254\n",
      "[EMF_RBM] Iteration 15, pseudo-likelihood = -124.88, time = 15.88s\n",
      "computing TAP Free Energies\n",
      "monitor:  -197.902402088 245.448199363 53.7358808719\n",
      "[EMF_RBM] Iteration 16, pseudo-likelihood = -126.95, time = 15.75s\n",
      "computing TAP Free Energies\n",
      "monitor:  -198.240322875 242.587022629 50.9181550966\n",
      "[EMF_RBM] Iteration 17, pseudo-likelihood = -122.89, time = 15.80s\n",
      "computing TAP Free Energies\n",
      "monitor:  -198.840975361 240.091718473 48.2151217624\n",
      "[EMF_RBM] Iteration 18, pseudo-likelihood = -117.99, time = 15.86s\n",
      "computing TAP Free Energies\n",
      "monitor:  -199.633157732 237.892510005 45.635277088\n",
      "[EMF_RBM] Iteration 19, pseudo-likelihood = -121.09, time = 16.01s\n",
      "computing TAP Free Energies\n",
      "monitor:  -200.589717024 235.899877458 43.1206284571\n",
      "[EMF_RBM] Iteration 20, pseudo-likelihood = -118.39, time = 15.58s\n",
      "computing TAP Free Energies\n",
      "monitor:  -201.691088699 234.021876958 40.5947024189\n",
      "[EMF_RBM] Iteration 21, pseudo-likelihood = -114.12, time = 16.33s\n",
      "computing TAP Free Energies\n",
      "monitor:  -202.909896217 232.188233911 38.0019666307\n",
      "[EMF_RBM] Iteration 22, pseudo-likelihood = -110.93, time = 15.56s\n",
      "computing TAP Free Energies\n",
      "monitor:  -204.206497965 230.363748808 35.3302610612\n",
      "[EMF_RBM] Iteration 23, pseudo-likelihood = -110.64, time = 16.83s\n",
      "computing TAP Free Energies\n",
      "monitor:  -205.532814192 228.553833045 32.620575593\n",
      "[EMF_RBM] Iteration 24, pseudo-likelihood = -109.89, time = 17.04s\n",
      "computing TAP Free Energies\n",
      "monitor:  -206.853134479 226.790765023 29.9366999264\n",
      "[EMF_RBM] Iteration 25, pseudo-likelihood = -105.04, time = 17.00s\n",
      "computing TAP Free Energies\n",
      "monitor:  -208.152204822 225.108993486 27.330905778\n",
      "[EMF_RBM] Iteration 26, pseudo-likelihood = -108.89, time = 16.27s\n",
      "computing TAP Free Energies\n",
      "monitor:  -209.436317996 223.531166211 24.8253014349\n",
      "[EMF_RBM] Iteration 27, pseudo-likelihood = -109.14, time = 15.64s\n",
      "computing TAP Free Energies\n",
      "monitor:  -210.719946921 222.062569757 22.4161126641\n",
      "[EMF_RBM] Iteration 28, pseudo-likelihood = -108.96, time = 15.28s\n",
      "computing TAP Free Energies\n",
      "monitor:  -212.016234931 220.698686214 20.0895268051\n",
      "[EMF_RBM] Iteration 29, pseudo-likelihood = -104.25, time = 15.23s\n",
      "computing TAP Free Energies\n",
      "monitor:  -213.330776559 219.430627385 17.8336117204\n",
      "[EMF_RBM] Iteration 30, pseudo-likelihood = -103.03, time = 15.29s\n",
      "computing TAP Free Energies\n",
      "monitor:  -214.665850241 218.247815446 15.6371613164\n",
      "[EMF_RBM] Iteration 31, pseudo-likelihood = -99.24, time = 15.89s\n",
      "computing TAP Free Energies\n",
      "monitor:  -216.021764425 217.138388186 13.4888850196\n",
      "[EMF_RBM] Iteration 32, pseudo-likelihood = -104.98, time = 16.78s\n",
      "computing TAP Free Energies\n",
      "monitor:  -217.396841397 216.090587899 11.3788278121\n",
      "[EMF_RBM] Iteration 33, pseudo-likelihood = -99.54, time = 16.81s\n",
      "computing TAP Free Energies\n",
      "monitor:  -218.788407228 215.09227569 9.29687308899\n",
      "[EMF_RBM] Iteration 34, pseudo-likelihood = -100.29, time = 16.81s\n",
      "computing TAP Free Energies\n",
      "monitor:  -220.19202846 214.133832848 7.2367004332\n",
      "[EMF_RBM] Iteration 35, pseudo-likelihood = -99.97, time = 16.75s\n",
      "computing TAP Free Energies\n",
      "monitor:  -221.601911377 213.206767993 5.19421999739\n",
      "[EMF_RBM] Iteration 36, pseudo-likelihood = -97.71, time = 16.08s\n",
      "computing TAP Free Energies\n",
      "monitor:  -223.010654129 212.305627924 3.16999329329\n",
      "[EMF_RBM] Iteration 37, pseudo-likelihood = -99.82, time = 15.43s\n",
      "computing TAP Free Energies\n",
      "monitor:  -224.413321837 211.427960677 1.16565744035\n",
      "[EMF_RBM] Iteration 38, pseudo-likelihood = -100.31, time = 15.52s\n",
      "computing TAP Free Energies\n",
      "monitor:  -225.806032162 210.574419012 -0.814418354936\n",
      "[EMF_RBM] Iteration 39, pseudo-likelihood = -97.40, time = 15.56s\n",
      "computing TAP Free Energies\n",
      "monitor:  -227.186181799 209.746625094 -2.76571782139\n",
      "[EMF_RBM] Iteration 40, pseudo-likelihood = -99.21, time = 15.16s\n",
      "computing TAP Free Energies\n",
      "monitor:  -228.552745128 208.945576509 -4.68569483215\n",
      "[EMF_RBM] Iteration 41, pseudo-likelihood = -95.51, time = 15.22s\n",
      "computing TAP Free Energies\n",
      "monitor:  -229.905801406 208.1725415 -6.57231632677\n",
      "[EMF_RBM] Iteration 42, pseudo-likelihood = -96.86, time = 15.14s\n",
      "computing TAP Free Energies\n",
      "monitor:  -231.246581004 207.428656698 -8.42477875834\n",
      "[EMF_RBM] Iteration 43, pseudo-likelihood = -96.52, time = 15.23s\n",
      "computing TAP Free Energies\n",
      "monitor:  -232.576062755 206.713777644 -10.2433409329\n",
      "[EMF_RBM] Iteration 44, pseudo-likelihood = -96.20, time = 15.48s\n",
      "computing TAP Free Energies\n",
      "monitor:  -233.895800666 206.027447337 -12.0292556355\n",
      "[EMF_RBM] Iteration 45, pseudo-likelihood = -95.27, time = 15.36s\n",
      "computing TAP Free Energies\n",
      "monitor:  -235.207397732 205.369344053 -13.7836291544\n",
      "[EMF_RBM] Iteration 46, pseudo-likelihood = -93.39, time = 15.37s\n",
      "computing TAP Free Energies\n",
      "monitor:  -236.511733586 204.738088714 -15.5081377751\n",
      "[EMF_RBM] Iteration 47, pseudo-likelihood = -92.25, time = 15.27s\n",
      "computing TAP Free Energies\n",
      "monitor:  -237.810164106 204.13266028 -17.2045310251\n",
      "[EMF_RBM] Iteration 48, pseudo-likelihood = -91.93, time = 15.25s\n",
      "computing TAP Free Energies\n",
      "monitor:  -239.103546773 203.551555085 -18.8747246461\n",
      "[EMF_RBM] Iteration 49, pseudo-likelihood = -93.90, time = 15.31s\n",
      "computing TAP Free Energies\n",
      "monitor:  -240.392847565 202.993459411 -20.520667572\n",
      "[EMF_RBM] Iteration 50, pseudo-likelihood = -87.92, time = 15.40s\n",
      "computing TAP Free Energies\n",
      "monitor:  -241.678330685 202.456501252 -22.1442525345\n",
      "[EMF_RBM] Iteration 51, pseudo-likelihood = -93.38, time = 15.24s\n",
      "computing TAP Free Energies\n",
      "monitor:  -242.959893487 201.939143675 -23.746720692\n",
      "[EMF_RBM] Iteration 52, pseudo-likelihood = -87.10, time = 15.31s\n",
      "computing TAP Free Energies\n",
      "monitor:  -244.237880712 201.439926285 -25.3297463297\n",
      "[EMF_RBM] Iteration 53, pseudo-likelihood = -92.34, time = 15.34s\n",
      "computing TAP Free Energies\n",
      "monitor:  -245.511710373 200.957203438 -26.8943875855\n",
      "[EMF_RBM] Iteration 54, pseudo-likelihood = -91.69, time = 15.19s\n",
      "computing TAP Free Energies\n",
      "monitor:  -246.780599107 200.489771485 -28.4410637669\n",
      "[EMF_RBM] Iteration 55, pseudo-likelihood = -91.23, time = 15.15s\n",
      "computing TAP Free Energies\n",
      "monitor:  -248.044068799 200.036043733 -29.9709085502\n",
      "[EMF_RBM] Iteration 56, pseudo-likelihood = -89.47, time = 15.12s\n",
      "computing TAP Free Energies\n",
      "monitor:  -249.300834421 199.595112664 -31.4835560684\n",
      "[EMF_RBM] Iteration 57, pseudo-likelihood = -88.04, time = 15.11s\n",
      "computing TAP Free Energies\n",
      "monitor:  -250.550860119 199.166003941 -32.9799686128\n",
      "[EMF_RBM] Iteration 58, pseudo-likelihood = -87.43, time = 17.13s\n",
      "computing TAP Free Energies\n",
      "monitor:  -251.793304903 198.747899557 -34.4601255989\n",
      "[EMF_RBM] Iteration 59, pseudo-likelihood = -89.04, time = 18.21s\n",
      "computing TAP Free Energies\n",
      "monitor:  -253.026673176 198.339726933 -35.9236845876\n",
      "[EMF_RBM] Iteration 60, pseudo-likelihood = -87.17, time = 16.36s\n",
      "computing TAP Free Energies\n",
      "monitor:  -254.251293926 197.941049122 -37.3714140485\n",
      "[EMF_RBM] Iteration 61, pseudo-likelihood = -85.54, time = 16.18s\n",
      "computing TAP Free Energies\n",
      "monitor:  -255.467010145 197.551057355 -38.8039884211\n",
      "[EMF_RBM] Iteration 62, pseudo-likelihood = -84.14, time = 15.49s\n",
      "computing TAP Free Energies\n",
      "monitor:  -256.6733575 197.169037092 -40.2216968822\n",
      "[EMF_RBM] Iteration 63, pseudo-likelihood = -86.10, time = 15.60s\n",
      "computing TAP Free Energies\n",
      "monitor:  -257.869740313 196.794719125 -41.624235919\n",
      "[EMF_RBM] Iteration 64, pseudo-likelihood = -88.62, time = 15.78s\n",
      "computing TAP Free Energies\n",
      "monitor:  -259.055535308 196.427628731 -43.0114558009\n",
      "[EMF_RBM] Iteration 65, pseudo-likelihood = -84.61, time = 15.83s\n",
      "computing TAP Free Energies\n",
      "monitor:  -260.230449228 196.067254614 -44.3836260077\n",
      "[EMF_RBM] Iteration 66, pseudo-likelihood = -85.49, time = 15.63s\n",
      "computing TAP Free Energies\n",
      "monitor:  -261.393765965 195.712840803 -45.740859617\n",
      "[EMF_RBM] Iteration 67, pseudo-likelihood = -87.85, time = 15.78s\n",
      "computing TAP Free Energies\n",
      "monitor:  -262.545364709 195.364172186 -47.0832511288\n",
      "[EMF_RBM] Iteration 68, pseudo-likelihood = -84.47, time = 15.71s\n",
      "computing TAP Free Energies\n",
      "monitor:  -263.685065279 195.021311926 -48.410532306\n",
      "[EMF_RBM] Iteration 69, pseudo-likelihood = -83.57, time = 15.67s\n",
      "computing TAP Free Energies\n",
      "monitor:  -264.812319982 194.683863899 -49.7225845667\n",
      "[EMF_RBM] Iteration 70, pseudo-likelihood = -84.25, time = 15.76s\n",
      "computing TAP Free Energies\n",
      "monitor:  -265.927154749 194.351787778 -51.0194260694\n",
      "[EMF_RBM] Iteration 71, pseudo-likelihood = -82.40, time = 15.72s\n",
      "computing TAP Free Energies\n",
      "monitor:  -267.030060572 194.024861227 -52.301730969\n",
      "[EMF_RBM] Iteration 72, pseudo-likelihood = -86.12, time = 15.76s\n",
      "computing TAP Free Energies\n",
      "monitor:  -268.121658022 193.703087108 -53.5700825393\n",
      "[EMF_RBM] Iteration 73, pseudo-likelihood = -84.00, time = 16.17s\n",
      "computing TAP Free Energies\n",
      "monitor:  -269.201217141 193.386319709 -54.823883585\n",
      "[EMF_RBM] Iteration 74, pseudo-likelihood = -80.62, time = 15.71s\n",
      "computing TAP Free Energies\n",
      "monitor:  -270.268999319 193.074727538 -56.0631428577\n",
      "[EMF_RBM] Iteration 75, pseudo-likelihood = -84.17, time = 15.87s\n",
      "computing TAP Free Energies\n",
      "monitor:  -271.32429501 192.768275859 -57.2871600144\n",
      "[EMF_RBM] Iteration 76, pseudo-likelihood = -81.44, time = 15.96s\n",
      "computing TAP Free Energies\n",
      "monitor:  -272.367656104 192.466757576 -58.4966513232\n",
      "[EMF_RBM] Iteration 77, pseudo-likelihood = -80.09, time = 15.88s\n",
      "computing TAP Free Energies\n",
      "monitor:  -273.399426613 192.170025691 -59.6920662317\n",
      "[EMF_RBM] Iteration 78, pseudo-likelihood = -80.65, time = 15.86s\n",
      "computing TAP Free Energies\n",
      "monitor:  -274.418909079 191.877952838 -60.8728085267\n",
      "[EMF_RBM] Iteration 79, pseudo-likelihood = -79.42, time = 15.89s\n",
      "computing TAP Free Energies\n",
      "monitor:  -275.426718584 191.590514843 -62.0394284068\n",
      "[EMF_RBM] Iteration 80, pseudo-likelihood = -81.33, time = 15.88s\n",
      "computing TAP Free Energies\n",
      "monitor:  -276.423522965 191.30774114 -63.1925165666\n",
      "[EMF_RBM] Iteration 81, pseudo-likelihood = -80.61, time = 15.93s\n",
      "computing TAP Free Energies\n",
      "monitor:  -277.409108815 191.02964293 -64.3317749096\n",
      "[EMF_RBM] Iteration 82, pseudo-likelihood = -78.74, time = 16.07s\n",
      "computing TAP Free Energies\n",
      "monitor:  -278.383782012 190.756175296 -65.4574919356\n",
      "[EMF_RBM] Iteration 83, pseudo-likelihood = -79.59, time = 15.81s\n",
      "computing TAP Free Energies\n",
      "monitor:  -279.347310584 190.487141243 -66.5696028444\n",
      "[EMF_RBM] Iteration 84, pseudo-likelihood = -80.92, time = 17.20s\n",
      "computing TAP Free Energies\n",
      "monitor:  -280.300313576 190.222588584 -67.6686279081\n",
      "[EMF_RBM] Iteration 85, pseudo-likelihood = -81.11, time = 16.69s\n",
      "computing TAP Free Energies\n",
      "monitor:  -281.242995678 189.962591025 -68.7546085967\n",
      "[EMF_RBM] Iteration 86, pseudo-likelihood = -78.95, time = 16.30s\n",
      "computing TAP Free Energies\n",
      "monitor:  -282.175560675 189.707041241 -69.8278065944\n",
      "[EMF_RBM] Iteration 87, pseudo-likelihood = -80.51, time = 16.23s\n",
      "computing TAP Free Energies\n",
      "monitor:  -283.098001501 189.45592857 -70.888173874\n",
      "[EMF_RBM] Iteration 88, pseudo-likelihood = -78.19, time = 16.48s\n",
      "computing TAP Free Energies\n",
      "monitor:  -284.010341854 189.209046146 -71.9359187752\n",
      "[EMF_RBM] Iteration 89, pseudo-likelihood = -80.17, time = 16.30s\n",
      "computing TAP Free Energies\n",
      "monitor:  -284.912929486 188.966202621 -72.9715399333\n",
      "[EMF_RBM] Iteration 90, pseudo-likelihood = -78.71, time = 16.24s\n",
      "computing TAP Free Energies\n",
      "monitor:  -285.805814616 188.727380876 -73.9950385596\n",
      "[EMF_RBM] Iteration 91, pseudo-likelihood = -77.43, time = 16.32s\n",
      "computing TAP Free Energies\n",
      "monitor:  -286.689277411 188.49250644 -75.0067426827\n",
      "[EMF_RBM] Iteration 92, pseudo-likelihood = -75.81, time = 16.21s\n",
      "computing TAP Free Energies\n",
      "monitor:  -287.563329122 188.26135618 -76.0068793241\n",
      "[EMF_RBM] Iteration 93, pseudo-likelihood = -78.21, time = 16.34s\n",
      "computing TAP Free Energies\n",
      "monitor:  -288.427999548 188.033818476 -76.9955528257\n",
      "[EMF_RBM] Iteration 94, pseudo-likelihood = -76.46, time = 16.48s\n",
      "computing TAP Free Energies\n",
      "monitor:  -289.28315773 187.810110706 -77.9723500493\n",
      "[EMF_RBM] Iteration 95, pseudo-likelihood = -78.24, time = 16.57s\n",
      "computing TAP Free Energies\n",
      "monitor:  -290.129198606 187.590028142 -78.9378670855\n",
      "[EMF_RBM] Iteration 96, pseudo-likelihood = -78.63, time = 16.57s\n",
      "computing TAP Free Energies\n",
      "monitor:  -290.965975881 187.373384565 -79.8920938492\n",
      "[EMF_RBM] Iteration 97, pseudo-likelihood = -77.32, time = 16.46s\n",
      "computing TAP Free Energies\n",
      "monitor:  -291.794028132 187.160299612 -80.8353817315\n",
      "[EMF_RBM] Iteration 98, pseudo-likelihood = -78.73, time = 17.44s\n",
      "computing TAP Free Energies\n",
      "monitor:  -292.613787175 186.950615135 -81.7683128801\n",
      "[EMF_RBM] Iteration 99, pseudo-likelihood = -74.79, time = 15.94s\n",
      "computing TAP Free Energies\n",
      "monitor:  -293.424685972 186.744164839 -82.6904753557\n",
      "[EMF_RBM] Iteration 100, pseudo-likelihood = -76.98, time = 15.73s\n",
      "computing TAP Free Energies\n",
      "monitor:  -294.227166445 186.540920877 -83.6022876229\n",
      "[EMF_RBM] Iteration 101, pseudo-likelihood = -76.58, time = 15.42s\n",
      "computing TAP Free Energies\n",
      "monitor:  -295.021440985 186.340677567 -84.5041735723\n",
      "[EMF_RBM] Iteration 102, pseudo-likelihood = -77.76, time = 15.43s\n",
      "computing TAP Free Energies\n",
      "monitor:  -295.807269215 186.143561496 -85.3957148741\n",
      "[EMF_RBM] Iteration 103, pseudo-likelihood = -76.03, time = 15.89s\n",
      "computing TAP Free Energies\n",
      "monitor:  -296.584961323 185.949464245 -86.2772908325\n",
      "[EMF_RBM] Iteration 104, pseudo-likelihood = -76.37, time = 15.82s\n",
      "computing TAP Free Energies\n",
      "monitor:  -297.354746551 185.758321501 -87.1491450702\n",
      "[EMF_RBM] Iteration 105, pseudo-likelihood = -75.75, time = 15.55s\n",
      "computing TAP Free Energies\n",
      "monitor:  -298.116495511 185.570131832 -88.0111356367\n",
      "[EMF_RBM] Iteration 106, pseudo-likelihood = -74.44, time = 16.15s\n",
      "computing TAP Free Energies\n",
      "monitor:  -298.870064608 185.384668697 -88.8633657164\n",
      "[EMF_RBM] Iteration 107, pseudo-likelihood = -75.18, time = 15.61s\n",
      "computing TAP Free Energies\n",
      "monitor:  -299.615811355 185.201962419 -89.7061064147\n",
      "[EMF_RBM] Iteration 108, pseudo-likelihood = -73.22, time = 15.80s\n",
      "computing TAP Free Energies\n",
      "monitor:  -300.353865175 185.022007593 -90.5394531372\n",
      "[EMF_RBM] Iteration 109, pseudo-likelihood = -75.11, time = 15.78s\n",
      "computing TAP Free Energies\n",
      "monitor:  -301.084115509 184.844688021 -91.3634044909\n",
      "[EMF_RBM] Iteration 110, pseudo-likelihood = -74.59, time = 15.80s\n",
      "computing TAP Free Energies\n",
      "monitor:  -301.80715736 184.669960003 -92.1785410432\n",
      "[EMF_RBM] Iteration 111, pseudo-likelihood = -74.21, time = 15.73s\n",
      "computing TAP Free Energies\n",
      "monitor:  -302.522787096 184.497888348 -92.9845424474\n",
      "[EMF_RBM] Iteration 112, pseudo-likelihood = -76.61, time = 17.19s\n",
      "computing TAP Free Energies\n",
      "monitor:  -303.231317208 184.328308069 -93.7819107671\n",
      "[EMF_RBM] Iteration 113, pseudo-likelihood = -76.60, time = 16.82s\n",
      "computing TAP Free Energies\n",
      "monitor:  -303.932588684 184.161196482 -94.5704924797\n",
      "[EMF_RBM] Iteration 114, pseudo-likelihood = -75.18, time = 15.86s\n",
      "computing TAP Free Energies\n",
      "monitor:  -304.626775109 183.996447672 -95.3505579189\n",
      "[EMF_RBM] Iteration 115, pseudo-likelihood = -71.12, time = 15.69s\n",
      "computing TAP Free Energies\n",
      "monitor:  -305.313873003 183.834171334 -96.1219414935\n",
      "[EMF_RBM] Iteration 116, pseudo-likelihood = -72.55, time = 15.63s\n",
      "computing TAP Free Energies\n",
      "monitor:  -305.994048994 183.67419044 -96.8849888131\n",
      "[EMF_RBM] Iteration 117, pseudo-likelihood = -72.93, time = 15.65s\n",
      "computing TAP Free Energies\n",
      "monitor:  -306.667530427 183.516430971 -97.6399898017\n",
      "[EMF_RBM] Iteration 118, pseudo-likelihood = -74.38, time = 15.65s\n",
      "computing TAP Free Energies\n",
      "monitor:  -307.33414553 183.360742051 -98.3869422618\n",
      "[EMF_RBM] Iteration 119, pseudo-likelihood = -75.59, time = 15.69s\n",
      "computing TAP Free Energies\n",
      "monitor:  -307.994365301 183.207143915 -99.1262592154\n",
      "[EMF_RBM] Iteration 120, pseudo-likelihood = -73.15, time = 15.66s\n",
      "computing TAP Free Energies\n",
      "monitor:  -308.647837059 183.055749133 -99.8574271759\n",
      "[EMF_RBM] Iteration 121, pseudo-likelihood = -73.35, time = 15.75s\n",
      "computing TAP Free Energies\n",
      "monitor:  -309.294971121 182.906366509 -100.581056505\n",
      "[EMF_RBM] Iteration 122, pseudo-likelihood = -73.73, time = 15.93s\n",
      "computing TAP Free Energies\n",
      "monitor:  -309.93555652 182.758966694 -101.296959669\n",
      "[EMF_RBM] Iteration 123, pseudo-likelihood = -72.42, time = 16.21s\n",
      "computing TAP Free Energies\n",
      "monitor:  -310.569938015 182.613601807 -102.005392897\n",
      "[EMF_RBM] Iteration 124, pseudo-likelihood = -72.88, time = 17.20s\n",
      "computing TAP Free Energies\n",
      "monitor:  -311.197851361 182.470165805 -102.706205227\n",
      "[EMF_RBM] Iteration 125, pseudo-likelihood = -72.17, time = 16.85s\n",
      "computing TAP Free Energies\n",
      "monitor:  -311.819634603 182.328625511 -103.399754364\n",
      "[EMF_RBM] Iteration 126, pseudo-likelihood = -74.25, time = 16.32s\n",
      "computing TAP Free Energies\n",
      "monitor:  -312.435850311 182.189045276 -104.08647942\n",
      "[EMF_RBM] Iteration 127, pseudo-likelihood = -68.86, time = 15.98s\n",
      "computing TAP Free Energies\n",
      "monitor:  -313.046353082 182.051323456 -104.766344282\n",
      "[EMF_RBM] Iteration 128, pseudo-likelihood = -73.33, time = 15.93s\n",
      "computing TAP Free Energies\n",
      "monitor:  -313.651268351 181.915300786 -105.439635102\n",
      "[EMF_RBM] Iteration 129, pseudo-likelihood = -73.41, time = 15.88s\n",
      "computing TAP Free Energies\n",
      "monitor:  -314.250355773 181.780962539 -106.106122052\n",
      "[EMF_RBM] Iteration 130, pseudo-likelihood = -73.30, time = 15.85s\n",
      "computing TAP Free Energies\n",
      "monitor:  -314.843538607 181.648248175 -106.765795883\n",
      "[EMF_RBM] Iteration 131, pseudo-likelihood = -68.93, time = 15.92s\n",
      "computing TAP Free Energies\n",
      "monitor:  -315.431161999 181.517214432 -107.41893906\n",
      "[EMF_RBM] Iteration 132, pseudo-likelihood = -72.30, time = 15.97s\n",
      "computing TAP Free Energies\n",
      "monitor:  -316.012795122 181.387689754 -108.065308043\n",
      "[EMF_RBM] Iteration 133, pseudo-likelihood = -73.39, time = 16.19s\n",
      "computing TAP Free Energies\n",
      "monitor:  -316.588694945 181.259618143 -108.705189239\n",
      "[EMF_RBM] Iteration 134, pseudo-likelihood = -73.14, time = 16.20s\n",
      "computing TAP Free Energies\n",
      "monitor:  -317.159180508 181.13299783 -109.338890898\n",
      "[EMF_RBM] Iteration 135, pseudo-likelihood = -71.50, time = 16.64s\n",
      "computing TAP Free Energies\n",
      "monitor:  -317.72426669 181.007923119 -109.966286049\n",
      "[EMF_RBM] Iteration 136, pseudo-likelihood = -72.62, time = 15.85s\n",
      "computing TAP Free Energies\n",
      "monitor:  -318.284051412 180.884330581 -110.587550109\n",
      "[EMF_RBM] Iteration 137, pseudo-likelihood = -71.69, time = 15.40s\n",
      "computing TAP Free Energies\n",
      "monitor:  -318.838673777 180.762176585 -111.202857947\n",
      "[EMF_RBM] Iteration 138, pseudo-likelihood = -69.28, time = 15.41s\n",
      "computing TAP Free Energies\n",
      "monitor:  -319.388492462 180.641535999 -111.812445495\n",
      "[EMF_RBM] Iteration 139, pseudo-likelihood = -71.87, time = 16.29s\n",
      "computing TAP Free Energies\n",
      "monitor:  -319.933420027 180.522302014 -112.416348288\n",
      "[EMF_RBM] Iteration 140, pseudo-likelihood = -71.64, time = 16.04s\n",
      "computing TAP Free Energies\n",
      "monitor:  -320.473178371 180.404320301 -113.014483885\n",
      "[EMF_RBM] Iteration 141, pseudo-likelihood = -68.12, time = 15.67s\n",
      "computing TAP Free Energies\n",
      "monitor:  -321.008074086 180.287600348 -113.607118357\n",
      "[EMF_RBM] Iteration 142, pseudo-likelihood = -71.42, time = 15.65s\n",
      "computing TAP Free Energies\n",
      "monitor:  -321.538203386 180.172237684 -114.194203666\n",
      "[EMF_RBM] Iteration 143, pseudo-likelihood = -73.18, time = 15.54s\n",
      "computing TAP Free Energies\n",
      "monitor:  -322.063556647 180.058103319 -114.775871828\n",
      "[EMF_RBM] Iteration 144, pseudo-likelihood = -72.43, time = 15.62s\n",
      "computing TAP Free Energies\n",
      "monitor:  -322.584008975 179.945161955 -115.352062124\n",
      "[EMF_RBM] Iteration 145, pseudo-likelihood = -70.18, time = 16.17s\n",
      "computing TAP Free Energies\n",
      "monitor:  -323.099455624 179.833359988 -115.922722047\n",
      "[EMF_RBM] Iteration 146, pseudo-likelihood = -70.22, time = 16.21s\n",
      "computing TAP Free Energies\n",
      "monitor:  -323.610295518 179.722746614 -116.488154408\n",
      "[EMF_RBM] Iteration 147, pseudo-likelihood = -69.53, time = 15.59s\n",
      "computing TAP Free Energies\n",
      "monitor:  -324.116726447 179.61324993 -117.048645146\n",
      "[EMF_RBM] Iteration 148, pseudo-likelihood = -70.46, time = 15.76s\n",
      "computing TAP Free Energies\n",
      "monitor:  -324.618640964 179.504889861 -117.604050569\n",
      "[EMF_RBM] Iteration 149, pseudo-likelihood = -69.56, time = 15.54s\n",
      "computing TAP Free Energies\n",
      "monitor:  -325.115972786 179.39767667 -118.1542771\n",
      "[EMF_RBM] Iteration 150, pseudo-likelihood = -70.70, time = 15.56s\n",
      "computing TAP Free Energies\n",
      "monitor:  -325.608863645 179.291519383 -118.699567085\n",
      "[EMF_RBM] Iteration 151, pseudo-likelihood = -69.16, time = 16.08s\n",
      "computing TAP Free Energies\n",
      "monitor:  -326.097214914 179.186322812 -119.239933034\n",
      "[EMF_RBM] Iteration 152, pseudo-likelihood = -68.79, time = 17.18s\n",
      "computing TAP Free Energies\n",
      "monitor:  -326.581004101 179.082084965 -119.775349043\n",
      "[EMF_RBM] Iteration 153, pseudo-likelihood = -71.53, time = 16.03s\n",
      "computing TAP Free Energies\n",
      "monitor:  -327.060921719 178.978923134 -120.306322136\n",
      "[EMF_RBM] Iteration 154, pseudo-likelihood = -69.66, time = 17.17s\n",
      "computing TAP Free Energies\n",
      "monitor:  -327.536791587 178.876721433 -120.832823734\n",
      "[EMF_RBM] Iteration 155, pseudo-likelihood = -70.86, time = 17.21s\n",
      "computing TAP Free Energies\n",
      "monitor:  -328.008069334 178.775444662 -121.354358153\n",
      "[EMF_RBM] Iteration 156, pseudo-likelihood = -68.04, time = 17.01s\n",
      "computing TAP Free Energies\n",
      "monitor:  -328.475212453 178.675127 -121.871335054\n",
      "[EMF_RBM] Iteration 157, pseudo-likelihood = -69.59, time = 16.45s\n",
      "computing TAP Free Energies\n",
      "monitor:  -328.938522161 178.575761197 -122.384030717\n",
      "[EMF_RBM] Iteration 158, pseudo-likelihood = -69.48, time = 16.28s\n",
      "computing TAP Free Energies\n",
      "monitor:  -329.398003019 178.47724534 -122.892582499\n",
      "[EMF_RBM] Iteration 159, pseudo-likelihood = -68.80, time = 15.70s\n",
      "computing TAP Free Energies\n",
      "monitor:  -329.853258022 178.379619709 -123.396547583\n",
      "[EMF_RBM] Iteration 160, pseudo-likelihood = -67.54, time = 15.46s\n",
      "computing TAP Free Energies\n",
      "monitor:  -330.304424578 178.282950831 -123.895966136\n",
      "[EMF_RBM] Iteration 161, pseudo-likelihood = -68.61, time = 15.41s\n",
      "computing TAP Free Energies\n",
      "monitor:  -330.751919176 178.187273565 -124.391188313\n",
      "[EMF_RBM] Iteration 162, pseudo-likelihood = -67.49, time = 15.53s\n",
      "computing TAP Free Energies\n",
      "monitor:  -331.195538346 178.092486979 -124.882126527\n",
      "[EMF_RBM] Iteration 163, pseudo-likelihood = -71.46, time = 15.52s\n",
      "computing TAP Free Energies\n",
      "monitor:  -331.635032719 177.998540394 -125.368605381\n",
      "[EMF_RBM] Iteration 164, pseudo-likelihood = -68.11, time = 15.63s\n",
      "computing TAP Free Energies\n",
      "monitor:  -332.070775514 177.905418956 -125.850988481\n",
      "[EMF_RBM] Iteration 165, pseudo-likelihood = -67.87, time = 15.68s\n",
      "computing TAP Free Energies\n",
      "monitor:  -332.502871204 177.813105345 -126.329392522\n",
      "[EMF_RBM] Iteration 166, pseudo-likelihood = -68.50, time = 15.59s\n",
      "computing TAP Free Energies\n",
      "monitor:  -332.931256357 177.721548052 -126.803809469\n",
      "[EMF_RBM] Iteration 167, pseudo-likelihood = -70.77, time = 16.70s\n",
      "computing TAP Free Energies\n",
      "monitor:  -333.356150372 177.630807683 -127.274373858\n",
      "[EMF_RBM] Iteration 168, pseudo-likelihood = -70.40, time = 16.34s\n",
      "computing TAP Free Energies\n",
      "monitor:  -333.777548625 177.540899705 -127.741053187\n",
      "[EMF_RBM] Iteration 169, pseudo-likelihood = -70.59, time = 15.63s\n",
      "computing TAP Free Energies\n",
      "monitor:  -334.195484568 177.451773549 -128.203937135\n",
      "[EMF_RBM] Iteration 170, pseudo-likelihood = -65.63, time = 15.93s\n",
      "computing TAP Free Energies\n",
      "monitor:  -334.609987437 177.363443838 -128.663034058\n",
      "[EMF_RBM] Iteration 171, pseudo-likelihood = -69.03, time = 17.40s\n",
      "computing TAP Free Energies\n",
      "monitor:  -335.020921117 177.275883966 -129.118222928\n",
      "[EMF_RBM] Iteration 172, pseudo-likelihood = -67.96, time = 16.58s\n",
      "computing TAP Free Energies\n",
      "monitor:  -335.428384212 177.18907013 -129.569632954\n",
      "[EMF_RBM] Iteration 173, pseudo-likelihood = -67.82, time = 16.24s\n",
      "computing TAP Free Energies\n",
      "monitor:  -335.832353073 177.102969571 -130.017276148\n",
      "[EMF_RBM] Iteration 174, pseudo-likelihood = -67.97, time = 16.13s\n",
      "computing TAP Free Energies\n",
      "monitor:  -336.232742029 177.017526782 -130.461138099\n",
      "[EMF_RBM] Iteration 175, pseudo-likelihood = -66.87, time = 15.61s\n",
      "computing TAP Free Energies\n",
      "monitor:  -336.629825763 176.932761039 -130.901449664\n",
      "[EMF_RBM] Iteration 176, pseudo-likelihood = -65.96, time = 15.58s\n",
      "computing TAP Free Energies\n",
      "monitor:  -337.023634196 176.848689237 -131.33819581\n",
      "[EMF_RBM] Iteration 177, pseudo-likelihood = -67.73, time = 15.64s\n",
      "computing TAP Free Energies\n",
      "monitor:  -337.414297434 176.765361892 -131.771452386\n",
      "[EMF_RBM] Iteration 178, pseudo-likelihood = -67.80, time = 16.02s\n",
      "computing TAP Free Energies\n",
      "monitor:  -337.80172256 176.682707452 -132.201208989\n",
      "[EMF_RBM] Iteration 179, pseudo-likelihood = -67.54, time = 16.23s\n",
      "computing TAP Free Energies\n",
      "monitor:  -338.185862263 176.600679005 -132.627459568\n",
      "[EMF_RBM] Iteration 180, pseudo-likelihood = -65.92, time = 16.17s\n",
      "computing TAP Free Energies\n",
      "monitor:  -338.567021332 176.519340462 -133.05041814\n",
      "[EMF_RBM] Iteration 181, pseudo-likelihood = -67.08, time = 16.27s\n",
      "computing TAP Free Energies\n",
      "monitor:  -338.944886976 176.438658292 -133.469811898\n",
      "[EMF_RBM] Iteration 182, pseudo-likelihood = -66.59, time = 16.12s\n",
      "computing TAP Free Energies\n",
      "monitor:  -339.319691705 176.358665301 -133.885829891\n",
      "[EMF_RBM] Iteration 183, pseudo-likelihood = -68.96, time = 16.67s\n",
      "computing TAP Free Energies\n",
      "monitor:  -339.691306786 176.27930392 -134.298412867\n",
      "[EMF_RBM] Iteration 184, pseudo-likelihood = -70.16, time = 16.39s\n",
      "computing TAP Free Energies\n",
      "monitor:  -340.059967306 176.200627206 -134.707725012\n",
      "[EMF_RBM] Iteration 185, pseudo-likelihood = -64.64, time = 15.74s\n",
      "computing TAP Free Energies\n",
      "monitor:  -340.425604928 176.12254166 -135.113805843\n",
      "[EMF_RBM] Iteration 186, pseudo-likelihood = -62.65, time = 15.75s\n",
      "computing TAP Free Energies\n",
      "monitor:  -340.788212052 176.045047918 -135.51664983\n",
      "[EMF_RBM] Iteration 187, pseudo-likelihood = -63.67, time = 15.66s\n",
      "computing TAP Free Energies\n",
      "monitor:  -341.148036415 175.968232877 -135.916375161\n",
      "[EMF_RBM] Iteration 188, pseudo-likelihood = -65.45, time = 15.62s\n",
      "computing TAP Free Energies\n",
      "monitor:  -341.504920436 175.892034334 -136.312900562\n",
      "[EMF_RBM] Iteration 189, pseudo-likelihood = -67.48, time = 17.02s\n",
      "computing TAP Free Energies\n",
      "monitor:  -341.858820718 175.81646736 -136.7061675\n",
      "[EMF_RBM] Iteration 190, pseudo-likelihood = -63.94, time = 16.82s\n",
      "computing TAP Free Energies\n",
      "monitor:  -342.209923721 175.741539825 -137.096336074\n",
      "[EMF_RBM] Iteration 191, pseudo-likelihood = -69.01, time = 16.82s\n",
      "computing TAP Free Energies\n",
      "monitor:  -342.558121522 175.66722424 -137.483321757\n",
      "[EMF_RBM] Iteration 192, pseudo-likelihood = -66.40, time = 18.11s\n",
      "computing TAP Free Energies\n",
      "monitor:  -342.903614299 175.593477461 -137.867379144\n",
      "[EMF_RBM] Iteration 193, pseudo-likelihood = -67.00, time = 17.10s\n",
      "computing TAP Free Energies\n",
      "monitor:  -343.246391338 175.520251684 -138.248544209\n",
      "[EMF_RBM] Iteration 194, pseudo-likelihood = -65.61, time = 17.37s\n",
      "computing TAP Free Energies\n",
      "monitor:  -343.586464858 175.447529946 -138.626845034\n",
      "[EMF_RBM] Iteration 195, pseudo-likelihood = -66.31, time = 17.66s\n",
      "computing TAP Free Energies\n",
      "monitor:  -343.923906224 175.375417154 -139.002222998\n",
      "[EMF_RBM] Iteration 196, pseudo-likelihood = -64.83, time = 16.81s\n",
      "computing TAP Free Energies\n",
      "monitor:  -344.258780674 175.303907342 -139.374738579\n",
      "[EMF_RBM] Iteration 197, pseudo-likelihood = -64.53, time = 16.05s\n",
      "computing TAP Free Energies\n",
      "monitor:  -344.591219371 175.232957198 -139.744559406\n",
      "[EMF_RBM] Iteration 198, pseudo-likelihood = -65.67, time = 16.06s\n",
      "computing TAP Free Energies\n",
      "monitor:  -344.921196005 175.162550652 -140.111679819\n",
      "[EMF_RBM] Iteration 199, pseudo-likelihood = -67.78, time = 16.69s\n",
      "computing TAP Free Energies\n",
      "monitor:  -345.248637312 175.092719899 -140.475991503\n",
      "[EMF_RBM] Iteration 200, pseudo-likelihood = -67.41, time = 17.21s\n",
      "computing TAP Free Energies\n",
      "monitor:  -345.573529796 175.023456569 -140.837486915\n"
     ]
    }
   ],
   "source": [
    "import emf_rbm\n",
    "rbm = emf_rbm.EMF_RBM(verbose=True, monitor=True, learning_rate=0.01, n_iter=200)\n",
    "print rbm\n",
    "rbm= rbm.fit(X_train)"
   ]
  },
  {
   "cell_type": "code",
   "execution_count": 11,
   "metadata": {
    "ExecuteTime": {
     "end_time": "2017-03-06T23:14:34.190830",
     "start_time": "2017-03-06T23:14:33.831091"
    },
    "collapsed": false,
    "scrolled": true
   },
   "outputs": [
    {
     "data": {
      "text/plain": [
       "<matplotlib.text.Text at 0x107fa2850>"
      ]
     },
     "execution_count": 11,
     "metadata": {},
     "output_type": "execute_result"
    },
    {
     "data": {
      "image/png": "[encoded data removed]",
      "text/plain": [
       "<matplotlib.figure.Figure at 0x1236cb710>"
      ]
     },
     "metadata": {},
     "output_type": "display_data"
    }
   ],
   "source": [
    "plt.plot(rbm.entropies-rbm.entropies[0], color='red', label='Entropy')\n",
    "plt.plot(rbm.mean_field_energies-rbm.mean_field_energies[0], color='blue', label='MF Energy')\n",
    "plt.plot(rbm.free_energies-rbm.free_energies[0], color='green', label='Free Energy')\n",
    "plt.legend(loc='upper right')\n",
    "plt.title(\"Ominglot: Free Energy, Mean Field Enegry, & Entropy vs Epochs\")\n"
   ]
  },
  {
   "cell_type": "code",
   "execution_count": 12,
   "metadata": {
    "ExecuteTime": {
     "end_time": "2017-03-06T23:14:34.318357",
     "start_time": "2017-03-06T23:14:34.192573"
    },
    "collapsed": true
   },
   "outputs": [],
   "source": [
    "from sklearn.preprocessing import binarize\n",
    "X_test = binarize(test_x, threshold=0.5, copy=True)"
   ]
  },
  {
   "cell_type": "code",
   "execution_count": 13,
   "metadata": {
    "ExecuteTime": {
     "end_time": "2017-03-06T23:14:34.326978",
     "start_time": "2017-03-06T23:14:34.319923"
    },
    "collapsed": false
   },
   "outputs": [
    {
     "data": {
      "text/plain": [
       "array([ 0,  1,  2,  3,  4,  5,  6,  7,  8,  9, 10, 11, 12, 13, 14, 15, 16,\n",
       "       17, 18, 19, 20, 21, 22, 23, 24, 25, 26, 27, 28, 29, 30, 31, 32, 33,\n",
       "       34, 35, 36, 37, 38, 39, 40, 41, 42, 43, 44, 45, 46, 47, 48, 49])"
      ]
     },
     "execution_count": 13,
     "metadata": {},
     "output_type": "execute_result"
    }
   ],
   "source": [
    "np.unique(train_y)"
   ]
  },
  {
   "cell_type": "code",
   "execution_count": 15,
   "metadata": {
    "ExecuteTime": {
     "end_time": "2017-03-06T23:30:26.448407",
     "start_time": "2017-03-06T23:23:07.541541"
    },
    "collapsed": false
   },
   "outputs": [
    {
     "name": "stdout",
     "output_type": "stream",
     "text": [
      "LinearSVC(C=1.0, class_weight=None, dual=True, fit_intercept=True,\n",
      "     intercept_scaling=1, loss='squared_hinge', max_iter=1000,\n",
      "     multi_class='ovr', penalty='l2', random_state=None, tol=0.0001,\n",
      "     verbose=0) 0.260470879802\n"
     ]
    }
   ],
   "source": [
    "from sklearn.svm import LinearSVC\n",
    "from sklearn.metrics import accuracy_score\n",
    "\n",
    "F_train = rbm.transform(X_train)\n",
    "F_test = rbm.transform(X_test)\n",
    "\n",
    "classifier = LinearSVC(C=1.0)\n",
    "classifier.fit(F_train, train_y)\n",
    "test_emf_rbm_pred_y = classifier.predict(F_test)\n",
    "emf_accuracy = accuracy_score(y_pred=test_emf_rbm_pred_y, y_true=test_y)\n",
    "print classifier, emf_accuracy"
   ]
  },
  {
   "cell_type": "code",
   "execution_count": null,
   "metadata": {
    "collapsed": true
   },
   "outputs": [],
   "source": []
  }
 ],
 "metadata": {
  "anaconda-cloud": {},
  "kernelspec": {
   "display_name": "Python [Root]",
   "language": "python",
   "name": "Python [Root]"
  },
  "language_info": {
   "codemirror_mode": {
    "name": "ipython",
    "version": 2
   },
   "file_extension": ".py",
   "mimetype": "text/x-python",
   "name": "python",
   "nbconvert_exporter": "python",
   "pygments_lexer": "ipython2",
   "version": "2.7.12"
  }
 },
 "nbformat": 4,
 "nbformat_minor": 0
}
