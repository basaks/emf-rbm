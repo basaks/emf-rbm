{
 "cells": [
  {
   "cell_type": "markdown",
   "metadata": {},
   "source": [
    "#  EMF RBM Omniglot\n",
    "\n",
    "### Binarized, 200 Epochs, faster learning rate, with momentum\n",
    "\n",
    "Look at different ways of computing the\n",
    "\n",
    "- energy density\n",
    "- free energy density\n",
    "- entropy density\n",
    "\n",
    "We can\n",
    "\n",
    "- use the TAP S and MF Energy *U_naive   \n",
    "    - which takes an equlibration step first  \n",
    "    - S(mv, mh), U_naive(mv, mh)\n",
    "- use a simple h = means_hiddens() step\n",
    "    - S(v, h), E_MF(v, h)\n"
   ]
  },
  {
   "cell_type": "code",
   "execution_count": 1,
   "metadata": {
    "ExecuteTime": {
     "end_time": "2017-03-06T14:43:11.684773",
     "start_time": "2017-03-06T14:43:09.146406"
    },
    "collapsed": false
   },
   "outputs": [
    {
     "name": "stderr",
     "output_type": "stream",
     "text": [
      "/Users/charlesmartin14/anaconda/lib/python2.7/site-packages/matplotlib/font_manager.py:273: UserWarning: Matplotlib is building the font cache using fc-list. This may take a moment.\n",
      "  warnings.warn('Matplotlib is building the font cache using fc-list. This may take a moment.')\n",
      "/Users/charlesmartin14/anaconda/lib/python2.7/site-packages/sklearn/cross_validation.py:44: DeprecationWarning: This module was deprecated in version 0.18 in favor of the model_selection module into which all the refactored classes and functions are moved. Also note that the interface of the new CV iterators are different from that of this module. This module will be removed in 0.20.\n",
      "  \"This module will be removed in 0.20.\", DeprecationWarning)\n"
     ]
    }
   ],
   "source": [
    "import numpy as np\n",
    "import h5py\n",
    "\n",
    "import matplotlib\n",
    "import matplotlib as mpl\n",
    "import matplotlib.pyplot as plt\n",
    "%matplotlib inline \n",
    "\n",
    "from sklearn import linear_model, datasets, metrics, preprocessing \n",
    "from sklearn.cross_validation import train_test_split\n",
    "from sklearn.metrics import accuracy_score\n",
    "\n",
    "import psutil"
   ]
  },
  {
   "cell_type": "code",
   "execution_count": 2,
   "metadata": {
    "ExecuteTime": {
     "end_time": "2017-03-06T14:43:11.694119",
     "start_time": "2017-03-06T14:43:11.686403"
    },
    "collapsed": false
   },
   "outputs": [
    {
     "data": {
      "text/plain": [
       "{'divide': 'warn', 'invalid': 'warn', 'over': 'warn', 'under': 'ignore'}"
      ]
     },
     "execution_count": 2,
     "metadata": {},
     "output_type": "execute_result"
    }
   ],
   "source": [
    "from sklearn.datasets import fetch_mldata\n",
    "from sklearn.utils.validation import assert_all_finite\n",
    "from scipy.sparse import csc_matrix, csr_matrix, lil_matrix\n",
    "from sklearn.preprocessing import Binarizer\n",
    "np.seterr(all='warn')"
   ]
  },
  {
   "cell_type": "code",
   "execution_count": 3,
   "metadata": {
    "ExecuteTime": {
     "end_time": "2017-03-06T14:43:12.352957",
     "start_time": "2017-03-06T14:43:12.346312"
    },
    "collapsed": true
   },
   "outputs": [],
   "source": [
    "from scipy.io import loadmat\n",
    "import matplotlib.pyplot as plt\n",
    "import matplotlib as mpl\n",
    "\n",
    "def show_image(image): \n",
    "    fig = plt.figure()\n",
    "    ax = fig.add_subplot(1,1,1)\n",
    "    imgplot = ax.imshow(image, cmap=mpl.cm.Greys)\n",
    "    imgplot.set_interpolation('nearest')\n",
    "    ax.xaxis.set_ticks_position('top')\n",
    "    ax.yaxis.set_ticks_position('left')\n",
    "    plt.show()"
   ]
  },
  {
   "cell_type": "code",
   "execution_count": 4,
   "metadata": {
    "ExecuteTime": {
     "end_time": "2017-03-06T14:43:12.562232",
     "start_time": "2017-03-06T14:43:12.556901"
    },
    "collapsed": true
   },
   "outputs": [],
   "source": [
    "import rbm_datasets"
   ]
  },
  {
   "cell_type": "code",
   "execution_count": 5,
   "metadata": {
    "ExecuteTime": {
     "end_time": "2017-03-06T14:43:15.063167",
     "start_time": "2017-03-06T14:43:12.747815"
    },
    "collapsed": false
   },
   "outputs": [],
   "source": [
    "train_x, train_y, train_char, test_x, test_y, test_char = rbm_datasets.load_omniglot_iwae()"
   ]
  },
  {
   "cell_type": "code",
   "execution_count": 6,
   "metadata": {
    "ExecuteTime": {
     "end_time": "2017-03-06T14:43:15.261333",
     "start_time": "2017-03-06T14:43:15.064759"
    },
    "collapsed": false
   },
   "outputs": [],
   "source": [
    "from sklearn.preprocessing import binarize\n",
    "X_train = binarize(train_x, threshold=0.5, copy=True)"
   ]
  },
  {
   "cell_type": "code",
   "execution_count": 7,
   "metadata": {
    "ExecuteTime": {
     "end_time": "2017-03-06T14:43:16.757845",
     "start_time": "2017-03-06T14:43:15.262966"
    },
    "collapsed": false
   },
   "outputs": [
    {
     "data": {
      "image/png": "[encoded data removed]",
      "text/plain": [
       "<matplotlib.figure.Figure at 0x10df43d10>"
      ]
     },
     "metadata": {},
     "output_type": "display_data"
    },
    {
     "data": {
      "image/png": "[encoded data removed]",
      "text/plain": [
       "<matplotlib.figure.Figure at 0x10df98510>"
      ]
     },
     "metadata": {},
     "output_type": "display_data"
    },
    {
     "data": {
      "image/png": "[encoded data removed]",
      "text/plain": [
       "<matplotlib.figure.Figure at 0x11567cbd0>"
      ]
     },
     "metadata": {},
     "output_type": "display_data"
    },
    {
     "data": {
      "image/png": "[encoded data removed]",
      "text/plain": [
       "<matplotlib.figure.Figure at 0x1158fbb50>"
      ]
     },
     "metadata": {},
     "output_type": "display_data"
    },
    {
     "data": {
      "image/png": "[encoded data removed]",
      "text/plain": [
       "<matplotlib.figure.Figure at 0x1159a3dd0>"
      ]
     },
     "metadata": {},
     "output_type": "display_data"
    },
    {
     "data": {
      "image/png": "[encoded data removed]",
      "text/plain": [
       "<matplotlib.figure.Figure at 0x115cd0f50>"
      ]
     },
     "metadata": {},
     "output_type": "display_data"
    },
    {
     "data": {
      "image/png": "[encoded data removed]",
      "text/plain": [
       "<matplotlib.figure.Figure at 0x115e2e3d0>"
      ]
     },
     "metadata": {},
     "output_type": "display_data"
    },
    {
     "data": {
      "image/png": "[encoded data removed]",
      "text/plain": [
       "<matplotlib.figure.Figure at 0x115ecbc50>"
      ]
     },
     "metadata": {},
     "output_type": "display_data"
    },
    {
     "data": {
      "image/png": "[encoded data removed]",
      "text/plain": [
       "<matplotlib.figure.Figure at 0x1160d4810>"
      ]
     },
     "metadata": {},
     "output_type": "display_data"
    },
    {
     "data": {
      "image/png": "[encoded data removed]",
      "text/plain": [
       "<matplotlib.figure.Figure at 0x115d6cf90>"
      ]
     },
     "metadata": {},
     "output_type": "display_data"
    }
   ],
   "source": [
    "for i in range(5):\n",
    "    show_image(X_train[i+100].reshape(28,28))\n",
    "    show_image(train_x[i+100].reshape(28,28))"
   ]
  },
  {
   "cell_type": "code",
   "execution_count": 8,
   "metadata": {
    "ExecuteTime": {
     "end_time": "2017-03-06T14:43:16.762767",
     "start_time": "2017-03-06T14:43:16.759412"
    },
    "collapsed": false
   },
   "outputs": [
    {
     "data": {
      "text/plain": [
       "(24345, 784)"
      ]
     },
     "execution_count": 8,
     "metadata": {},
     "output_type": "execute_result"
    }
   ],
   "source": [
    "X_train.shape"
   ]
  },
  {
   "cell_type": "markdown",
   "metadata": {
    "ExecuteTime": {
     "end_time": "2016-10-20T17:56:14.156132",
     "start_time": "2016-10-20T17:56:14.153682"
    }
   },
   "source": [
    "### EMF RBM"
   ]
  },
  {
   "cell_type": "code",
   "execution_count": 9,
   "metadata": {
    "ExecuteTime": {
     "end_time": "2017-03-06T14:43:27.827304",
     "start_time": "2017-03-06T14:43:27.822781"
    },
    "collapsed": false
   },
   "outputs": [
    {
     "data": {
      "text/plain": [
       "sswap(total=9663676416L, used=7910719488L, free=1752956928L, percent=81.9, sin=64430620672L, sout=624091136L)"
      ]
     },
     "execution_count": 9,
     "metadata": {},
     "output_type": "execute_result"
    }
   ],
   "source": [
    "psutil.swap_memory()"
   ]
  },
  {
   "cell_type": "markdown",
   "metadata": {},
   "source": [
    "### mean Entropy, Energy, and Free Energy\n",
    "\n",
    "need to grid search these parameters and plot"
   ]
  },
  {
   "cell_type": "code",
   "execution_count": 12,
   "metadata": {
    "ExecuteTime": {
     "end_time": "2017-03-06T14:53:32.326715",
     "start_time": "2017-03-06T14:48:07.569926"
    },
    "collapsed": false
   },
   "outputs": [
    {
     "name": "stdout",
     "output_type": "stream",
     "text": [
      "EMF_RBM(batch_size=100, decay=0.1, learning_rate=0.1, momentum=0.25,\n",
      "    monitor=True, n_components=256, n_iter=20, neq_steps=3,\n",
      "    random_state=<mtrand.RandomState object at 0x106e7a3c0>, sigma=0.01,\n",
      "    thresh=1e-08, verbose=True, weight_decay='L1')\n",
      "[EMF_RBM] Iteration 1, pseudo-likelihood = -148.13, time = 6.34s\n",
      "computing TAP Free Energies\n",
      "monitor:  -181.827475361 286.062118642 106.880495497\n",
      "[EMF_RBM] Iteration 2, pseudo-likelihood = -129.24, time = 15.35s\n",
      "computing TAP Free Energies\n",
      "monitor:  -177.063406042 257.423971435 86.6211306868\n",
      "[EMF_RBM] Iteration 3, pseudo-likelihood = -115.13, time = 15.73s\n",
      "computing TAP Free Energies\n",
      "monitor:  -185.663694989 244.436920555 68.3220989913\n",
      "[EMF_RBM] Iteration 4, pseudo-likelihood = -104.67, time = 18.72s\n",
      "computing TAP Free Energies\n",
      "monitor:  -197.70002331 235.179934571 49.6281101364\n",
      "[EMF_RBM] Iteration 5, pseudo-likelihood = -100.64, time = 16.70s\n",
      "computing TAP Free Energies\n",
      "monitor:  -211.173697537 228.738151639 31.7645808548\n",
      "[EMF_RBM] Iteration 6, pseudo-likelihood = -94.97, time = 16.16s\n",
      "computing TAP Free Energies\n",
      "monitor:  -224.582977475 223.541437661 14.8289481977\n",
      "[EMF_RBM] Iteration 7, pseudo-likelihood = -91.23, time = 15.92s\n",
      "computing TAP Free Energies\n",
      "monitor:  -236.937379149 219.02822565 -0.668928099905\n",
      "[EMF_RBM] Iteration 8, pseudo-likelihood = -92.14, time = 16.07s\n",
      "computing TAP Free Energies\n",
      "monitor:  -247.866941353 215.094541214 -14.3663411822\n",
      "[EMF_RBM] Iteration 9, pseudo-likelihood = -84.69, time = 15.83s\n",
      "computing TAP Free Energies\n",
      "monitor:  -257.412556754 211.647229817 -26.3370779937\n",
      "[EMF_RBM] Iteration 10, pseudo-likelihood = -83.23, time = 15.77s\n",
      "computing TAP Free Energies\n",
      "monitor:  -265.675050073 208.56465564 -36.7723442544\n",
      "[EMF_RBM] Iteration 11, pseudo-likelihood = -81.27, time = 16.05s\n",
      "computing TAP Free Energies\n",
      "monitor:  -272.81086998 205.791623188 -45.8589437013\n",
      "[EMF_RBM] Iteration 12, pseudo-likelihood = -81.56, time = 15.77s\n",
      "computing TAP Free Energies\n",
      "monitor:  -278.974974192 203.249711964 -53.8219844072\n",
      "[EMF_RBM] Iteration 13, pseudo-likelihood = -80.37, time = 16.25s\n",
      "computing TAP Free Energies\n",
      "monitor:  -284.327689599 200.930468249 -60.8162517571\n",
      "[EMF_RBM] Iteration 14, pseudo-likelihood = -77.13, time = 16.26s\n",
      "computing TAP Free Energies\n",
      "monitor:  -289.017645824 198.829412175 -66.9797877326\n",
      "[EMF_RBM] Iteration 15, pseudo-likelihood = -76.72, time = 18.19s\n",
      "computing TAP Free Energies\n",
      "monitor:  -293.186176613 196.941727802 -72.4457207366\n",
      "[EMF_RBM] Iteration 16, pseudo-likelihood = -74.92, time = 16.13s\n",
      "computing TAP Free Energies\n",
      "monitor:  -296.909062167 195.243053839 -77.3139575428\n",
      "[EMF_RBM] Iteration 17, pseudo-likelihood = -73.56, time = 16.79s\n",
      "computing TAP Free Energies\n",
      "monitor:  -300.273937099 193.698458246 -81.707030137\n",
      "[EMF_RBM] Iteration 18, pseudo-likelihood = -73.94, time = 16.06s\n",
      "computing TAP Free Energies\n",
      "monitor:  -303.329809811 192.288912228 -85.6888180207\n",
      "[EMF_RBM] Iteration 19, pseudo-likelihood = -73.46, time = 15.76s\n",
      "computing TAP Free Energies\n",
      "monitor:  -306.12901152 190.998302646 -89.3272470662\n",
      "[EMF_RBM] Iteration 20, pseudo-likelihood = -68.45, time = 15.59s\n",
      "computing TAP Free Energies\n",
      "monitor:  -308.708658206 189.81245044 -92.6708123546\n"
     ]
    }
   ],
   "source": [
    "import emf_rbm\n",
    "rbm = emf_rbm.EMF_RBM(verbose=True, monitor=True, learning_rate=0.1, n_iter=20,momentum=0.25, sigma=0.01, decay=0.1)\n",
    "print rbm\n",
    "rbm= rbm.fit(X_train)"
   ]
  },
  {
   "cell_type": "code",
   "execution_count": 13,
   "metadata": {
    "ExecuteTime": {
     "end_time": "2017-03-06T14:57:10.470643",
     "start_time": "2017-03-06T14:57:10.181457"
    },
    "collapsed": false,
    "scrolled": true
   },
   "outputs": [
    {
     "data": {
      "text/plain": [
       "<matplotlib.text.Text at 0x10edb20d0>"
      ]
     },
     "execution_count": 13,
     "metadata": {},
     "output_type": "execute_result"
    },
    {
     "data": {
      "image/png": "[encoded data removed]",
      "text/plain": [
       "<matplotlib.figure.Figure at 0x115eea750>"
      ]
     },
     "metadata": {},
     "output_type": "display_data"
    }
   ],
   "source": [
    "plt.plot(rbm.entropies-rbm.entropies[0], color='red', label='Entropy')\n",
    "plt.plot(rbm.mean_field_energies-rbm.mean_field_energies[0], color='blue', label='MF Energy')\n",
    "plt.plot(rbm.free_energies-rbm.free_energies[0], color='green', label='Free Energy')\n",
    "plt.legend(loc='upper right')\n",
    "plt.title(\"Ominglot: Free Energy, Mean Field Enegry, & Entropy vs Epochs\")\n"
   ]
  },
  {
   "cell_type": "markdown",
   "metadata": {},
   "source": [
    "### Entropy does not flatline so fast"
   ]
  },
  {
   "cell_type": "code",
   "execution_count": 14,
   "metadata": {
    "ExecuteTime": {
     "end_time": "2017-03-06T14:57:14.700369",
     "start_time": "2017-03-06T14:57:14.591233"
    },
    "collapsed": true
   },
   "outputs": [],
   "source": [
    "from sklearn.preprocessing import binarize\n",
    "X_test = binarize(test_x, threshold=0.5, copy=True)"
   ]
  },
  {
   "cell_type": "code",
   "execution_count": 15,
   "metadata": {
    "ExecuteTime": {
     "end_time": "2017-03-06T14:57:14.765628",
     "start_time": "2017-03-06T14:57:14.759867"
    },
    "collapsed": false
   },
   "outputs": [
    {
     "data": {
      "text/plain": [
       "array([ 0,  1,  2,  3,  4,  5,  6,  7,  8,  9, 10, 11, 12, 13, 14, 15, 16,\n",
       "       17, 18, 19, 20, 21, 22, 23, 24, 25, 26, 27, 28, 29, 30, 31, 32, 33,\n",
       "       34, 35, 36, 37, 38, 39, 40, 41, 42, 43, 44, 45, 46, 47, 48, 49])"
      ]
     },
     "execution_count": 15,
     "metadata": {},
     "output_type": "execute_result"
    }
   ],
   "source": [
    "np.unique(train_y)"
   ]
  },
  {
   "cell_type": "code",
   "execution_count": 18,
   "metadata": {
    "ExecuteTime": {
     "end_time": "2017-03-06T15:46:19.939087",
     "start_time": "2017-03-06T15:15:29.520125"
    },
    "collapsed": false
   },
   "outputs": [
    {
     "name": "stdout",
     "output_type": "stream",
     "text": [
      "LinearSVC(C=0.01, class_weight=None, dual=True, fit_intercept=True,\n",
      "     intercept_scaling=1, loss='squared_hinge', max_iter=1000,\n",
      "     multi_class='ovr', penalty='l2', random_state=None, tol=0.0001,\n",
      "     verbose=0) 0.256133828996\n",
      "LinearSVC(C=0.1, class_weight=None, dual=True, fit_intercept=True,\n",
      "     intercept_scaling=1, loss='squared_hinge', max_iter=1000,\n",
      "     multi_class='ovr', penalty='l2', random_state=None, tol=0.0001,\n",
      "     verbose=0) 0.260346964064\n",
      "LinearSVC(C=1, class_weight=None, dual=True, fit_intercept=True,\n",
      "     intercept_scaling=1, loss='squared_hinge', max_iter=1000,\n",
      "     multi_class='ovr', penalty='l2', random_state=None, tol=0.0001,\n",
      "     verbose=0) 0.26009913259\n",
      "LinearSVC(C=10, class_weight=None, dual=True, fit_intercept=True,\n",
      "     intercept_scaling=1, loss='squared_hinge', max_iter=1000,\n",
      "     multi_class='ovr', penalty='l2', random_state=None, tol=0.0001,\n",
      "     verbose=0) 0.212639405204\n",
      "LinearSVC(C=100, class_weight=None, dual=True, fit_intercept=True,\n",
      "     intercept_scaling=1, loss='squared_hinge', max_iter=1000,\n",
      "     multi_class='ovr', penalty='l2', random_state=None, tol=0.0001,\n",
      "     verbose=0) 0.125526641884\n"
     ]
    }
   ],
   "source": [
    "from sklearn.svm import LinearSVC\n",
    "from sklearn.metrics import accuracy_score\n",
    "\n",
    "F_train = rbm.transform(X_train)\n",
    "F_test = rbm.transform(X_test)\n",
    "\n",
    "for c in [0.01, 0.1, 1, 10, 100]:\n",
    "    classifier = LinearSVC(C=c)\n",
    "    classifier.fit(F_train, train_y)\n",
    "    test_emf_rbm_pred_y = classifier.predict(F_test)\n",
    "    emf_accuracy = accuracy_score(y_pred=test_emf_rbm_pred_y, y_true=test_y)\n",
    "    print classifier, emf_accuracy"
   ]
  },
  {
   "cell_type": "code",
   "execution_count": null,
   "metadata": {
    "ExecuteTime": {
     "end_time": "2017-03-05T23:13:15.864513",
     "start_time": "2017-03-06T07:06:50.647Z"
    },
    "collapsed": true
   },
   "outputs": [],
   "source": []
  },
  {
   "cell_type": "code",
   "execution_count": null,
   "metadata": {
    "collapsed": true
   },
   "outputs": [],
   "source": []
  },
  {
   "cell_type": "code",
   "execution_count": null,
   "metadata": {
    "collapsed": true
   },
   "outputs": [],
   "source": []
  },
  {
   "cell_type": "code",
   "execution_count": null,
   "metadata": {
    "collapsed": true
   },
   "outputs": [],
   "source": []
  }
 ],
 "metadata": {
  "anaconda-cloud": {},
  "kernelspec": {
   "display_name": "Python [Root]",
   "language": "python",
   "name": "Python [Root]"
  },
  "language_info": {
   "codemirror_mode": {
    "name": "ipython",
    "version": 2
   },
   "file_extension": ".py",
   "mimetype": "text/x-python",
   "name": "python",
   "nbconvert_exporter": "python",
   "pygments_lexer": "ipython2",
   "version": "2.7.12"
  }
 },
 "nbformat": 4,
 "nbformat_minor": 0
}
