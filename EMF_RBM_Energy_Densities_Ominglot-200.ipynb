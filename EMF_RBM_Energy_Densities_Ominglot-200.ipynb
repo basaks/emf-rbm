{
 "cells": [
  {
   "cell_type": "markdown",
   "metadata": {},
   "source": [
    "#  EMF RBM Energy Densities 200 Epochs\n",
    "\n",
    "Look at different ways of computing the\n",
    "\n",
    "- energy density\n",
    "- free energy density\n",
    "- entropy density\n",
    "\n",
    "We can\n",
    "\n",
    "- use the TAP S and MF Energy *U_naive   \n",
    "    - which takes an equlibration step first  \n",
    "    - S(mv, mh), U_naive(mv, mh)\n",
    "- use a simple h = means_hiddens() step\n",
    "    - S(v, h), E_MF(v, h)\n"
   ]
  },
  {
   "cell_type": "code",
   "execution_count": 1,
   "metadata": {
    "ExecuteTime": {
     "end_time": "2016-11-08T23:33:50.367876",
     "start_time": "2016-11-08T23:33:50.361534"
    },
    "collapsed": false
   },
   "outputs": [],
   "source": [
    "import numpy as np\n",
    "import h5py\n",
    "\n",
    "import matplotlib\n",
    "import matplotlib as mpl\n",
    "import matplotlib.pyplot as plt\n",
    "%matplotlib inline \n",
    "\n",
    "from sklearn import linear_model, datasets, metrics, preprocessing \n",
    "from sklearn.cross_validation import train_test_split\n",
    "from sklearn.metrics import accuracy_score\n",
    "\n",
    "import psutil"
   ]
  },
  {
   "cell_type": "code",
   "execution_count": 2,
   "metadata": {
    "ExecuteTime": {
     "end_time": "2016-11-08T23:33:50.512461",
     "start_time": "2016-11-08T23:33:50.507597"
    },
    "collapsed": false
   },
   "outputs": [
    {
     "data": {
      "text/plain": [
       "{'divide': 'warn', 'invalid': 'warn', 'over': 'warn', 'under': 'ignore'}"
      ]
     },
     "execution_count": 2,
     "metadata": {},
     "output_type": "execute_result"
    }
   ],
   "source": [
    "from sklearn.datasets import fetch_mldata\n",
    "from sklearn.utils.validation import assert_all_finite\n",
    "from scipy.sparse import csc_matrix, csr_matrix, lil_matrix\n",
    "from sklearn.preprocessing import Binarizer\n",
    "np.seterr(all='warn')"
   ]
  },
  {
   "cell_type": "code",
   "execution_count": 3,
   "metadata": {
    "collapsed": true
   },
   "outputs": [],
   "source": [
    "import rbm_datasets"
   ]
  },
  {
   "cell_type": "code",
   "execution_count": 4,
   "metadata": {
    "collapsed": true
   },
   "outputs": [],
   "source": [
    "train_x, train_t, train_char, test_x, test_t, test_char = rbm_datasets.load_omniglot_iwae()"
   ]
  },
  {
   "cell_type": "code",
   "execution_count": 5,
   "metadata": {
    "collapsed": false
   },
   "outputs": [],
   "source": [
    "from sklearn.preprocessing import binarize\n",
    "X = binarize(train_x, threshold=0.001, copy=True)"
   ]
  },
  {
   "cell_type": "code",
   "execution_count": 6,
   "metadata": {
    "collapsed": true
   },
   "outputs": [],
   "source": [
    "from scipy.io import loadmat\n",
    "import matplotlib.pyplot as plt\n",
    "import matplotlib as mpl\n",
    "\n",
    "def show_image(image): \n",
    "    fig = plt.figure()\n",
    "    ax = fig.add_subplot(1,1,1)\n",
    "    imgplot = ax.imshow(image, cmap=mpl.cm.Greys)\n",
    "    imgplot.set_interpolation('nearest')\n",
    "    ax.xaxis.set_ticks_position('top')\n",
    "    ax.yaxis.set_ticks_position('left')\n",
    "    plt.show()"
   ]
  },
  {
   "cell_type": "code",
   "execution_count": 7,
   "metadata": {
    "collapsed": false
   },
   "outputs": [
    {
     "data": {
      "image/png": "[encoded data removed]",
      "text/plain": [
       "<matplotlib.figure.Figure at 0x7fe4933a4fd0>"
      ]
     },
     "metadata": {},
     "output_type": "display_data"
    },
    {
     "data": {
      "image/png": "[encoded data removed]",
      "text/plain": [
       "<matplotlib.figure.Figure at 0x7fe4d85b4fd0>"
      ]
     },
     "metadata": {},
     "output_type": "display_data"
    },
    {
     "data": {
      "image/png": "[encoded data removed]",
      "text/plain": [
       "<matplotlib.figure.Figure at 0x7fe4911f6f50>"
      ]
     },
     "metadata": {},
     "output_type": "display_data"
    },
    {
     "data": {
      "image/png": "[encoded data removed]",
      "text/plain": [
       "<matplotlib.figure.Figure at 0x7fe49113c890>"
      ]
     },
     "metadata": {},
     "output_type": "display_data"
    },
    {
     "data": {
      "image/png": "[encoded data removed]",
      "text/plain": [
       "<matplotlib.figure.Figure at 0x7fe491066b10>"
      ]
     },
     "metadata": {},
     "output_type": "display_data"
    }
   ],
   "source": [
    "for i in range(5):\n",
    "    show_image(X[i+100].reshape(28,28))"
   ]
  },
  {
   "cell_type": "code",
   "execution_count": 8,
   "metadata": {
    "collapsed": false
   },
   "outputs": [
    {
     "data": {
      "text/plain": [
       "(24345, 784)"
      ]
     },
     "execution_count": 8,
     "metadata": {},
     "output_type": "execute_result"
    }
   ],
   "source": [
    "X.shape"
   ]
  },
  {
   "cell_type": "markdown",
   "metadata": {
    "collapsed": true
   },
   "source": [
    "### Helper methods for simple case"
   ]
  },
  {
   "cell_type": "code",
   "execution_count": 9,
   "metadata": {
    "ExecuteTime": {
     "end_time": "2016-11-08T22:38:39.742812",
     "start_time": "2016-11-08T22:38:39.737075"
    },
    "collapsed": true
   },
   "outputs": [],
   "source": [
    "from sklearn.utils.fixes import expit    \n",
    "from sklearn.utils.extmath import safe_sparse_dot\n",
    "\n",
    "def sig_means(x, b, W):\n",
    "    a = safe_sparse_dot(x, W.T) + b\n",
    "    return expit(a, out=a)"
   ]
  },
  {
   "cell_type": "markdown",
   "metadata": {
    "ExecuteTime": {
     "end_time": "2016-10-20T17:56:14.156132",
     "start_time": "2016-10-20T17:56:14.153682"
    }
   },
   "source": [
    "### Baseline"
   ]
  },
  {
   "cell_type": "code",
   "execution_count": 10,
   "metadata": {
    "collapsed": false
   },
   "outputs": [],
   "source": [
    "import emf_rbm"
   ]
  },
  {
   "cell_type": "code",
   "execution_count": 11,
   "metadata": {
    "ExecuteTime": {
     "end_time": "2016-11-08T22:42:32.963306",
     "start_time": "2016-11-08T22:42:32.959982"
    },
    "collapsed": false
   },
   "outputs": [
    {
     "data": {
      "text/plain": [
       "sswap(total=0, used=0, free=0, percent=0.0, sin=0, sout=0)"
      ]
     },
     "execution_count": 11,
     "metadata": {},
     "output_type": "execute_result"
    }
   ],
   "source": [
    "psutil.swap_memory()"
   ]
  },
  {
   "cell_type": "markdown",
   "metadata": {},
   "source": [
    "### mean Entropy, Energy, and Free Energy"
   ]
  },
  {
   "cell_type": "code",
   "execution_count": 12,
   "metadata": {
    "ExecuteTime": {
     "end_time": "2016-11-08T22:55:48.509468",
     "start_time": "2016-11-08T22:45:04.953105"
    },
    "collapsed": false
   },
   "outputs": [
    {
     "name": "stdout",
     "output_type": "stream",
     "text": [
      "EMF_RBM(batch_size=100, decay=0.01, learning_rate=0.005, momentum=0.5,\n",
      "    monitor=True, n_components=256, n_iter=200, neq_steps=3,\n",
      "    random_state=<mtrand.RandomState object at 0x7fe4bc1aa9b0>,\n",
      "    sigma=0.001, thresh=1e-08, verbose=True, weight_decay='L1')\n",
      "[EMF_RBM] Iteration 1, pseudo-likelihood = -261.69, time = 10.00s\n",
      "computing TAP Free Energies\n",
      "monitor:  -322.233439242 425.616634838 103.391860041\n",
      "[EMF_RBM] Iteration 2, pseudo-likelihood = -259.35, time = 23.59s\n",
      "computing TAP Free Energies\n",
      "monitor:  -320.165129554 423.70809131 103.597077606\n",
      "[EMF_RBM] Iteration 3, pseudo-likelihood = -237.47, time = 23.83s\n",
      "computing TAP Free Energies\n",
      "monitor:  -309.238940586 399.785739346 91.2785931587\n",
      "[EMF_RBM] Iteration 4, pseudo-likelihood = -222.51, time = 23.75s\n",
      "computing TAP Free Energies\n",
      "monitor:  -299.098274769 369.776826355 71.9665752338\n",
      "[EMF_RBM] Iteration 5, pseudo-likelihood = -209.03, time = 23.77s\n",
      "computing TAP Free Energies\n",
      "monitor:  -294.0977835 348.588020567 56.4189010392\n",
      "[EMF_RBM] Iteration 6, pseudo-likelihood = -205.01, time = 23.66s\n",
      "computing TAP Free Energies\n",
      "monitor:  -292.280661979 331.072817725 41.127723353\n",
      "[EMF_RBM] Iteration 7, pseudo-likelihood = -192.87, time = 23.62s\n",
      "computing TAP Free Energies\n",
      "monitor:  -289.953816583 319.869386711 32.6428153998\n",
      "[EMF_RBM] Iteration 8, pseudo-likelihood = -189.18, time = 23.57s\n",
      "computing TAP Free Energies\n",
      "monitor:  -289.261805128 310.786004487 24.7247467989\n",
      "[EMF_RBM] Iteration 9, pseudo-likelihood = -183.82, time = 23.70s\n",
      "computing TAP Free Energies\n",
      "monitor:  -290.490981585 302.207731399 15.4285855823\n",
      "[EMF_RBM] Iteration 10, pseudo-likelihood = -174.86, time = 23.69s\n",
      "computing TAP Free Energies\n",
      "monitor:  -292.5754492 294.259348342 5.87121454623\n",
      "[EMF_RBM] Iteration 11, pseudo-likelihood = -177.18, time = 23.65s\n",
      "computing TAP Free Energies\n",
      "monitor:  -294.718878799 287.26514057 -2.83782916765\n",
      "[EMF_RBM] Iteration 12, pseudo-likelihood = -174.83, time = 23.63s\n",
      "computing TAP Free Energies\n",
      "monitor:  -296.726708792 281.272286026 -10.4423176222\n",
      "[EMF_RBM] Iteration 13, pseudo-likelihood = -166.96, time = 23.67s\n",
      "computing TAP Free Energies\n",
      "monitor:  -298.752844215 276.082522405 -17.2743513362\n",
      "[EMF_RBM] Iteration 14, pseudo-likelihood = -165.67, time = 23.75s\n",
      "computing TAP Free Energies\n",
      "monitor:  -300.975825228 271.389964124 -23.8187096934\n",
      "[EMF_RBM] Iteration 15, pseudo-likelihood = -157.21, time = 23.63s\n",
      "computing TAP Free Energies\n",
      "monitor:  -303.282367788 267.080062166 -30.0800706643\n",
      "[EMF_RBM] Iteration 16, pseudo-likelihood = -153.82, time = 23.82s\n",
      "computing TAP Free Energies\n",
      "monitor:  -305.591530016 263.086698222 -36.0450466562\n",
      "[EMF_RBM] Iteration 17, pseudo-likelihood = -154.66, time = 23.69s\n",
      "computing TAP Free Energies\n",
      "monitor:  -307.917413212 259.35004327 -41.7892184342\n",
      "[EMF_RBM] Iteration 18, pseudo-likelihood = -152.04, time = 23.57s\n",
      "computing TAP Free Energies\n",
      "monitor:  -310.262203846 255.83032163 -47.3549692635\n",
      "[EMF_RBM] Iteration 19, pseudo-likelihood = -147.71, time = 23.57s\n",
      "computing TAP Free Energies\n",
      "monitor:  -312.602356856 252.504090597 -52.7413597687\n",
      "[EMF_RBM] Iteration 20, pseudo-likelihood = -144.54, time = 23.60s\n",
      "computing TAP Free Energies\n",
      "monitor:  -314.915100457 249.361429408 -57.9338550855\n",
      "[EMF_RBM] Iteration 21, pseudo-likelihood = -142.44, time = 23.60s\n",
      "computing TAP Free Energies\n",
      "monitor:  -317.190386388 246.395978088 -62.9267858045\n",
      "[EMF_RBM] Iteration 22, pseudo-likelihood = -140.04, time = 23.66s\n",
      "computing TAP Free Energies\n",
      "monitor:  -319.428349972 243.598363205 -67.7281021412\n",
      "[EMF_RBM] Iteration 23, pseudo-likelihood = -139.72, time = 23.61s\n",
      "computing TAP Free Energies\n",
      "monitor:  -321.631333393 240.953823832 -72.3543355888\n",
      "[EMF_RBM] Iteration 24, pseudo-likelihood = -142.28, time = 23.58s\n",
      "computing TAP Free Energies\n",
      "monitor:  -323.795558655 238.449494236 -76.8146905688\n",
      "[EMF_RBM] Iteration 25, pseudo-likelihood = -137.00, time = 23.59s\n",
      "computing TAP Free Energies\n",
      "monitor:  -325.908249808 236.077709292 -81.1041421689\n",
      "[EMF_RBM] Iteration 26, pseudo-likelihood = -134.82, time = 23.54s\n",
      "computing TAP Free Energies\n",
      "monitor:  -327.951232568 233.837907834 -85.2044021947\n",
      "[EMF_RBM] Iteration 27, pseudo-likelihood = -133.44, time = 23.70s\n",
      "computing TAP Free Energies\n",
      "monitor:  -329.909692163 231.731681522 -89.097437076\n",
      "[EMF_RBM] Iteration 28, pseudo-likelihood = -131.66, time = 23.59s\n",
      "computing TAP Free Energies\n",
      "monitor:  -331.776020655 229.759550175 -92.772802964\n",
      "[EMF_RBM] Iteration 29, pseudo-likelihood = -133.39, time = 23.71s\n",
      "computing TAP Free Energies\n",
      "monitor:  -333.554227921 227.918352483 -96.2351551494\n",
      "[EMF_RBM] Iteration 30, pseudo-likelihood = -128.01, time = 23.92s\n",
      "computing TAP Free Energies\n",
      "monitor:  -335.257315835 226.200715618 -99.5025137005\n",
      "[EMF_RBM] Iteration 31, pseudo-likelihood = -132.17, time = 23.57s\n",
      "computing TAP Free Energies\n",
      "monitor:  -336.904284073 224.596399649 -102.602195319\n",
      "[EMF_RBM] Iteration 32, pseudo-likelihood = -128.18, time = 23.58s\n",
      "computing TAP Free Energies\n",
      "monitor:  -338.515832461 223.091965778 -105.567046811\n",
      "[EMF_RBM] Iteration 33, pseudo-likelihood = -129.50, time = 23.60s\n",
      "computing TAP Free Energies\n",
      "monitor:  -340.111579268 221.673172899 -108.43027574\n",
      "[EMF_RBM] Iteration 34, pseudo-likelihood = -126.43, time = 23.60s\n",
      "computing TAP Free Energies\n",
      "monitor:  -341.708832871 220.325895957 -111.223235509\n",
      "[EMF_RBM] Iteration 35, pseudo-likelihood = -124.37, time = 23.61s\n",
      "computing TAP Free Energies\n",
      "monitor:  -343.320166852 219.037563771 -113.971486257\n",
      "[EMF_RBM] Iteration 36, pseudo-likelihood = -124.76, time = 23.56s\n",
      "computing TAP Free Energies\n",
      "monitor:  -344.951249313 217.797964097 -116.691568373\n",
      "[EMF_RBM] Iteration 37, pseudo-likelihood = -122.22, time = 23.60s\n",
      "computing TAP Free Energies\n",
      "monitor:  -346.603726221 216.599164356 -119.393848625\n",
      "[EMF_RBM] Iteration 38, pseudo-likelihood = -122.84, time = 23.58s\n",
      "computing TAP Free Energies\n",
      "monitor:  -348.274561818 215.435499607 -122.081711743\n",
      "[EMF_RBM] Iteration 39, pseudo-likelihood = -123.26, time = 23.54s\n",
      "computing TAP Free Energies\n",
      "monitor:  -349.958468621 214.303733841 -124.753688094\n",
      "[EMF_RBM] Iteration 40, pseudo-likelihood = -121.60, time = 23.58s\n",
      "computing TAP Free Energies\n",
      "monitor:  -351.648286767 213.201718782 -127.405207754\n",
      "[EMF_RBM] Iteration 41, pseudo-likelihood = -117.67, time = 23.67s\n",
      "computing TAP Free Energies\n",
      "monitor:  -353.338684428 212.12798081 -130.032737349\n",
      "[EMF_RBM] Iteration 42, pseudo-likelihood = -118.37, time = 23.74s\n",
      "computing TAP Free Energies\n",
      "monitor:  -355.022953167 211.081450435 -132.630847108\n",
      "[EMF_RBM] Iteration 43, pseudo-likelihood = -122.49, time = 23.55s\n",
      "computing TAP Free Energies\n",
      "monitor:  -356.696477158 210.061368639 -135.195807045\n",
      "[EMF_RBM] Iteration 44, pseudo-likelihood = -119.95, time = 23.60s\n",
      "computing TAP Free Energies\n",
      "monitor:  -358.354691848 209.066919092 -137.723930847\n",
      "[EMF_RBM] Iteration 45, pseudo-likelihood = -119.59, time = 23.56s\n",
      "computing TAP Free Energies\n",
      "monitor:  -359.993482812 208.097399516 -140.21180335\n",
      "[EMF_RBM] Iteration 46, pseudo-likelihood = -121.64, time = 23.50s\n",
      "computing TAP Free Energies\n",
      "monitor:  -361.61004679 207.152613987 -142.656747557\n",
      "[EMF_RBM] Iteration 47, pseudo-likelihood = -116.54, time = 23.62s\n",
      "computing TAP Free Energies\n",
      "monitor:  -363.201080053 206.23236993 -145.05556639\n",
      "[EMF_RBM] Iteration 48, pseudo-likelihood = -117.44, time = 23.56s\n",
      "computing TAP Free Energies\n",
      "monitor:  -364.764933894 205.335893589 -147.40727804\n",
      "[EMF_RBM] Iteration 49, pseudo-likelihood = -115.35, time = 23.57s\n",
      "computing TAP Free Energies\n",
      "monitor:  -366.300294485 204.462687102 -149.710921486\n",
      "[EMF_RBM] Iteration 50, pseudo-likelihood = -118.84, time = 23.56s\n",
      "computing TAP Free Energies\n",
      "monitor:  -367.806472402 203.612410277 -151.965987743\n",
      "[EMF_RBM] Iteration 51, pseudo-likelihood = -114.19, time = 23.61s\n",
      "computing TAP Free Energies\n",
      "monitor:  -369.282937929 202.78480936 -154.172002802\n",
      "[EMF_RBM] Iteration 52, pseudo-likelihood = -109.11, time = 23.53s\n",
      "computing TAP Free Energies\n",
      "monitor:  -370.730089915 201.979411958 -156.329661675\n",
      "[EMF_RBM] Iteration 53, pseudo-likelihood = -112.36, time = 23.52s\n",
      "computing TAP Free Energies\n",
      "monitor:  -372.148345356 201.195763856 -158.439644781\n",
      "[EMF_RBM] Iteration 54, pseudo-likelihood = -112.57, time = 23.69s\n",
      "computing TAP Free Energies\n",
      "monitor:  -373.538304045 200.43330206 -160.502944204\n",
      "[EMF_RBM] Iteration 55, pseudo-likelihood = -115.15, time = 23.73s\n",
      "computing TAP Free Energies\n",
      "monitor:  -374.901144649 199.69173099 -162.520832031\n",
      "[EMF_RBM] Iteration 56, pseudo-likelihood = -113.90, time = 23.51s\n",
      "computing TAP Free Energies\n",
      "monitor:  -376.238827059 198.970427797 -164.495727258\n",
      "[EMF_RBM] Iteration 57, pseudo-likelihood = -112.37, time = 23.53s\n",
      "computing TAP Free Energies\n",
      "monitor:  -377.552042056 198.268902144 -166.428635229\n",
      "[EMF_RBM] Iteration 58, pseudo-likelihood = -113.96, time = 23.57s\n",
      "computing TAP Free Energies\n",
      "monitor:  -378.842141818 197.586492971 -168.321399917\n",
      "[EMF_RBM] Iteration 59, pseudo-likelihood = -111.31, time = 23.56s\n",
      "computing TAP Free Energies\n",
      "monitor:  -380.110573405 196.922811197 -170.175683717\n",
      "[EMF_RBM] Iteration 60, pseudo-likelihood = -108.82, time = 23.66s\n",
      "computing TAP Free Energies\n",
      "monitor:  -381.358298661 196.277228214 -171.992935436\n",
      "[EMF_RBM] Iteration 61, pseudo-likelihood = -108.91, time = 23.59s\n",
      "computing TAP Free Energies\n",
      "monitor:  -382.586528713 195.64943337 -173.774517153\n",
      "[EMF_RBM] Iteration 62, pseudo-likelihood = -109.76, time = 23.59s\n",
      "computing TAP Free Energies\n",
      "monitor:  -383.796338146 195.038599442 -175.522208378\n",
      "[EMF_RBM] Iteration 63, pseudo-likelihood = -110.78, time = 23.52s\n",
      "computing TAP Free Energies\n",
      "monitor:  -384.988859104 194.444214163 -177.237535336\n",
      "[EMF_RBM] Iteration 64, pseudo-likelihood = -109.26, time = 23.54s\n",
      "computing TAP Free Energies\n",
      "monitor:  -386.165638162 193.865693664 -178.922505448\n",
      "[EMF_RBM] Iteration 65, pseudo-likelihood = -109.02, time = 23.61s\n",
      "computing TAP Free Energies\n",
      "monitor:  -387.32800548 193.302289222 -180.579090429\n",
      "[EMF_RBM] Iteration 66, pseudo-likelihood = -109.01, time = 23.55s\n",
      "computing TAP Free Energies\n",
      "monitor:  -388.476846818 192.753588602 -182.208499529\n",
      "[EMF_RBM] Iteration 67, pseudo-likelihood = -105.46, time = 23.58s\n",
      "computing TAP Free Energies\n",
      "monitor:  -389.613417538 192.218840474 -183.812665054\n",
      "[EMF_RBM] Iteration 68, pseudo-likelihood = -107.09, time = 23.71s\n",
      "computing TAP Free Energies\n",
      "monitor:  -390.739100614 191.697438309 -185.393506473\n",
      "[EMF_RBM] Iteration 69, pseudo-likelihood = -109.01, time = 23.56s\n",
      "computing TAP Free Energies\n",
      "monitor:  -391.853789073 191.189051116 -186.951181537\n",
      "[EMF_RBM] Iteration 70, pseudo-likelihood = -104.42, time = 23.56s\n",
      "computing TAP Free Energies\n",
      "monitor:  -392.958623151 190.693085506 -188.487387002\n",
      "[EMF_RBM] Iteration 71, pseudo-likelihood = -107.86, time = 23.57s\n",
      "computing TAP Free Energies\n",
      "monitor:  -394.054230165 190.208782763 -190.003474573\n",
      "[EMF_RBM] Iteration 72, pseudo-likelihood = -108.59, time = 23.55s\n",
      "computing TAP Free Energies\n",
      "monitor:  -395.141285483 189.735772986 -191.500442952\n",
      "[EMF_RBM] Iteration 73, pseudo-likelihood = -106.43, time = 23.51s\n",
      "computing TAP Free Energies\n",
      "monitor:  -396.220290644 189.273594387 -192.979230602\n",
      "[EMF_RBM] Iteration 74, pseudo-likelihood = -105.84, time = 23.53s\n",
      "computing TAP Free Energies\n",
      "monitor:  -397.291971258 188.821719094 -194.44106658\n",
      "[EMF_RBM] Iteration 75, pseudo-likelihood = -105.79, time = 23.61s\n",
      "computing TAP Free Energies\n",
      "monitor:  -398.356759116 188.379749597 -195.886774729\n",
      "[EMF_RBM] Iteration 76, pseudo-likelihood = -107.16, time = 23.63s\n",
      "computing TAP Free Energies\n",
      "monitor:  -399.414926818 187.947122495 -197.31719455\n",
      "[EMF_RBM] Iteration 77, pseudo-likelihood = -103.38, time = 23.54s\n",
      "computing TAP Free Energies\n",
      "monitor:  -400.466433492 187.523609351 -198.732493574\n",
      "[EMF_RBM] Iteration 78, pseudo-likelihood = -106.59, time = 23.57s\n",
      "computing TAP Free Energies\n",
      "monitor:  -401.511753968 187.108765379 -200.133593383\n",
      "[EMF_RBM] Iteration 79, pseudo-likelihood = -102.53, time = 23.58s\n",
      "computing TAP Free Energies\n",
      "monitor:  -402.550956885 186.702351735 -201.520801659\n",
      "[EMF_RBM] Iteration 80, pseudo-likelihood = -102.61, time = 23.50s\n",
      "computing TAP Free Energies\n",
      "monitor:  -403.583844837 186.303987863 -202.894291969\n",
      "[EMF_RBM] Iteration 81, pseudo-likelihood = -102.03, time = 23.82s\n",
      "computing TAP Free Energies\n",
      "monitor:  -404.611012769 185.913437946 -204.254897365\n",
      "[EMF_RBM] Iteration 82, pseudo-likelihood = -102.96, time = 23.55s\n",
      "computing TAP Free Energies\n",
      "monitor:  -405.632508437 185.530392661 -205.602974405\n",
      "[EMF_RBM] Iteration 83, pseudo-likelihood = -99.56, time = 23.56s\n",
      "computing TAP Free Energies\n",
      "monitor:  -406.647927967 185.154529248 -206.938451332\n",
      "[EMF_RBM] Iteration 84, pseudo-likelihood = -105.21, time = 23.54s\n",
      "computing TAP Free Energies\n",
      "monitor:  -407.657031667 184.785673825 -208.261257934\n",
      "[EMF_RBM] Iteration 85, pseudo-likelihood = -99.66, time = 23.59s\n",
      "computing TAP Free Energies\n",
      "monitor:  -408.660272977 184.423532573 -209.572140912\n",
      "[EMF_RBM] Iteration 86, pseudo-likelihood = -100.03, time = 23.59s\n",
      "computing TAP Free Energies\n",
      "monitor:  -409.657340695 184.067895502 -210.871007098\n",
      "[EMF_RBM] Iteration 87, pseudo-likelihood = -103.10, time = 23.54s\n",
      "computing TAP Free Energies\n",
      "monitor:  -410.648518056 183.718608902 -212.158275745\n",
      "[EMF_RBM] Iteration 88, pseudo-likelihood = -100.22, time = 23.55s\n",
      "computing TAP Free Energies\n",
      "monitor:  -411.634222806 183.375474421 -213.434562555\n",
      "[EMF_RBM] Iteration 89, pseudo-likelihood = -99.62, time = 23.54s\n",
      "computing TAP Free Energies\n",
      "monitor:  -412.614101613 183.038261975 -214.699739525\n",
      "[EMF_RBM] Iteration 90, pseudo-likelihood = -101.46, time = 23.52s\n",
      "computing TAP Free Energies\n",
      "monitor:  -413.588327751 182.706802601 -215.954144385\n",
      "[EMF_RBM] Iteration 91, pseudo-likelihood = -99.50, time = 23.53s\n",
      "computing TAP Free Energies\n",
      "monitor:  -414.556902822 182.381033576 -217.197832028\n",
      "[EMF_RBM] Iteration 92, pseudo-likelihood = -96.40, time = 23.56s\n",
      "computing TAP Free Energies\n",
      "monitor:  -415.519604863 182.060787474 -218.430747172\n",
      "[EMF_RBM] Iteration 93, pseudo-likelihood = -101.11, time = 23.55s\n",
      "computing TAP Free Energies\n",
      "monitor:  -416.476211001 181.746004721 -219.652708974\n",
      "[EMF_RBM] Iteration 94, pseudo-likelihood = -101.46, time = 23.70s\n",
      "computing TAP Free Energies\n",
      "monitor:  -417.426910949 181.436485885 -220.86409525\n",
      "[EMF_RBM] Iteration 95, pseudo-likelihood = -98.78, time = 23.63s\n",
      "computing TAP Free Energies\n",
      "monitor:  -418.371964897 181.132040765 -222.06535616\n",
      "[EMF_RBM] Iteration 96, pseudo-likelihood = -98.94, time = 23.58s\n",
      "computing TAP Free Energies\n",
      "monitor:  -419.311431049 180.832580114 -223.256624362\n",
      "[EMF_RBM] Iteration 97, pseudo-likelihood = -101.37, time = 23.50s\n",
      "computing TAP Free Energies\n",
      "monitor:  -420.24548769 180.537841383 -224.438346941\n",
      "[EMF_RBM] Iteration 98, pseudo-likelihood = -98.03, time = 23.61s\n",
      "computing TAP Free Energies\n",
      "monitor:  -421.173940681 180.24785493 -225.610285394\n",
      "[EMF_RBM] Iteration 99, pseudo-likelihood = -97.52, time = 23.53s\n",
      "computing TAP Free Energies\n",
      "monitor:  -422.097024995 179.96250459 -226.7727754\n",
      "[EMF_RBM] Iteration 100, pseudo-likelihood = -97.60, time = 23.53s\n",
      "computing TAP Free Energies\n",
      "monitor:  -423.01475981 179.681668545 -227.92593786\n",
      "[EMF_RBM] Iteration 101, pseudo-likelihood = -101.20, time = 23.56s\n",
      "computing TAP Free Energies\n",
      "monitor:  -423.926711762 179.405326081 -229.069358076\n",
      "[EMF_RBM] Iteration 102, pseudo-likelihood = -97.52, time = 23.55s\n",
      "computing TAP Free Energies\n",
      "monitor:  -424.83361178 179.133267775 -230.20397031\n",
      "[EMF_RBM] Iteration 103, pseudo-likelihood = -95.08, time = 23.63s\n",
      "computing TAP Free Energies\n",
      "monitor:  -425.734958344 178.865459676 -231.329287042\n",
      "[EMF_RBM] Iteration 104, pseudo-likelihood = -98.46, time = 23.52s\n",
      "computing TAP Free Energies\n",
      "monitor:  -426.63071466 178.60188928 -232.445272362\n",
      "[EMF_RBM] Iteration 105, pseudo-likelihood = -97.17, time = 23.50s\n",
      "computing TAP Free Energies\n",
      "monitor:  -427.52137021 178.342229622 -233.552745785\n",
      "[EMF_RBM] Iteration 106, pseudo-likelihood = -98.60, time = 23.55s\n",
      "computing TAP Free Energies\n",
      "monitor:  -428.406523197 178.086486361 -234.651293836\n",
      "[EMF_RBM] Iteration 107, pseudo-likelihood = -93.07, time = 23.58s\n",
      "computing TAP Free Energies\n",
      "monitor:  -429.286504878 177.834517995 -235.741388469\n",
      "[EMF_RBM] Iteration 108, pseudo-likelihood = -96.81, time = 23.56s\n",
      "computing TAP Free Energies\n",
      "monitor:  -430.161464938 177.586227264 -236.823266806\n",
      "[EMF_RBM] Iteration 109, pseudo-likelihood = -94.39, time = 23.57s\n",
      "computing TAP Free Energies\n",
      "monitor:  -431.031155958 177.341519151 -237.896763747\n",
      "[EMF_RBM] Iteration 110, pseudo-likelihood = -97.44, time = 23.51s\n",
      "computing TAP Free Energies\n",
      "monitor:  -431.896293285 177.100380469 -238.962593508\n",
      "[EMF_RBM] Iteration 111, pseudo-likelihood = -96.40, time = 23.54s\n",
      "computing TAP Free Energies\n",
      "monitor:  -432.756422586 176.862769164 -240.020338417\n",
      "[EMF_RBM] Iteration 112, pseudo-likelihood = -98.95, time = 23.54s\n",
      "computing TAP Free Energies\n",
      "monitor:  -433.611446867 176.628528815 -241.070058404\n",
      "[EMF_RBM] Iteration 113, pseudo-likelihood = -96.30, time = 23.54s\n",
      "computing TAP Free Energies\n",
      "monitor:  -434.461485923 176.397630926 -242.11188728\n",
      "[EMF_RBM] Iteration 114, pseudo-likelihood = -94.56, time = 23.56s\n",
      "computing TAP Free Energies\n",
      "monitor:  -435.306545095 176.170071836 -243.145809394\n",
      "[EMF_RBM] Iteration 115, pseudo-likelihood = -93.48, time = 23.52s\n",
      "computing TAP Free Energies\n",
      "monitor:  -436.146319322 175.945722289 -244.171646162\n",
      "[EMF_RBM] Iteration 116, pseudo-likelihood = -94.51, time = 23.55s\n",
      "computing TAP Free Energies\n",
      "monitor:  -436.98128221 175.724431239 -245.190021042\n",
      "[EMF_RBM] Iteration 117, pseudo-likelihood = -95.78, time = 23.51s\n",
      "computing TAP Free Energies\n",
      "monitor:  -437.81153161 175.506186681 -246.201034171\n",
      "[EMF_RBM] Iteration 118, pseudo-likelihood = -94.15, time = 23.62s\n",
      "computing TAP Free Energies\n",
      "monitor:  -438.637226186 175.29093035 -247.204894086\n",
      "[EMF_RBM] Iteration 119, pseudo-likelihood = -93.86, time = 23.59s\n",
      "computing TAP Free Energies\n",
      "monitor:  -439.458075225 175.078600923 -248.201363896\n",
      "[EMF_RBM] Iteration 120, pseudo-likelihood = -96.48, time = 23.58s\n",
      "computing TAP Free Energies\n",
      "monitor:  -440.274297527 174.869090761 -249.190764736\n",
      "[EMF_RBM] Iteration 121, pseudo-likelihood = -90.33, time = 23.57s\n",
      "computing TAP Free Energies\n",
      "monitor:  -441.086026342 174.66235353 -250.173260102\n",
      "[EMF_RBM] Iteration 122, pseudo-likelihood = -95.85, time = 23.55s\n",
      "computing TAP Free Energies\n",
      "monitor:  -441.893003445 174.458347896 -251.148632327\n",
      "[EMF_RBM] Iteration 123, pseudo-likelihood = -93.08, time = 23.52s\n",
      "computing TAP Free Energies\n",
      "monitor:  -442.695251484 174.257071878 -252.11689893\n",
      "[EMF_RBM] Iteration 124, pseudo-likelihood = -96.35, time = 23.56s\n",
      "computing TAP Free Energies\n",
      "monitor:  -443.492990327 174.05843308 -253.078366902\n",
      "[EMF_RBM] Iteration 125, pseudo-likelihood = -93.10, time = 23.54s\n",
      "computing TAP Free Energies\n",
      "monitor:  -444.286277202 173.862378332 -254.033136602\n",
      "[EMF_RBM] Iteration 126, pseudo-likelihood = -93.95, time = 23.59s\n",
      "computing TAP Free Energies\n",
      "monitor:  -445.074723835 173.668806017 -254.980920296\n",
      "[EMF_RBM] Iteration 127, pseudo-likelihood = -96.11, time = 23.52s\n",
      "computing TAP Free Energies\n",
      "monitor:  -445.858914563 173.477671074 -255.922339317\n",
      "[EMF_RBM] Iteration 128, pseudo-likelihood = -93.08, time = 23.50s\n",
      "computing TAP Free Energies\n",
      "monitor:  -446.638626112 173.288852074 -256.857289102\n",
      "[EMF_RBM] Iteration 129, pseudo-likelihood = -93.15, time = 23.59s\n",
      "computing TAP Free Energies\n",
      "monitor:  -447.414025976 173.102438018 -257.785831616\n",
      "[EMF_RBM] Iteration 130, pseudo-likelihood = -93.03, time = 23.66s\n",
      "computing TAP Free Energies\n",
      "monitor:  -448.184657482 172.918427763 -258.707497827\n",
      "[EMF_RBM] Iteration 131, pseudo-likelihood = -89.66, time = 23.52s\n",
      "computing TAP Free Energies\n",
      "monitor:  -448.950896833 172.736752162 -259.622731157\n",
      "[EMF_RBM] Iteration 132, pseudo-likelihood = -90.72, time = 23.54s\n",
      "computing TAP Free Energies\n",
      "monitor:  -449.712727587 172.557316425 -260.531610708\n",
      "[EMF_RBM] Iteration 133, pseudo-likelihood = -94.98, time = 23.60s\n",
      "computing TAP Free Energies\n",
      "monitor:  -450.470473197 172.380004494 -261.434578133\n",
      "[EMF_RBM] Iteration 134, pseudo-likelihood = -94.98, time = 23.58s\n",
      "computing TAP Free Energies\n",
      "monitor:  -451.224298734 172.204803124 -262.331806708\n",
      "[EMF_RBM] Iteration 135, pseudo-likelihood = -90.99, time = 23.54s\n",
      "computing TAP Free Energies\n",
      "monitor:  -451.973791437 172.031655926 -263.222935423\n",
      "[EMF_RBM] Iteration 136, pseudo-likelihood = -92.31, time = 23.58s\n",
      "computing TAP Free Energies\n",
      "monitor:  -452.719042478 171.860526332 -264.108081349\n",
      "[EMF_RBM] Iteration 137, pseudo-likelihood = -95.43, time = 23.67s\n",
      "computing TAP Free Energies\n",
      "monitor:  -453.460052682 171.691339758 -264.987322964\n",
      "[EMF_RBM] Iteration 138, pseudo-likelihood = -93.54, time = 23.49s\n",
      "computing TAP Free Energies\n",
      "monitor:  -454.196919424 171.524138752 -265.86070506\n",
      "[EMF_RBM] Iteration 139, pseudo-likelihood = -87.31, time = 23.59s\n",
      "computing TAP Free Energies\n",
      "monitor:  -454.929723755 171.358847699 -266.728378051\n",
      "[EMF_RBM] Iteration 140, pseudo-likelihood = -92.12, time = 23.56s\n",
      "computing TAP Free Energies\n",
      "monitor:  -455.65838911 171.195401799 -267.590330563\n",
      "[EMF_RBM] Iteration 141, pseudo-likelihood = -90.54, time = 23.58s\n",
      "computing TAP Free Energies\n",
      "monitor:  -456.383043021 171.033832315 -268.446645899\n",
      "[EMF_RBM] Iteration 142, pseudo-likelihood = -91.95, time = 23.58s\n",
      "computing TAP Free Energies\n",
      "monitor:  -457.103679639 170.874168159 -269.297285732\n",
      "[EMF_RBM] Iteration 143, pseudo-likelihood = -90.63, time = 23.63s\n",
      "computing TAP Free Energies\n",
      "monitor:  -457.820250013 170.716284539 -270.142331522\n",
      "[EMF_RBM] Iteration 144, pseudo-likelihood = -91.93, time = 23.63s\n",
      "computing TAP Free Energies\n",
      "monitor:  -458.533161643 170.560092504 -270.982278108\n",
      "[EMF_RBM] Iteration 145, pseudo-likelihood = -92.72, time = 23.57s\n",
      "computing TAP Free Energies\n",
      "monitor:  -459.242154642 170.405582907 -271.816865494\n",
      "[EMF_RBM] Iteration 146, pseudo-likelihood = -90.76, time = 23.62s\n",
      "computing TAP Free Energies\n",
      "monitor:  -459.947333089 170.252812302 -272.646128407\n",
      "[EMF_RBM] Iteration 147, pseudo-likelihood = -89.22, time = 23.66s\n",
      "computing TAP Free Energies\n",
      "monitor:  -460.648837661 170.101618696 -273.470379409\n",
      "[EMF_RBM] Iteration 148, pseudo-likelihood = -87.96, time = 23.54s\n",
      "computing TAP Free Energies\n",
      "monitor:  -461.346514979 169.952086483 -274.289372959\n",
      "[EMF_RBM] Iteration 149, pseudo-likelihood = -88.15, time = 23.63s\n",
      "computing TAP Free Energies\n",
      "monitor:  -462.040532878 169.804120247 -275.103369153\n",
      "[EMF_RBM] Iteration 150, pseudo-likelihood = -88.81, time = 23.65s\n",
      "computing TAP Free Energies\n",
      "monitor:  -462.730990188 169.657691948 -275.912490106\n",
      "[EMF_RBM] Iteration 151, pseudo-likelihood = -91.20, time = 23.57s\n",
      "computing TAP Free Energies\n",
      "monitor:  -463.418010459 169.512788117 -276.716867744\n",
      "[EMF_RBM] Iteration 152, pseudo-likelihood = -92.86, time = 23.58s\n",
      "computing TAP Free Energies\n",
      "monitor:  -464.10120358 169.36937189 -277.516153249\n",
      "[EMF_RBM] Iteration 153, pseudo-likelihood = -93.27, time = 23.61s\n",
      "computing TAP Free Energies\n",
      "monitor:  -464.78091926 169.227380877 -278.31075641\n",
      "[EMF_RBM] Iteration 154, pseudo-likelihood = -90.48, time = 23.58s\n",
      "computing TAP Free Energies\n",
      "monitor:  -465.457385458 169.08685792 -279.100851079\n",
      "[EMF_RBM] Iteration 155, pseudo-likelihood = -89.00, time = 23.52s\n",
      "computing TAP Free Energies\n",
      "monitor:  -466.130654145 168.947757103 -279.886529809\n",
      "[EMF_RBM] Iteration 156, pseudo-likelihood = -92.86, time = 23.54s\n",
      "computing TAP Free Energies\n",
      "monitor:  -466.800307574 168.810052215 -280.667405494\n",
      "[EMF_RBM] Iteration 157, pseudo-likelihood = -91.10, time = 23.58s\n",
      "computing TAP Free Energies\n",
      "monitor:  -467.466745781 168.673688245 -281.443936274\n",
      "[EMF_RBM] Iteration 158, pseudo-likelihood = -90.61, time = 23.53s\n",
      "computing TAP Free Energies\n",
      "monitor:  -468.130098821 168.538603501 -282.216315492\n",
      "[EMF_RBM] Iteration 159, pseudo-likelihood = -92.21, time = 23.66s\n",
      "computing TAP Free Energies\n",
      "monitor:  -468.79019564 168.404844093 -282.984316261\n",
      "[EMF_RBM] Iteration 160, pseudo-likelihood = -92.50, time = 23.68s\n",
      "computing TAP Free Energies\n",
      "monitor:  -469.447164036 168.272344516 -283.748124398\n",
      "[EMF_RBM] Iteration 161, pseudo-likelihood = -89.08, time = 23.56s\n",
      "computing TAP Free Energies\n",
      "monitor:  -470.100859755 168.141181168 -284.507508454\n",
      "[EMF_RBM] Iteration 162, pseudo-likelihood = -92.94, time = 23.60s\n",
      "computing TAP Free Energies\n",
      "monitor:  -470.75135839 168.011280278 -285.262623002\n",
      "[EMF_RBM] Iteration 163, pseudo-likelihood = -89.62, time = 23.59s\n",
      "computing TAP Free Energies\n",
      "monitor:  -471.398711312 167.882587241 -286.013571362\n",
      "[EMF_RBM] Iteration 164, pseudo-likelihood = -90.95, time = 23.60s\n",
      "computing TAP Free Energies\n",
      "monitor:  -472.043183595 167.755107281 -286.760611827\n",
      "[EMF_RBM] Iteration 165, pseudo-likelihood = -92.50, time = 23.63s\n",
      "computing TAP Free Energies\n",
      "monitor:  -472.684521347 167.628821154 -287.503505156\n",
      "[EMF_RBM] Iteration 166, pseudo-likelihood = -89.87, time = 23.52s\n",
      "computing TAP Free Energies\n",
      "monitor:  -473.322951198 167.503719399 -288.24248931\n",
      "[EMF_RBM] Iteration 167, pseudo-likelihood = -91.66, time = 23.65s\n",
      "computing TAP Free Energies\n",
      "monitor:  -473.958448024 167.379783502 -288.97755137\n",
      "[EMF_RBM] Iteration 168, pseudo-likelihood = -89.66, time = 23.58s\n",
      "computing TAP Free Energies\n",
      "monitor:  -474.590657884 167.25700299 -289.708339985\n",
      "[EMF_RBM] Iteration 169, pseudo-likelihood = -88.16, time = 23.57s\n",
      "computing TAP Free Energies\n",
      "monitor:  -475.220076308 167.135323651 -290.435408728\n",
      "[EMF_RBM] Iteration 170, pseudo-likelihood = -89.45, time = 23.57s\n",
      "computing TAP Free Energies\n",
      "monitor:  -475.846998402 167.014639226 -291.159160691\n",
      "[EMF_RBM] Iteration 171, pseudo-likelihood = -89.08, time = 23.62s\n",
      "computing TAP Free Energies\n",
      "monitor:  -476.471092555 166.895059206 -291.879147878\n",
      "[EMF_RBM] Iteration 172, pseudo-likelihood = -87.30, time = 23.53s\n",
      "computing TAP Free Energies\n",
      "monitor:  -477.09216832 166.776597204 -292.595158762\n",
      "[EMF_RBM] Iteration 173, pseudo-likelihood = -86.03, time = 23.60s\n",
      "computing TAP Free Energies\n",
      "monitor:  -477.710461996 166.659195694 -293.307487494\n",
      "[EMF_RBM] Iteration 174, pseudo-likelihood = -88.33, time = 23.56s\n",
      "computing TAP Free Energies\n",
      "monitor:  -478.32602452 166.542786513 -294.016262065\n",
      "[EMF_RBM] Iteration 175, pseudo-likelihood = -88.07, time = 23.56s\n",
      "computing TAP Free Energies\n",
      "monitor:  -478.938992623 166.427373127 -294.72160985\n",
      "[EMF_RBM] Iteration 176, pseudo-likelihood = -87.45, time = 23.50s\n",
      "computing TAP Free Energies\n",
      "monitor:  -479.549231713 166.312943402 -295.423410435\n",
      "[EMF_RBM] Iteration 177, pseudo-likelihood = -90.62, time = 23.57s\n",
      "computing TAP Free Energies\n",
      "monitor:  -480.15682642 166.199526204 -296.121712895\n",
      "[EMF_RBM] Iteration 178, pseudo-likelihood = -88.26, time = 23.56s\n",
      "computing TAP Free Energies\n",
      "monitor:  -480.761549945 166.087088925 -296.816320879\n",
      "[EMF_RBM] Iteration 179, pseudo-likelihood = -91.89, time = 23.54s\n",
      "computing TAP Free Energies\n",
      "monitor:  -481.363772185 165.975569039 -297.50766275\n",
      "[EMF_RBM] Iteration 180, pseudo-likelihood = -89.53, time = 23.58s\n",
      "computing TAP Free Energies\n",
      "monitor:  -481.963605613 165.864964424 -298.195855576\n",
      "[EMF_RBM] Iteration 181, pseudo-likelihood = -88.25, time = 23.62s\n",
      "computing TAP Free Energies\n",
      "monitor:  -482.560952518 165.755255302 -298.880819744\n",
      "[EMF_RBM] Iteration 182, pseudo-likelihood = -89.25, time = 23.57s\n",
      "computing TAP Free Energies\n",
      "monitor:  -483.155860609 165.646545646 -299.562486911\n",
      "[EMF_RBM] Iteration 183, pseudo-likelihood = -87.57, time = 23.51s\n",
      "computing TAP Free Energies\n",
      "monitor:  -483.748033687 165.53878093 -300.24061627\n",
      "[EMF_RBM] Iteration 184, pseudo-likelihood = -87.58, time = 23.55s\n",
      "computing TAP Free Energies\n",
      "monitor:  -484.337677179 165.431901742 -300.915475921\n",
      "[EMF_RBM] Iteration 185, pseudo-likelihood = -89.32, time = 23.57s\n",
      "computing TAP Free Energies\n",
      "monitor:  -484.924873845 165.325934623 -301.587119164\n",
      "[EMF_RBM] Iteration 186, pseudo-likelihood = -89.00, time = 23.61s\n",
      "computing TAP Free Energies\n",
      "monitor:  -485.509789998 165.22078488 -302.255810888\n",
      "[EMF_RBM] Iteration 187, pseudo-likelihood = -89.69, time = 23.62s\n",
      "computing TAP Free Energies\n",
      "monitor:  -486.092616167 165.116487298 -302.921696872\n",
      "[EMF_RBM] Iteration 188, pseudo-likelihood = -87.40, time = 23.56s\n",
      "computing TAP Free Energies\n",
      "monitor:  -486.673082591 165.013049144 -303.584498578\n",
      "[EMF_RBM] Iteration 189, pseudo-likelihood = -86.40, time = 23.55s\n",
      "computing TAP Free Energies\n",
      "monitor:  -487.251406118 164.910528881 -304.244363207\n",
      "[EMF_RBM] Iteration 190, pseudo-likelihood = -86.00, time = 23.52s\n",
      "computing TAP Free Energies\n",
      "monitor:  -487.827332619 164.808837036 -304.90113158\n",
      "[EMF_RBM] Iteration 191, pseudo-likelihood = -87.69, time = 23.66s\n",
      "computing TAP Free Energies\n",
      "monitor:  -488.401007674 164.707976385 -305.554952117\n",
      "[EMF_RBM] Iteration 192, pseudo-likelihood = -89.29, time = 23.51s\n",
      "computing TAP Free Energies\n",
      "monitor:  -488.972379982 164.60793627 -306.20577516\n",
      "[EMF_RBM] Iteration 193, pseudo-likelihood = -88.21, time = 23.54s\n",
      "computing TAP Free Energies\n",
      "monitor:  -489.541632898 164.508669996 -306.853834272\n",
      "[EMF_RBM] Iteration 194, pseudo-likelihood = -87.15, time = 23.61s\n",
      "computing TAP Free Energies\n",
      "monitor:  -490.108824005 164.410194484 -307.499166873\n",
      "[EMF_RBM] Iteration 195, pseudo-likelihood = -89.87, time = 23.63s\n",
      "computing TAP Free Energies\n",
      "monitor:  -490.673844278 164.312520169 -308.141648358\n",
      "[EMF_RBM] Iteration 196, pseudo-likelihood = -88.85, time = 23.52s\n",
      "computing TAP Free Energies\n",
      "monitor:  -491.236893128 164.215583623 -308.781550094\n",
      "[EMF_RBM] Iteration 197, pseudo-likelihood = -85.43, time = 23.51s\n",
      "computing TAP Free Energies\n",
      "monitor:  -491.797767878 164.119386496 -309.418665623\n",
      "[EMF_RBM] Iteration 198, pseudo-likelihood = -86.89, time = 23.57s\n",
      "computing TAP Free Energies\n",
      "monitor:  -492.356402056 164.023924869 -310.052933836\n",
      "[EMF_RBM] Iteration 199, pseudo-likelihood = -88.01, time = 23.61s\n",
      "computing TAP Free Energies\n",
      "monitor:  -492.912951599 163.929154861 -310.684556346\n",
      "[EMF_RBM] Iteration 200, pseudo-likelihood = -87.60, time = 23.62s\n",
      "computing TAP Free Energies\n",
      "monitor:  -493.467621178 163.83509155 -311.313715818\n"
     ]
    }
   ],
   "source": [
    "rbm = emf_rbm.EMF_RBM(verbose=True, monitor=True, n_iter=200)\n",
    "print rbm\n",
    "rbm= rbm.fit(X)"
   ]
  },
  {
   "cell_type": "code",
   "execution_count": 23,
   "metadata": {
    "ExecuteTime": {
     "end_time": "2016-11-08T22:57:27.868434",
     "start_time": "2016-11-08T22:57:27.697130"
    },
    "collapsed": false,
    "scrolled": false
   },
   "outputs": [
    {
     "data": {
      "text/plain": [
       "<matplotlib.text.Text at 0x7fe491240e10>"
      ]
     },
     "execution_count": 23,
     "metadata": {},
     "output_type": "execute_result"
    },
    {
     "data": {
      "image/png": "[encoded data removed]",
      "text/plain": [
       "<matplotlib.figure.Figure at 0x7fe4911aa2d0>"
      ]
     },
     "metadata": {},
     "output_type": "display_data"
    }
   ],
   "source": [
    "plt.plot(rbm.entropies-rbm.entropies[0], color='red', label='Entropy')\n",
    "plt.plot(rbm.mean_field_energies-rbm.mean_field_energies[0], color='blue', label='MF Energy')\n",
    "plt.plot(rbm.free_energies-rbm.free_energies[0], color='green', label='Free Energy')\n",
    "plt.legend(loc='upper right')\n",
    "plt.title(\"Ominglot: Free Energy, Mean Field Enery, & Entropy vs Epochs\")\n"
   ]
  },
  {
   "cell_type": "code",
   "execution_count": null,
   "metadata": {
    "collapsed": true
   },
   "outputs": [],
   "source": []
  },
  {
   "cell_type": "code",
   "execution_count": null,
   "metadata": {
    "collapsed": true
   },
   "outputs": [],
   "source": []
  },
  {
   "cell_type": "code",
   "execution_count": null,
   "metadata": {
    "collapsed": true
   },
   "outputs": [],
   "source": []
  },
  {
   "cell_type": "code",
   "execution_count": null,
   "metadata": {
    "collapsed": true
   },
   "outputs": [],
   "source": []
  },
  {
   "cell_type": "code",
   "execution_count": null,
   "metadata": {
    "collapsed": true
   },
   "outputs": [],
   "source": []
  }
 ],
 "metadata": {
  "anaconda-cloud": {},
  "kernelspec": {
   "display_name": "Python [default]",
   "language": "python",
   "name": "python2"
  },
  "language_info": {
   "codemirror_mode": {
    "name": "ipython",
    "version": 2
   },
   "file_extension": ".py",
   "mimetype": "text/x-python",
   "name": "python",
   "nbconvert_exporter": "python",
   "pygments_lexer": "ipython2",
   "version": "2.7.12"
  }
 },
 "nbformat": 4,
 "nbformat_minor": 0
}
