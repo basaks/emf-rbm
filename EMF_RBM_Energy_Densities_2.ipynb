{
 "cells": [
  {
   "cell_type": "markdown",
   "metadata": {},
   "source": [
    "#  EMF RBM Energy Densities 2\n",
    "\n",
    "Look at different ways of computing the\n",
    "\n",
    "- energy density\n",
    "- free energy density\n",
    "- entropy density\n",
    "\n",
    "We can\n",
    "\n",
    "- use the TAP S and MF Energy *U_naive   \n",
    "    - which takes an equlibration step first  \n",
    "    - S(mv, mh), U_naive(mv, mh)\n",
    "- use a simple h = means_hiddens() step\n",
    "    - S(v, h), E_MF(v, h)\n"
   ]
  },
  {
   "cell_type": "code",
   "execution_count": 1,
   "metadata": {
    "ExecuteTime": {
     "end_time": "2016-11-08T23:33:50.367876",
     "start_time": "2016-11-08T23:33:50.361534"
    },
    "collapsed": false
   },
   "outputs": [],
   "source": [
    "import numpy as np\n",
    "import h5py\n",
    "\n",
    "import matplotlib\n",
    "import matplotlib as mpl\n",
    "import matplotlib.pyplot as plt\n",
    "%matplotlib inline \n",
    "\n",
    "from sklearn import linear_model, datasets, metrics, preprocessing \n",
    "from sklearn.cross_validation import train_test_split\n",
    "from sklearn.metrics import accuracy_score\n",
    "\n",
    "import psutil"
   ]
  },
  {
   "cell_type": "code",
   "execution_count": 2,
   "metadata": {
    "ExecuteTime": {
     "end_time": "2016-11-08T23:33:50.512461",
     "start_time": "2016-11-08T23:33:50.507597"
    },
    "collapsed": false
   },
   "outputs": [
    {
     "data": {
      "text/plain": [
       "{'divide': 'warn', 'invalid': 'warn', 'over': 'warn', 'under': 'ignore'}"
      ]
     },
     "execution_count": 2,
     "metadata": {},
     "output_type": "execute_result"
    }
   ],
   "source": [
    "from sklearn.datasets import fetch_mldata\n",
    "from sklearn.utils.validation import assert_all_finite\n",
    "from scipy.sparse import csc_matrix, csr_matrix, lil_matrix\n",
    "from sklearn.preprocessing import Binarizer\n",
    "np.seterr(all='warn')"
   ]
  },
  {
   "cell_type": "code",
   "execution_count": 3,
   "metadata": {
    "ExecuteTime": {
     "end_time": "2016-11-08T23:33:53.684714",
     "start_time": "2016-11-08T23:33:51.186577"
    },
    "collapsed": false,
    "scrolled": true
   },
   "outputs": [
    {
     "name": "stdout",
     "output_type": "stream",
     "text": [
      "('List of arrays in this file: \\n', [u'HDF5.name___X', u'HDF5.name___y'])\n",
      "(60000, 784) (60000,)\n"
     ]
    },
    {
     "data": {
      "text/plain": [
       "2117.6342254841179"
      ]
     },
     "execution_count": 3,
     "metadata": {},
     "output_type": "execute_result"
    }
   ],
   "source": [
    "hf =  h5py.File('mnist.h5','r')\n",
    "print('List of arrays in this file: \\n', hf.keys())\n",
    "X = np.array(hf.get('HDF5.name___X'))\n",
    "y = np.array(hf.get('HDF5.name___y'))\n",
    "\n",
    "print X.shape, y.shape\n",
    "hf.close()\n",
    "np.linalg.norm(X, ord=2)"
   ]
  },
  {
   "cell_type": "code",
   "execution_count": null,
   "metadata": {
    "collapsed": true
   },
   "outputs": [],
   "source": []
  },
  {
   "cell_type": "markdown",
   "metadata": {
    "collapsed": true
   },
   "source": [
    "### Helper methods for simple case"
   ]
  },
  {
   "cell_type": "code",
   "execution_count": 4,
   "metadata": {
    "ExecuteTime": {
     "end_time": "2016-11-08T22:38:39.742812",
     "start_time": "2016-11-08T22:38:39.737075"
    },
    "collapsed": true
   },
   "outputs": [],
   "source": [
    "from sklearn.utils.fixes import expit    \n",
    "from sklearn.utils.extmath import safe_sparse_dot\n",
    "\n",
    "def sig_means(x, b, W):\n",
    "    a = safe_sparse_dot(x, W.T) + b\n",
    "    return expit(a, out=a)"
   ]
  },
  {
   "cell_type": "markdown",
   "metadata": {
    "ExecuteTime": {
     "end_time": "2016-10-20T17:56:14.156132",
     "start_time": "2016-10-20T17:56:14.153682"
    }
   },
   "source": [
    "### Baseline"
   ]
  },
  {
   "cell_type": "code",
   "execution_count": 5,
   "metadata": {
    "collapsed": false
   },
   "outputs": [],
   "source": [
    "import emf_rbm"
   ]
  },
  {
   "cell_type": "code",
   "execution_count": 6,
   "metadata": {
    "ExecuteTime": {
     "end_time": "2016-11-08T22:42:32.963306",
     "start_time": "2016-11-08T22:42:32.959982"
    },
    "collapsed": false
   },
   "outputs": [
    {
     "data": {
      "text/plain": [
       "sswap(total=0, used=0, free=0, percent=0.0, sin=0, sout=0)"
      ]
     },
     "execution_count": 6,
     "metadata": {},
     "output_type": "execute_result"
    }
   ],
   "source": [
    "psutil.swap_memory()"
   ]
  },
  {
   "cell_type": "code",
   "execution_count": 8,
   "metadata": {
    "ExecuteTime": {
     "end_time": "2016-11-08T22:43:58.231469",
     "start_time": "2016-11-08T22:43:55.548293"
    },
    "collapsed": false,
    "scrolled": true
   },
   "outputs": [
    {
     "name": "stdout",
     "output_type": "stream",
     "text": [
      "[EMF_RBM] Iteration 1, pseudo-likelihood = -185.85, time = 23.88s\n",
      "[EMF_RBM] Iteration 2, pseudo-likelihood = -151.51, time = 27.25s\n",
      "[EMF_RBM] Iteration 3, pseudo-likelihood = -133.08, time = 27.29s\n",
      "[EMF_RBM] Iteration 4, pseudo-likelihood = -124.07, time = 27.33s\n",
      "[EMF_RBM] Iteration 5, pseudo-likelihood = -112.83, time = 27.08s\n",
      "[EMF_RBM] Iteration 6, pseudo-likelihood = -108.44, time = 27.07s\n",
      "[EMF_RBM] Iteration 7, pseudo-likelihood = -104.34, time = 27.03s\n",
      "[EMF_RBM] Iteration 8, pseudo-likelihood = -99.38, time = 27.06s\n",
      "[EMF_RBM] Iteration 9, pseudo-likelihood = -97.35, time = 27.09s\n",
      "[EMF_RBM] Iteration 10, pseudo-likelihood = -92.24, time = 27.03s\n",
      "[EMF_RBM] Iteration 11, pseudo-likelihood = -88.51, time = 27.23s\n",
      "[EMF_RBM] Iteration 12, pseudo-likelihood = -87.37, time = 27.07s\n",
      "[EMF_RBM] Iteration 13, pseudo-likelihood = -88.47, time = 27.42s\n",
      "[EMF_RBM] Iteration 14, pseudo-likelihood = -83.94, time = 27.01s\n",
      "[EMF_RBM] Iteration 15, pseudo-likelihood = -84.19, time = 27.06s\n",
      "[EMF_RBM] Iteration 16, pseudo-likelihood = -83.16, time = 27.09s\n",
      "[EMF_RBM] Iteration 17, pseudo-likelihood = -81.97, time = 27.13s\n",
      "[EMF_RBM] Iteration 18, pseudo-likelihood = -80.05, time = 27.07s\n",
      "[EMF_RBM] Iteration 19, pseudo-likelihood = -78.93, time = 27.08s\n",
      "[EMF_RBM] Iteration 20, pseudo-likelihood = -77.99, time = 27.04s\n"
     ]
    },
    {
     "data": {
      "text/plain": [
       "EMF_RBM(batch_size=100, decay=0.01, learning_rate=0.005, momentum=0.5,\n",
       "    monitor=False, n_components=256, n_iter=20, neq_steps=3,\n",
       "    random_state=<mtrand.RandomState object at 0x7f5524115a00>,\n",
       "    sigma=0.001, thresh=1e-08, verbose=True, weight_decay='L1')"
      ]
     },
     "execution_count": 8,
     "metadata": {},
     "output_type": "execute_result"
    }
   ],
   "source": [
    "rbm = emf_rbm.EMF_RBM(verbose=True)\n",
    "rbm.fit(X)"
   ]
  },
  {
   "cell_type": "markdown",
   "metadata": {
    "ExecuteTime": {
     "end_time": "2016-11-08T13:42:53.473982",
     "start_time": "2016-11-08T13:42:53.469340"
    }
   },
   "source": []
  },
  {
   "cell_type": "code",
   "execution_count": null,
   "metadata": {
    "collapsed": true
   },
   "outputs": [],
   "source": []
  },
  {
   "cell_type": "code",
   "execution_count": null,
   "metadata": {
    "collapsed": true
   },
   "outputs": [],
   "source": []
  },
  {
   "cell_type": "code",
   "execution_count": null,
   "metadata": {
    "collapsed": true
   },
   "outputs": [],
   "source": [
    "### Mean field TAP Energies\n",
    "\n",
    "Not exactly Gaussian"
   ]
  },
  {
   "cell_type": "code",
   "execution_count": 9,
   "metadata": {
    "ExecuteTime": {
     "end_time": "2016-11-08T17:12:51.346473",
     "start_time": "2016-11-08T17:12:51.341613"
    },
    "collapsed": false
   },
   "outputs": [],
   "source": [
    "ids = np.random.choice(X.shape[0], size=6000)"
   ]
  },
  {
   "cell_type": "code",
   "execution_count": 10,
   "metadata": {
    "ExecuteTime": {
     "end_time": "2016-11-08T14:27:59.753176",
     "start_time": "2016-11-08T14:27:58.703651"
    },
    "collapsed": false
   },
   "outputs": [],
   "source": [
    "U = rbm._U_naive_TAP(X[ids])"
   ]
  },
  {
   "cell_type": "code",
   "execution_count": 11,
   "metadata": {
    "ExecuteTime": {
     "end_time": "2016-11-08T14:32:29.917164",
     "start_time": "2016-11-08T14:32:29.912768"
    },
    "collapsed": false
   },
   "outputs": [
    {
     "data": {
      "text/plain": [
       "(6000,)"
      ]
     },
     "execution_count": 11,
     "metadata": {},
     "output_type": "execute_result"
    }
   ],
   "source": [
    "U.shape"
   ]
  },
  {
   "cell_type": "code",
   "execution_count": 12,
   "metadata": {
    "ExecuteTime": {
     "end_time": "2016-11-08T14:28:01.186684",
     "start_time": "2016-11-08T14:28:00.751816"
    },
    "collapsed": false
   },
   "outputs": [
    {
     "data": {
      "image/png": "[encoded data removed]",
      "text/plain": [
       "<matplotlib.figure.Figure at 0x7f54f1205fd0>"
      ]
     },
     "metadata": {},
     "output_type": "display_data"
    }
   ],
   "source": [
    "plt.hist(U,100);"
   ]
  },
  {
   "cell_type": "markdown",
   "metadata": {
    "ExecuteTime": {
     "end_time": "2016-11-08T13:54:45.187108",
     "start_time": "2016-11-08T13:54:45.184452"
    }
   },
   "source": [
    "### Plain Mean field Energies\n"
   ]
  },
  {
   "cell_type": "code",
   "execution_count": 14,
   "metadata": {
    "ExecuteTime": {
     "end_time": "2016-11-08T17:12:41.672691",
     "start_time": "2016-11-08T17:12:41.521671"
    },
    "collapsed": false
   },
   "outputs": [],
   "source": [
    "p = sig_means(X[ids],rbm.h_bias,rbm.W)"
   ]
  },
  {
   "cell_type": "code",
   "execution_count": 15,
   "metadata": {
    "ExecuteTime": {
     "end_time": "2016-11-08T14:31:56.272616",
     "start_time": "2016-11-08T14:31:56.214258"
    },
    "collapsed": false
   },
   "outputs": [],
   "source": [
    "Emf = safe_sparse_dot(p, rbm.h_bias) + safe_sparse_dot(X[ids], rbm.v_bias)  + (X[ids].dot(rbm.W.T)*p).sum(axis=1)"
   ]
  },
  {
   "cell_type": "code",
   "execution_count": 16,
   "metadata": {
    "ExecuteTime": {
     "end_time": "2016-11-08T14:32:01.904695",
     "start_time": "2016-11-08T14:32:01.901151"
    },
    "collapsed": false
   },
   "outputs": [
    {
     "data": {
      "text/plain": [
       "(6000,)"
      ]
     },
     "execution_count": 16,
     "metadata": {},
     "output_type": "execute_result"
    }
   ],
   "source": [
    "Emf.shape"
   ]
  },
  {
   "cell_type": "code",
   "execution_count": 17,
   "metadata": {
    "ExecuteTime": {
     "end_time": "2016-11-08T14:32:48.307072",
     "start_time": "2016-11-08T14:32:46.359981"
    },
    "collapsed": false
   },
   "outputs": [
    {
     "data": {
      "image/png": "[encoded data removed]",
      "text/plain": [
       "<matplotlib.figure.Figure at 0x7f55344aea10>"
      ]
     },
     "metadata": {},
     "output_type": "display_data"
    }
   ],
   "source": [
    "plt.hist(-Emf,100);"
   ]
  },
  {
   "cell_type": "markdown",
   "metadata": {},
   "source": [
    "These are clearly NOT Guassian distributions, and I have a feeling that these are ground state energies, and subject to EVS, not the REM.  And that the REM has to be determined by looking at all Energies during all training steps"
   ]
  },
  {
   "cell_type": "markdown",
   "metadata": {
    "collapsed": true
   },
   "source": [
    "### All energies from all steps\n",
    "\n",
    "Lets compute as many energies as we can and see what we get\n",
    "\n",
    "(very very slow)\n",
    "(took this out of code but left in the notebook for now)"
   ]
  },
  {
   "cell_type": "markdown",
   "metadata": {},
   "source": [
    "### replaced, not really interesting"
   ]
  },
  {
   "cell_type": "code",
   "execution_count": 19,
   "metadata": {
    "ExecuteTime": {
     "start_time": "2016-11-09T01:53:04.985Z"
    },
    "collapsed": false
   },
   "outputs": [
    {
     "ename": "NameError",
     "evalue": "name 'EMF_RBM' is not defined",
     "output_type": "error",
     "traceback": [
      "\u001b[0;31m---------------------------------------------------------------------------\u001b[0m",
      "\u001b[0;31mNameError\u001b[0m                                 Traceback (most recent call last)",
      "\u001b[0;32m<ipython-input-19-f03ed253a151>\u001b[0m in \u001b[0;36m<module>\u001b[0;34m()\u001b[0m\n\u001b[0;32m----> 1\u001b[0;31m \u001b[0mrbm\u001b[0m \u001b[0;34m=\u001b[0m \u001b[0mEMF_RBM\u001b[0m\u001b[0;34m(\u001b[0m\u001b[0mverbose\u001b[0m\u001b[0;34m=\u001b[0m\u001b[0mTrue\u001b[0m\u001b[0;34m)\u001b[0m\u001b[0;34m\u001b[0m\u001b[0m\n\u001b[0m\u001b[1;32m      2\u001b[0m \u001b[0memf_rbm\u001b[0m\u001b[0;34m,\u001b[0m \u001b[0mU_energies\u001b[0m \u001b[0;34m=\u001b[0m \u001b[0memf_rbm\u001b[0m\u001b[0;34m.\u001b[0m\u001b[0mfit_wEs\u001b[0m\u001b[0;34m(\u001b[0m\u001b[0mX\u001b[0m\u001b[0;34m)\u001b[0m\u001b[0;34m\u001b[0m\u001b[0m\n",
      "\u001b[0;31mNameError\u001b[0m: name 'EMF_RBM' is not defined"
     ]
    }
   ],
   "source": [
    "rbm = EMF_RBM(verbose=True)\n",
    "emf_rbm, U_energies = emf_rbm.fit_wEs(X)"
   ]
  },
  {
   "cell_type": "code",
   "execution_count": null,
   "metadata": {
    "collapsed": true
   },
   "outputs": [],
   "source": []
  },
  {
   "cell_type": "code",
   "execution_count": 27,
   "metadata": {
    "ExecuteTime": {
     "end_time": "2016-11-08T15:32:57.381582",
     "start_time": "2016-11-08T15:32:57.377617"
    },
    "collapsed": false
   },
   "outputs": [
    {
     "data": {
      "text/plain": [
       "20"
      ]
     },
     "execution_count": 27,
     "metadata": {},
     "output_type": "execute_result"
    }
   ],
   "source": [
    "Emf = U_energies[1]\n",
    "len(Emf)\n",
    "import itertools\n",
    "merged = list(itertools.chain.from_iterable(Emf))"
   ]
  },
  {
   "cell_type": "code",
   "execution_count": 33,
   "metadata": {
    "ExecuteTime": {
     "end_time": "2016-11-08T15:34:36.122009",
     "start_time": "2016-11-08T15:34:35.524792"
    },
    "collapsed": false
   },
   "outputs": [
    {
     "data": {
      "image/png": "[encoded data removed]",
      "text/plain": [
       "<matplotlib.figure.Figure at 0x1131684d0>"
      ]
     },
     "metadata": {},
     "output_type": "display_data"
    }
   ],
   "source": [
    "plt.hist(merged,100);\n",
    "plt.title(\"all energies, for all data, for all iterations\")"
   ]
  },
  {
   "cell_type": "code",
   "execution_count": 43,
   "metadata": {
    "ExecuteTime": {
     "end_time": "2016-11-08T15:37:40.503157",
     "start_time": "2016-11-08T15:37:39.124523"
    },
    "collapsed": false
   },
   "outputs": [
    {
     "data": {
      "text/plain": [
       "<matplotlib.text.Text at 0x128b8e290>"
      ]
     },
     "execution_count": 43,
     "metadata": {},
     "output_type": "execute_result"
    },
    {
     "data": {
      "image/png": "[encoded data removed]",
      "text/plain": [
       "<matplotlib.figure.Figure at 0x1273df850>"
      ]
     },
     "metadata": {},
     "output_type": "display_data"
    }
   ],
   "source": [
    "plt.hist(Emf[19],100, alpha=0.25);\n",
    "plt.hist(Emf[14],100, alpha=0.25, color='green');\n",
    "plt.hist(Emf[9],100, alpha=0.25, color='purple');\n",
    "plt.hist(Emf[4],100, alpha=0.25, color='orange');\n",
    "plt.hist(Emf[0],100, alpha=0.25, color='orange');\n",
    "\n",
    "plt.title(\"all U energies, colored by iteration\")"
   ]
  },
  {
   "cell_type": "code",
   "execution_count": 44,
   "metadata": {
    "ExecuteTime": {
     "end_time": "2016-11-08T15:37:57.490063",
     "start_time": "2016-11-08T15:37:56.764304"
    },
    "collapsed": false
   },
   "outputs": [
    {
     "data": {
      "text/plain": [
       "<matplotlib.text.Text at 0x140a66c50>"
      ]
     },
     "execution_count": 44,
     "metadata": {},
     "output_type": "execute_result"
    },
    {
     "data": {
      "image/png": "[encoded data removed]",
      "text/plain": [
       "<matplotlib.figure.Figure at 0x10d2ea850>"
      ]
     },
     "metadata": {},
     "output_type": "display_data"
    }
   ],
   "source": [
    "plt.hist(Emf[19],100, alpha=0.25);\n",
    "plt.title(\"final U energies\")"
   ]
  },
  {
   "cell_type": "markdown",
   "metadata": {
    "ExecuteTime": {
     "end_time": "2016-11-08T15:40:15.334031",
     "start_time": "2016-11-08T15:40:15.330359"
    }
   },
   "source": [
    "So ... what is the best interepretation ?"
   ]
  },
  {
   "cell_type": "markdown",
   "metadata": {},
   "source": [
    "### mean Entropy, Energy, and Free Energy"
   ]
  },
  {
   "cell_type": "code",
   "execution_count": 21,
   "metadata": {
    "ExecuteTime": {
     "end_time": "2016-11-08T22:55:48.509468",
     "start_time": "2016-11-08T22:45:04.953105"
    },
    "collapsed": false
   },
   "outputs": [
    {
     "name": "stdout",
     "output_type": "stream",
     "text": [
      "[EMF_RBM] Iteration 1, pseudo-likelihood = -183.97, time = 23.73s\n",
      "computing TAP Free Energies\n",
      "monitor:  -376.426693209 331.539359594 -43.719583282\n",
      "[EMF_RBM] Iteration 2, pseudo-likelihood = -151.26, time = 55.30s\n",
      "computing TAP Free Energies\n",
      "monitor:  -378.740222002 258.437633708 -118.026275196\n",
      "[EMF_RBM] Iteration 3, pseudo-likelihood = -133.44, time = 55.15s\n",
      "computing TAP Free Energies\n",
      "monitor:  -387.366198494 230.797582778 -153.602552854\n",
      "[EMF_RBM] Iteration 4, pseudo-likelihood = -121.00, time = 54.83s\n",
      "computing TAP Free Energies\n",
      "monitor:  -398.796273505 214.015886664 -181.179068398\n",
      "[EMF_RBM] Iteration 5, pseudo-likelihood = -113.93, time = 55.05s\n",
      "computing TAP Free Energies\n",
      "monitor:  -410.262617564 202.180610184 -203.875258686\n",
      "[EMF_RBM] Iteration 6, pseudo-likelihood = -105.69, time = 54.97s\n",
      "computing TAP Free Energies\n",
      "monitor:  -422.039761513 192.438632297 -224.89336645\n",
      "[EMF_RBM] Iteration 7, pseudo-likelihood = -102.03, time = 54.93s\n",
      "computing TAP Free Energies\n",
      "monitor:  -432.757580323 184.567297568 -243.075293325\n",
      "[EMF_RBM] Iteration 8, pseudo-likelihood = -99.22, time = 54.83s\n",
      "computing TAP Free Energies\n",
      "monitor:  -442.347875857 178.180894189 -258.701945806\n",
      "[EMF_RBM] Iteration 9, pseudo-likelihood = -95.25, time = 54.98s\n",
      "computing TAP Free Energies\n",
      "monitor:  -451.114066907 172.905543128 -272.428982227\n",
      "[EMF_RBM] Iteration 10, pseudo-likelihood = -91.67, time = 55.53s\n",
      "computing TAP Free Energies\n",
      "monitor:  -459.290576308 168.444088967 -284.779028757\n",
      "[EMF_RBM] Iteration 11, pseudo-likelihood = -90.53, time = 54.94s\n",
      "computing TAP Free Energies\n",
      "monitor:  -466.957041675 164.587513745 -296.037232992\n",
      "[EMF_RBM] Iteration 12, pseudo-likelihood = -88.86, time = 54.63s\n",
      "computing TAP Free Energies\n",
      "monitor:  -474.130528659 161.188023729 -306.367334762\n",
      "[EMF_RBM] Iteration 13, pseudo-likelihood = -87.71, time = 54.80s\n",
      "computing TAP Free Energies\n",
      "monitor:  -480.830956661 158.153969145 -315.879065132\n",
      "[EMF_RBM] Iteration 14, pseudo-likelihood = -83.37, time = 54.69s\n",
      "computing TAP Free Energies\n",
      "monitor:  -487.098425739 155.431584543 -324.66301567\n",
      "[EMF_RBM] Iteration 15, pseudo-likelihood = -83.84, time = 54.76s\n",
      "computing TAP Free Energies\n",
      "monitor:  -492.989415371 152.979414889 -332.813952284\n",
      "[EMF_RBM] Iteration 16, pseudo-likelihood = -82.78, time = 54.58s\n",
      "computing TAP Free Energies\n",
      "monitor:  -498.557334483 150.759566968 -340.420906342\n",
      "[EMF_RBM] Iteration 17, pseudo-likelihood = -80.97, time = 54.93s\n",
      "computing TAP Free Energies\n",
      "monitor:  -503.840919142 148.738409536 -347.554852812\n",
      "[EMF_RBM] Iteration 18, pseudo-likelihood = -79.07, time = 54.64s\n",
      "computing TAP Free Energies\n",
      "monitor:  -508.8704337 146.886452851 -354.274815018\n",
      "[EMF_RBM] Iteration 19, pseudo-likelihood = -79.36, time = 54.69s\n",
      "computing TAP Free Energies\n",
      "monitor:  -513.67307819 145.179494718 -360.631641115\n",
      "[EMF_RBM] Iteration 20, pseudo-likelihood = -77.34, time = 54.63s\n",
      "computing TAP Free Energies\n",
      "monitor:  -518.266035948 143.598538099 -366.660961243\n"
     ]
    }
   ],
   "source": [
    "rbm = emf_rbm.EMF_RBM(verbose=True, monitor=True)\n",
    "rbm= rbm.fit(X)"
   ]
  },
  {
   "cell_type": "code",
   "execution_count": 22,
   "metadata": {
    "ExecuteTime": {
     "end_time": "2016-11-08T22:57:27.868434",
     "start_time": "2016-11-08T22:57:27.697130"
    },
    "collapsed": false
   },
   "outputs": [
    {
     "data": {
      "text/plain": [
       "[<matplotlib.lines.Line2D at 0x7f54ee28b490>]"
      ]
     },
     "execution_count": 22,
     "metadata": {},
     "output_type": "execute_result"
    },
    {
     "data": {
      "image/png": "[encoded data removed]",
      "text/plain": [
       "<matplotlib.figure.Figure at 0x7f54ee488a90>"
      ]
     },
     "metadata": {},
     "output_type": "display_data"
    }
   ],
   "source": [
    "plt.plot(rbm.entropies-rbm.entropies[0], color='red')\n",
    "plt.plot(rbm.mean_field_energies-rbm.mean_field_energies[0], color='blue')\n",
    "plt.plot(rbm.free_energies-rbm.free_energies[0], color='green')"
   ]
  },
  {
   "cell_type": "markdown",
   "metadata": {
    "collapsed": true
   },
   "source": [
    "### Random Data"
   ]
  },
  {
   "cell_type": "code",
   "execution_count": 23,
   "metadata": {
    "ExecuteTime": {
     "end_time": "2016-11-08T23:36:40.236622",
     "start_time": "2016-11-08T23:36:38.422667"
    },
    "collapsed": false
   },
   "outputs": [],
   "source": [
    "noise = np.random.normal(size=X.shape)"
   ]
  },
  {
   "cell_type": "code",
   "execution_count": 24,
   "metadata": {
    "ExecuteTime": {
     "end_time": "2016-11-08T23:36:56.699727",
     "start_time": "2016-11-08T23:36:56.493978"
    },
    "collapsed": false
   },
   "outputs": [],
   "source": [
    "N = X+noise;"
   ]
  },
  {
   "cell_type": "code",
   "execution_count": 25,
   "metadata": {
    "ExecuteTime": {
     "end_time": "2016-11-08T23:39:16.167442",
     "start_time": "2016-11-08T23:39:16.160125"
    },
    "collapsed": true
   },
   "outputs": [],
   "source": [
    "from matplotlib import pyplot\n",
    "import matplotlib as mpl\n",
    "%matplotlib inline  \n",
    "\n",
    "def show_image(image): \n",
    "    fig = pyplot.figure()\n",
    "    ax = fig.add_subplot(1,1,1)\n",
    "    imgplot = ax.imshow(image, cmap=mpl.cm.Greys)\n",
    "    imgplot.set_interpolation('nearest')\n",
    "    ax.xaxis.set_ticks_position('top')\n",
    "    ax.yaxis.set_ticks_position('left')\n",
    "    pyplot.show()"
   ]
  },
  {
   "cell_type": "code",
   "execution_count": 26,
   "metadata": {
    "ExecuteTime": {
     "end_time": "2016-11-08T23:39:25.338321",
     "start_time": "2016-11-08T23:39:25.208712"
    },
    "collapsed": false
   },
   "outputs": [
    {
     "data": {
      "image/png": "[encoded data removed]",
      "text/plain": [
       "<matplotlib.figure.Figure at 0x7f54ee4d1890>"
      ]
     },
     "metadata": {},
     "output_type": "display_data"
    }
   ],
   "source": [
    "v = N[0,:]\n",
    "show_image(np.reshape(v,[28,28]))"
   ]
  },
  {
   "cell_type": "markdown",
   "metadata": {},
   "source": [
    "###  not really binarized but it should be"
   ]
  },
  {
   "cell_type": "code",
   "execution_count": 27,
   "metadata": {
    "ExecuteTime": {
     "end_time": "2016-11-08T23:53:02.070102",
     "start_time": "2016-11-08T23:39:43.054020"
    },
    "collapsed": false
   },
   "outputs": [
    {
     "name": "stdout",
     "output_type": "stream",
     "text": [
      "[EMF_RBM] Iteration 1, pseudo-likelihood = -1984.87, time = 23.61s\n",
      "computing TAP Free Energies\n",
      "monitor:  -214.27720064 345.116441193 132.482529698\n",
      "[EMF_RBM] Iteration 2, pseudo-likelihood = -2289.70, time = 54.82s\n",
      "computing TAP Free Energies\n",
      "monitor:  -212.463045855 289.551685783 80.5501395216\n",
      "[EMF_RBM] Iteration 3, pseudo-likelihood = -2665.03, time = 54.34s\n",
      "computing TAP Free Energies\n",
      "monitor:  -206.02115681 268.864411282 68.6574562623\n",
      "[EMF_RBM] Iteration 4, pseudo-likelihood = -3034.50, time = 54.28s\n",
      "computing TAP Free Energies\n",
      "monitor:  -185.211284957 258.639333632 82.7512464944\n",
      "[EMF_RBM] Iteration 5, pseudo-likelihood = -3463.36, time = 54.24s\n",
      "computing TAP Free Energies\n",
      "monitor:  -148.856764142 252.770171217 118.286400823\n",
      "[EMF_RBM] Iteration 6, pseudo-likelihood = -4108.11, time = 54.42s\n",
      "computing TAP Free Energies\n",
      "monitor:  -93.9193220053 249.195209266 176.339232284\n",
      "[EMF_RBM] Iteration 7, pseudo-likelihood = -4657.63, time = 54.12s\n",
      "computing TAP Free Energies\n",
      "monitor:  -24.2607277457 245.906035429 250.626916909\n",
      "[EMF_RBM] Iteration 8, pseudo-likelihood = -5342.02, time = 54.28s\n",
      "computing TAP Free Energies\n",
      "monitor:  56.2650659342 242.099658307 335.819239811\n",
      "[EMF_RBM] Iteration 9, pseudo-likelihood = -6130.15, time = 54.20s\n",
      "computing TAP Free Energies\n",
      "monitor:  144.88351601 237.877081281 428.724081799\n",
      "[EMF_RBM] Iteration 10, pseudo-likelihood = -6713.28, time = 54.46s\n",
      "computing TAP Free Energies\n",
      "monitor:  239.423708889 233.495963264 527.140712947\n",
      "[EMF_RBM] Iteration 11, pseudo-likelihood = -7644.31, time = 54.27s\n",
      "computing TAP Free Energies\n",
      "monitor:  338.409135556 229.275295939 629.90100881\n",
      "[EMF_RBM] Iteration 12, pseudo-likelihood = -8403.68, time = 54.30s\n",
      "computing TAP Free Energies\n",
      "monitor:  440.327323787 225.446629171 735.976316054\n"
     ]
    },
    {
     "name": "stderr",
     "output_type": "stream",
     "text": [
      "emf_rbm.py:249: RuntimeWarning: underflow encountered in multiply\n",
      "  mv = 0.5 *self.mv_update(mv, mh) + 0.5*mv\n"
     ]
    },
    {
     "name": "stdout",
     "output_type": "stream",
     "text": [
      "[EMF_RBM] Iteration 13, pseudo-likelihood = -9345.94, time = 54.23s\n",
      "computing TAP Free Energies\n",
      "monitor:  544.360845918 222.1033689 844.864667248\n",
      "[EMF_RBM] Iteration 14, pseudo-likelihood = -10069.54, time = 54.17s\n",
      "computing TAP Free Energies\n",
      "monitor:  650.076553401 219.285126684 956.502673307\n",
      "[EMF_RBM] Iteration 15, pseudo-likelihood = -10553.91, time = 54.12s\n",
      "computing TAP Free Energies\n",
      "monitor:  757.281913454 216.954973872 1070.94834399\n",
      "[EMF_RBM] Iteration 16, pseudo-likelihood = -11638.03, time = 54.18s\n",
      "computing TAP Free Energies\n",
      "monitor:  865.981087889 215.121119279 1188.57566047\n",
      "[EMF_RBM] Iteration 17, pseudo-likelihood = -12674.29, time = 54.18s\n",
      "computing TAP Free Energies\n",
      "monitor:  975.719433574 213.697049263 1309.08476125\n",
      "[EMF_RBM] Iteration 18, pseudo-likelihood = -12865.28, time = 54.25s\n",
      "computing TAP Free Energies\n",
      "monitor:  1086.48367587 212.62799581 1432.73051027\n",
      "[EMF_RBM] Iteration 19, pseudo-likelihood = -14503.60, time = 54.11s\n",
      "computing TAP Free Energies\n",
      "monitor:  1198.2616989 211.862113769 1559.7578149\n",
      "[EMF_RBM] Iteration 20, pseudo-likelihood = -15181.92, time = 54.09s\n",
      "computing TAP Free Energies\n",
      "monitor:  1310.92652337 211.357779593 1690.40563613\n"
     ]
    }
   ],
   "source": [
    "rbm = emf_rbm.EMF_RBM(verbose=True, monitor=True)\n",
    "rbm= rbm.fit(N)"
   ]
  },
  {
   "cell_type": "code",
   "execution_count": 28,
   "metadata": {
    "ExecuteTime": {
     "end_time": "2016-11-08T23:53:02.245349",
     "start_time": "2016-11-08T23:53:02.071777"
    },
    "collapsed": false
   },
   "outputs": [
    {
     "data": {
      "text/plain": [
       "[<matplotlib.lines.Line2D at 0x7f54ee0c1bd0>]"
      ]
     },
     "execution_count": 28,
     "metadata": {},
     "output_type": "execute_result"
    },
    {
     "data": {
      "image/png": "[encoded data removed]",
      "text/plain": [
       "<matplotlib.figure.Figure at 0x7f54ee22c9d0>"
      ]
     },
     "metadata": {},
     "output_type": "display_data"
    }
   ],
   "source": [
    "plt.plot(rbm.entropies-rbm.entropies[0], color='red')\n",
    "plt.plot(rbm.mean_field_energies-rbm.mean_field_energies[0], color='blue')\n",
    "plt.plot(rbm.free_energies-rbm.free_energies[0], color='green')"
   ]
  },
  {
   "cell_type": "code",
   "execution_count": null,
   "metadata": {
    "collapsed": true
   },
   "outputs": [],
   "source": []
  }
 ],
 "metadata": {
  "anaconda-cloud": {},
  "kernelspec": {
   "display_name": "Python [default]",
   "language": "python",
   "name": "python2"
  },
  "language_info": {
   "codemirror_mode": {
    "name": "ipython",
    "version": 2
   },
   "file_extension": ".py",
   "mimetype": "text/x-python",
   "name": "python",
   "nbconvert_exporter": "python",
   "pygments_lexer": "ipython2",
   "version": "2.7.12"
  }
 },
 "nbformat": 4,
 "nbformat_minor": 0
}
