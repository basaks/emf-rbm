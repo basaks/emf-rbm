{
 "cells": [
  {
   "cell_type": "markdown",
   "metadata": {},
   "source": [
    "#  EMF RBM Omniglot\n",
    "\n",
    "### Binarized, 200 Epochs\n",
    "\n",
    "Look at different ways of computing the\n",
    "\n",
    "- energy density\n",
    "- free energy density\n",
    "- entropy density\n",
    "\n",
    "We can\n",
    "\n",
    "- use the TAP S and MF Energy *U_naive   \n",
    "    - which takes an equlibration step first  \n",
    "    - S(mv, mh), U_naive(mv, mh)\n",
    "- use a simple h = means_hiddens() step\n",
    "    - S(v, h), E_MF(v, h)\n"
   ]
  },
  {
   "cell_type": "code",
   "execution_count": 1,
   "metadata": {
    "ExecuteTime": {
     "end_time": "2017-03-06T08:41:52.758540",
     "start_time": "2017-03-06T08:41:50.307872"
    },
    "collapsed": false
   },
   "outputs": [
    {
     "name": "stderr",
     "output_type": "stream",
     "text": [
      "/Users/charlesmartin14/anaconda/lib/python2.7/site-packages/matplotlib/font_manager.py:273: UserWarning: Matplotlib is building the font cache using fc-list. This may take a moment.\n",
      "  warnings.warn('Matplotlib is building the font cache using fc-list. This may take a moment.')\n",
      "/Users/charlesmartin14/anaconda/lib/python2.7/site-packages/sklearn/cross_validation.py:44: DeprecationWarning: This module was deprecated in version 0.18 in favor of the model_selection module into which all the refactored classes and functions are moved. Also note that the interface of the new CV iterators are different from that of this module. This module will be removed in 0.20.\n",
      "  \"This module will be removed in 0.20.\", DeprecationWarning)\n"
     ]
    }
   ],
   "source": [
    "import numpy as np\n",
    "import h5py\n",
    "\n",
    "import matplotlib\n",
    "import matplotlib as mpl\n",
    "import matplotlib.pyplot as plt\n",
    "%matplotlib inline \n",
    "\n",
    "from sklearn import linear_model, datasets, metrics, preprocessing \n",
    "from sklearn.cross_validation import train_test_split\n",
    "from sklearn.metrics import accuracy_score\n",
    "\n",
    "import psutil"
   ]
  },
  {
   "cell_type": "code",
   "execution_count": 2,
   "metadata": {
    "ExecuteTime": {
     "end_time": "2017-03-06T08:41:52.768512",
     "start_time": "2017-03-06T08:41:52.760113"
    },
    "collapsed": false
   },
   "outputs": [
    {
     "data": {
      "text/plain": [
       "{'divide': 'warn', 'invalid': 'warn', 'over': 'warn', 'under': 'ignore'}"
      ]
     },
     "execution_count": 2,
     "metadata": {},
     "output_type": "execute_result"
    }
   ],
   "source": [
    "from sklearn.datasets import fetch_mldata\n",
    "from sklearn.utils.validation import assert_all_finite\n",
    "from scipy.sparse import csc_matrix, csr_matrix, lil_matrix\n",
    "from sklearn.preprocessing import Binarizer\n",
    "np.seterr(all='warn')"
   ]
  },
  {
   "cell_type": "code",
   "execution_count": 3,
   "metadata": {
    "ExecuteTime": {
     "end_time": "2017-03-06T08:41:52.779372",
     "start_time": "2017-03-06T08:41:52.770753"
    },
    "collapsed": true
   },
   "outputs": [],
   "source": [
    "from scipy.io import loadmat\n",
    "import matplotlib.pyplot as plt\n",
    "import matplotlib as mpl\n",
    "\n",
    "def show_image(image): \n",
    "    fig = plt.figure()\n",
    "    ax = fig.add_subplot(1,1,1)\n",
    "    imgplot = ax.imshow(image, cmap=mpl.cm.Greys)\n",
    "    imgplot.set_interpolation('nearest')\n",
    "    ax.xaxis.set_ticks_position('top')\n",
    "    ax.yaxis.set_ticks_position('left')\n",
    "    plt.show()"
   ]
  },
  {
   "cell_type": "code",
   "execution_count": 4,
   "metadata": {
    "ExecuteTime": {
     "end_time": "2017-03-06T08:41:52.786901",
     "start_time": "2017-03-06T08:41:52.781578"
    },
    "collapsed": true
   },
   "outputs": [],
   "source": [
    "import rbm_datasets"
   ]
  },
  {
   "cell_type": "code",
   "execution_count": 6,
   "metadata": {
    "ExecuteTime": {
     "end_time": "2017-03-06T08:41:59.221653",
     "start_time": "2017-03-06T08:41:56.977203"
    },
    "collapsed": false
   },
   "outputs": [],
   "source": [
    "train_x, train_y, train_char, test_x, test_y, test_char = rbm_datasets.load_omniglot_iwae()"
   ]
  },
  {
   "cell_type": "code",
   "execution_count": 7,
   "metadata": {
    "ExecuteTime": {
     "end_time": "2017-03-06T08:42:00.328447",
     "start_time": "2017-03-06T08:42:00.176656"
    },
    "collapsed": true
   },
   "outputs": [],
   "source": [
    "from sklearn.preprocessing import binarize\n",
    "X_train = binarize(train_x, threshold=0.5, copy=True)"
   ]
  },
  {
   "cell_type": "code",
   "execution_count": 8,
   "metadata": {
    "ExecuteTime": {
     "end_time": "2017-03-06T08:42:02.355252",
     "start_time": "2017-03-06T08:42:00.912205"
    },
    "collapsed": false
   },
   "outputs": [
    {
     "data": {
      "image/png": "[encoded data removed]",
      "text/plain": [
       "<matplotlib.figure.Figure at 0x10df45d90>"
      ]
     },
     "metadata": {},
     "output_type": "display_data"
    },
    {
     "data": {
      "image/png": "[encoded data removed]",
      "text/plain": [
       "<matplotlib.figure.Figure at 0x1065b40d0>"
      ]
     },
     "metadata": {},
     "output_type": "display_data"
    },
    {
     "data": {
      "image/png": "[encoded data removed]",
      "text/plain": [
       "<matplotlib.figure.Figure at 0x113d76bd0>"
      ]
     },
     "metadata": {},
     "output_type": "display_data"
    },
    {
     "data": {
      "image/png": "[encoded data removed]",
      "text/plain": [
       "<matplotlib.figure.Figure at 0x113ffca90>"
      ]
     },
     "metadata": {},
     "output_type": "display_data"
    },
    {
     "data": {
      "image/png": "[encoded data removed]",
      "text/plain": [
       "<matplotlib.figure.Figure at 0x1140a4dd0>"
      ]
     },
     "metadata": {},
     "output_type": "display_data"
    },
    {
     "data": {
      "image/png": "[encoded data removed]",
      "text/plain": [
       "<matplotlib.figure.Figure at 0x1142a4f50>"
      ]
     },
     "metadata": {},
     "output_type": "display_data"
    },
    {
     "data": {
      "image/png": "[encoded data removed]",
      "text/plain": [
       "<matplotlib.figure.Figure at 0x114402310>"
      ]
     },
     "metadata": {},
     "output_type": "display_data"
    },
    {
     "data": {
      "image/png": "[encoded data removed]",
      "text/plain": [
       "<matplotlib.figure.Figure at 0x11449fc50>"
      ]
     },
     "metadata": {},
     "output_type": "display_data"
    },
    {
     "data": {
      "image/png": "[encoded data removed]",
      "text/plain": [
       "<matplotlib.figure.Figure at 0x1146a8990>"
      ]
     },
     "metadata": {},
     "output_type": "display_data"
    },
    {
     "data": {
      "image/png": "[encoded data removed]",
      "text/plain": [
       "<matplotlib.figure.Figure at 0x11448e1d0>"
      ]
     },
     "metadata": {},
     "output_type": "display_data"
    }
   ],
   "source": [
    "for i in range(5):\n",
    "    show_image(X_train[i+100].reshape(28,28))\n",
    "    show_image(train_x[i+100].reshape(28,28))"
   ]
  },
  {
   "cell_type": "code",
   "execution_count": 11,
   "metadata": {
    "ExecuteTime": {
     "end_time": "2017-03-06T08:42:12.701382",
     "start_time": "2017-03-06T08:42:12.695930"
    },
    "collapsed": false
   },
   "outputs": [
    {
     "data": {
      "text/plain": [
       "(24345, 784)"
      ]
     },
     "execution_count": 11,
     "metadata": {},
     "output_type": "execute_result"
    }
   ],
   "source": [
    "X_train.shape"
   ]
  },
  {
   "cell_type": "markdown",
   "metadata": {
    "ExecuteTime": {
     "end_time": "2016-10-20T17:56:14.156132",
     "start_time": "2016-10-20T17:56:14.153682"
    }
   },
   "source": [
    "### EMF RBM"
   ]
  },
  {
   "cell_type": "code",
   "execution_count": 15,
   "metadata": {
    "ExecuteTime": {
     "end_time": "2017-03-06T08:42:29.325058",
     "start_time": "2017-03-06T08:42:29.320737"
    },
    "collapsed": false
   },
   "outputs": [
    {
     "data": {
      "text/plain": [
       "sswap(total=7516192768L, used=6550454272L, free=965738496L, percent=87.2, sin=59727265792L, sout=415178752L)"
      ]
     },
     "execution_count": 15,
     "metadata": {},
     "output_type": "execute_result"
    }
   ],
   "source": [
    "psutil.swap_memory()"
   ]
  },
  {
   "cell_type": "markdown",
   "metadata": {},
   "source": [
    "### mean Entropy, Energy, and Free Energy"
   ]
  },
  {
   "cell_type": "code",
   "execution_count": 16,
   "metadata": {
    "ExecuteTime": {
     "end_time": "2017-03-06T09:36:35.846336",
     "start_time": "2017-03-06T08:42:32.775926"
    },
    "collapsed": false
   },
   "outputs": [
    {
     "name": "stdout",
     "output_type": "stream",
     "text": [
      "EMF_RBM(batch_size=100, decay=0.01, learning_rate=0.005, momentum=0.5,\n",
      "    monitor=True, n_components=256, n_iter=200, neq_steps=3,\n",
      "    random_state=<mtrand.RandomState object at 0x106f013c0>, sigma=0.001,\n",
      "    thresh=1e-08, verbose=True, weight_decay='L1')\n",
      "[EMF_RBM] Iteration 1, pseudo-likelihood = -173.07, time = 6.62s\n",
      "computing TAP Free Energies\n",
      "monitor:  -243.661261013 346.506989736 102.848531481\n",
      "[EMF_RBM] Iteration 2, pseudo-likelihood = -174.73, time = 17.93s\n",
      "computing TAP Free Energies\n",
      "monitor:  -243.467702702 346.482319329 103.017315966\n",
      "[EMF_RBM] Iteration 3, pseudo-likelihood = -173.46, time = 17.53s\n",
      "computing TAP Free Energies\n",
      "monitor:  -243.278085103 346.47796933 103.202884751\n",
      "[EMF_RBM] Iteration 4, pseudo-likelihood = -175.57, time = 17.72s\n",
      "computing TAP Free Energies\n",
      "monitor:  -243.079864909 346.46698537 103.391520222\n",
      "[EMF_RBM] Iteration 5, pseudo-likelihood = -173.07, time = 16.91s\n",
      "computing TAP Free Energies\n",
      "monitor:  -242.839967677 346.411359636 103.581054936\n",
      "[EMF_RBM] Iteration 6, pseudo-likelihood = -174.83, time = 16.59s\n",
      "computing TAP Free Energies\n",
      "monitor:  -242.432379233 346.173738175 103.771385839\n",
      "[EMF_RBM] Iteration 7, pseudo-likelihood = -175.46, time = 16.62s\n",
      "computing TAP Free Energies\n",
      "monitor:  -241.441872026 345.267115881 103.932176855\n",
      "[EMF_RBM] Iteration 8, pseudo-likelihood = -169.64, time = 16.72s\n",
      "computing TAP Free Energies\n",
      "monitor:  -239.046977387 342.272394668 103.565734696\n",
      "[EMF_RBM] Iteration 9, pseudo-likelihood = -168.38, time = 18.30s\n",
      "computing TAP Free Energies\n",
      "monitor:  -234.966900783 334.706265483 100.451586292\n",
      "[EMF_RBM] Iteration 10, pseudo-likelihood = -162.37, time = 18.15s\n",
      "computing TAP Free Energies\n",
      "monitor:  -230.515264552 325.59716364 96.0755995064\n",
      "[EMF_RBM] Iteration 11, pseudo-likelihood = -156.05, time = 16.03s\n",
      "computing TAP Free Energies\n",
      "monitor:  -226.116752358 318.509861026 93.6333492982\n",
      "[EMF_RBM] Iteration 12, pseudo-likelihood = -158.21, time = 15.88s\n",
      "computing TAP Free Energies\n",
      "monitor:  -221.970846378 312.063845172 91.6613904551\n",
      "[EMF_RBM] Iteration 13, pseudo-likelihood = -150.34, time = 15.76s\n",
      "computing TAP Free Energies\n",
      "monitor:  -218.693457525 305.407196543 88.6451566407\n",
      "[EMF_RBM] Iteration 14, pseudo-likelihood = -149.26, time = 16.08s\n",
      "computing TAP Free Energies\n",
      "monitor:  -216.156807071 299.250434389 85.3683478496\n",
      "[EMF_RBM] Iteration 15, pseudo-likelihood = -149.05, time = 15.84s\n",
      "computing TAP Free Energies\n",
      "monitor:  -213.959121611 293.636629036 82.2664214963\n",
      "[EMF_RBM] Iteration 16, pseudo-likelihood = -143.10, time = 15.74s\n",
      "computing TAP Free Energies\n",
      "monitor:  -211.910136767 288.531313364 79.4967256647\n",
      "[EMF_RBM] Iteration 17, pseudo-likelihood = -140.71, time = 15.80s\n",
      "computing TAP Free Energies\n",
      "monitor:  -209.948284561 283.959796783 77.1751834226\n",
      "[EMF_RBM] Iteration 18, pseudo-likelihood = -141.24, time = 16.25s\n",
      "computing TAP Free Energies\n",
      "monitor:  -208.125325882 279.580615631 74.9167094844\n",
      "[EMF_RBM] Iteration 19, pseudo-likelihood = -137.60, time = 16.11s\n",
      "computing TAP Free Energies\n",
      "monitor:  -206.529942452 275.285973058 72.5024031183\n",
      "[EMF_RBM] Iteration 20, pseudo-likelihood = -137.31, time = 16.35s\n",
      "computing TAP Free Energies\n",
      "monitor:  -205.159205415 271.311792807 70.1647989698\n",
      "[EMF_RBM] Iteration 21, pseudo-likelihood = -135.60, time = 15.77s\n",
      "computing TAP Free Energies\n",
      "monitor:  -203.989090859 267.722972026 68.0001049046\n",
      "[EMF_RBM] Iteration 22, pseudo-likelihood = -137.53, time = 16.27s\n",
      "computing TAP Free Energies\n",
      "monitor:  -203.008498075 264.433035034 65.934111406\n",
      "[EMF_RBM] Iteration 23, pseudo-likelihood = -134.53, time = 16.15s\n",
      "computing TAP Free Energies\n",
      "monitor:  -202.197306687 261.39878647 63.9421246497\n",
      "[EMF_RBM] Iteration 24, pseudo-likelihood = -132.97, time = 15.99s\n",
      "computing TAP Free Energies\n",
      "monitor:  -201.535090613 258.626078845 62.0520068247\n",
      "[EMF_RBM] Iteration 25, pseudo-likelihood = -130.97, time = 15.87s\n",
      "computing TAP Free Energies\n",
      "monitor:  -201.011401097 256.109086231 60.2718562958\n",
      "[EMF_RBM] Iteration 26, pseudo-likelihood = -125.79, time = 16.25s\n",
      "computing TAP Free Energies\n",
      "monitor:  -200.623754813 253.813714202 58.5720242162\n",
      "[EMF_RBM] Iteration 27, pseudo-likelihood = -129.38, time = 16.24s\n",
      "computing TAP Free Energies\n",
      "monitor:  -200.367766177 251.703241519 56.9200661393\n",
      "[EMF_RBM] Iteration 28, pseudo-likelihood = -127.20, time = 16.15s\n",
      "computing TAP Free Energies\n",
      "monitor:  -200.229745415 249.760697395 55.3131103594\n",
      "[EMF_RBM] Iteration 29, pseudo-likelihood = -127.35, time = 16.30s\n",
      "computing TAP Free Energies\n",
      "monitor:  -200.192035712 247.976587873 53.7612486338\n",
      "[EMF_RBM] Iteration 30, pseudo-likelihood = -125.59, time = 16.22s\n",
      "computing TAP Free Energies\n",
      "monitor:  -200.240992775 246.331240618 52.260350392\n",
      "[EMF_RBM] Iteration 31, pseudo-likelihood = -125.37, time = 16.01s\n",
      "computing TAP Free Energies\n",
      "monitor:  -200.366187463 244.799990123 50.7970825614\n",
      "[EMF_RBM] Iteration 32, pseudo-likelihood = -125.37, time = 16.14s\n",
      "computing TAP Free Energies\n",
      "monitor:  -200.558345992 243.363614277 49.3617549933\n",
      "[EMF_RBM] Iteration 33, pseudo-likelihood = -122.95, time = 16.14s\n",
      "computing TAP Free Energies\n",
      "monitor:  -200.809113427 242.011372915 47.9522606607\n",
      "[EMF_RBM] Iteration 34, pseudo-likelihood = -123.79, time = 16.26s\n",
      "computing TAP Free Energies\n",
      "monitor:  -201.11178864 240.73871133 46.5714307836\n",
      "[EMF_RBM] Iteration 35, pseudo-likelihood = -118.94, time = 16.08s\n",
      "computing TAP Free Energies\n",
      "monitor:  -201.462652307 239.543162479 45.2216511305\n",
      "[EMF_RBM] Iteration 36, pseudo-likelihood = -121.30, time = 16.01s\n",
      "computing TAP Free Energies\n",
      "monitor:  -201.860384171 238.420360667 43.9011341103\n",
      "[EMF_RBM] Iteration 37, pseudo-likelihood = -116.97, time = 15.90s\n",
      "computing TAP Free Energies\n",
      "monitor:  -202.302964716 237.36133205 42.6038248745\n",
      "[EMF_RBM] Iteration 38, pseudo-likelihood = -118.09, time = 15.91s\n",
      "computing TAP Free Energies\n",
      "monitor:  -202.788040299 236.355350647 41.3217676802\n",
      "[EMF_RBM] Iteration 39, pseudo-likelihood = -119.64, time = 15.69s\n",
      "computing TAP Free Energies\n",
      "monitor:  -203.31161851 235.391471129 40.0479076027\n",
      "[EMF_RBM] Iteration 40, pseudo-likelihood = -117.27, time = 16.35s\n",
      "computing TAP Free Energies\n",
      "monitor:  -203.869001188 234.459581608 38.7762806096\n",
      "[EMF_RBM] Iteration 41, pseudo-likelihood = -112.85, time = 16.07s\n",
      "computing TAP Free Energies\n",
      "monitor:  -204.454958803 233.550038094 37.5014420489\n",
      "[EMF_RBM] Iteration 42, pseudo-likelihood = -112.91, time = 15.69s\n",
      "computing TAP Free Energies\n",
      "monitor:  -205.06400457 232.654267817 36.2188754185\n",
      "[EMF_RBM] Iteration 43, pseudo-likelihood = -113.97, time = 15.88s\n",
      "computing TAP Free Energies\n",
      "monitor:  -205.689958015 231.765498173 34.9262737178\n",
      "[EMF_RBM] Iteration 44, pseudo-likelihood = -113.21, time = 15.94s\n",
      "computing TAP Free Energies\n",
      "monitor:  -206.326841755 230.8787371 33.6228371857\n",
      "[EMF_RBM] Iteration 45, pseudo-likelihood = -109.95, time = 15.62s\n",
      "computing TAP Free Energies\n",
      "monitor:  -206.968935954 229.992105628 32.310834966\n",
      "[EMF_RBM] Iteration 46, pseudo-likelihood = -113.37, time = 15.72s\n",
      "computing TAP Free Energies\n",
      "monitor:  -207.611270295 229.106944405 30.9954337682\n",
      "[EMF_RBM] Iteration 47, pseudo-likelihood = -110.84, time = 15.77s\n",
      "computing TAP Free Energies\n",
      "monitor:  -208.249863492 228.22592927 29.6825731885\n",
      "[EMF_RBM] Iteration 48, pseudo-likelihood = -110.46, time = 15.45s\n",
      "computing TAP Free Energies\n",
      "monitor:  -208.882701435 227.352585418 28.3774709498\n",
      "[EMF_RBM] Iteration 49, pseudo-likelihood = -108.19, time = 15.57s\n",
      "computing TAP Free Energies\n",
      "monitor:  -209.50912088 226.49075599 27.0846629967\n",
      "[EMF_RBM] Iteration 50, pseudo-likelihood = -107.42, time = 15.50s\n",
      "computing TAP Free Energies\n",
      "monitor:  -210.129473125 225.644359995 25.8080002385\n",
      "[EMF_RBM] Iteration 51, pseudo-likelihood = -107.39, time = 15.68s\n",
      "computing TAP Free Energies\n",
      "monitor:  -210.744796787 224.816201778 24.5496345964\n",
      "[EMF_RBM] Iteration 52, pseudo-likelihood = -107.85, time = 15.50s\n",
      "computing TAP Free Energies\n",
      "monitor:  -211.35604368 224.008039425 23.3107680932\n",
      "[EMF_RBM] Iteration 53, pseudo-likelihood = -104.80, time = 15.53s\n",
      "computing TAP Free Energies\n",
      "monitor:  -211.965223836 223.221385314 22.0912987155\n",
      "[EMF_RBM] Iteration 54, pseudo-likelihood = -107.56, time = 15.46s\n",
      "computing TAP Free Energies\n",
      "monitor:  -212.573609029 222.457112156 20.8911957278\n",
      "[EMF_RBM] Iteration 55, pseudo-likelihood = -107.32, time = 15.53s\n",
      "computing TAP Free Energies\n",
      "monitor:  -213.182652117 221.715669973 19.7097979824\n",
      "[EMF_RBM] Iteration 56, pseudo-likelihood = -105.19, time = 15.65s\n",
      "computing TAP Free Energies\n",
      "monitor:  -213.79291559 220.997210654 18.5470038311\n",
      "[EMF_RBM] Iteration 57, pseudo-likelihood = -106.03, time = 15.92s\n",
      "computing TAP Free Energies\n",
      "monitor:  -214.405146322 220.301735964 17.4023786161\n",
      "[EMF_RBM] Iteration 58, pseudo-likelihood = -108.01, time = 15.70s\n",
      "computing TAP Free Energies\n",
      "monitor:  -215.019693352 219.629207514 16.2758768549\n",
      "[EMF_RBM] Iteration 59, pseudo-likelihood = -102.53, time = 15.48s\n",
      "computing TAP Free Energies\n",
      "monitor:  -215.637000031 218.979210099 15.1669519308\n",
      "[EMF_RBM] Iteration 60, pseudo-likelihood = -102.55, time = 15.51s\n",
      "computing TAP Free Energies\n",
      "monitor:  -216.257474481 218.351307352 14.0750773769\n",
      "[EMF_RBM] Iteration 61, pseudo-likelihood = -102.82, time = 15.85s\n",
      "computing TAP Free Energies\n",
      "monitor:  -216.881384339 217.744829747 12.9996014572\n",
      "[EMF_RBM] Iteration 62, pseudo-likelihood = -106.69, time = 15.50s\n",
      "computing TAP Free Energies\n",
      "monitor:  -217.50908165 217.158581368 11.9391808839\n",
      "[EMF_RBM] Iteration 63, pseudo-likelihood = -101.54, time = 15.74s\n",
      "computing TAP Free Energies\n",
      "monitor:  -218.140644803 216.591563834 10.8929093853\n",
      "[EMF_RBM] Iteration 64, pseudo-likelihood = -104.16, time = 16.05s\n",
      "computing TAP Free Energies\n",
      "monitor:  -218.776056311 216.042002267 9.85909513602\n",
      "[EMF_RBM] Iteration 65, pseudo-likelihood = -103.74, time = 17.34s\n",
      "computing TAP Free Energies\n",
      "monitor:  -219.415657515 215.508785274 8.8363343649\n",
      "[EMF_RBM] Iteration 66, pseudo-likelihood = -100.22, time = 16.00s\n",
      "computing TAP Free Energies\n",
      "monitor:  -220.059018902 214.990518565 7.82365534071\n",
      "[EMF_RBM] Iteration 67, pseudo-likelihood = -101.07, time = 16.02s\n",
      "computing TAP Free Energies\n",
      "monitor:  -220.705811391 214.485968031 6.82009577164\n",
      "[EMF_RBM] Iteration 68, pseudo-likelihood = -100.92, time = 15.30s\n",
      "computing TAP Free Energies\n",
      "monitor:  -221.356011116 213.993873808 5.8243339379\n",
      "[EMF_RBM] Iteration 69, pseudo-likelihood = -97.10, time = 16.00s\n",
      "computing TAP Free Energies\n",
      "monitor:  -222.008880049 213.513156381 4.83593002676\n",
      "[EMF_RBM] Iteration 70, pseudo-likelihood = -98.80, time = 16.73s\n",
      "computing TAP Free Energies\n",
      "monitor:  -222.663458346 213.042890966 3.85481755882\n",
      "[EMF_RBM] Iteration 71, pseudo-likelihood = -96.01, time = 16.08s\n",
      "computing TAP Free Energies\n",
      "monitor:  -223.319858457 212.582326772 2.88005338314\n",
      "[EMF_RBM] Iteration 72, pseudo-likelihood = -99.50, time = 15.34s\n",
      "computing TAP Free Energies\n",
      "monitor:  -223.977178693 212.130860676 1.91185678067\n",
      "[EMF_RBM] Iteration 73, pseudo-likelihood = -101.76, time = 15.42s\n",
      "computing TAP Free Energies\n",
      "monitor:  -224.635487579 211.688076505 0.949691306756\n",
      "[EMF_RBM] Iteration 74, pseudo-likelihood = -97.15, time = 15.16s\n",
      "computing TAP Free Energies\n",
      "monitor:  -225.29391136 211.253665926 -0.00591585269526\n",
      "[EMF_RBM] Iteration 75, pseudo-likelihood = -96.43, time = 16.23s\n",
      "computing TAP Free Energies\n",
      "monitor:  -225.952258834 210.827262773 -0.955170004988\n",
      "[EMF_RBM] Iteration 76, pseudo-likelihood = -97.98, time = 15.67s\n",
      "computing TAP Free Energies\n",
      "monitor:  -226.610375141 210.408652999 -1.89814097494\n",
      "[EMF_RBM] Iteration 77, pseudo-likelihood = -98.76, time = 15.73s\n",
      "computing TAP Free Energies\n",
      "monitor:  -227.267954067 209.997593548 -2.83478141845\n",
      "[EMF_RBM] Iteration 78, pseudo-likelihood = -93.34, time = 15.65s\n",
      "computing TAP Free Energies\n",
      "monitor:  -227.924646534 209.594011116 -3.76480590977\n",
      "[EMF_RBM] Iteration 79, pseudo-likelihood = -97.40, time = 15.40s\n",
      "computing TAP Free Energies\n",
      "monitor:  -228.580560924 209.197597241 -4.68861541113\n",
      "[EMF_RBM] Iteration 80, pseudo-likelihood = -97.28, time = 15.62s\n",
      "computing TAP Free Energies\n",
      "monitor:  -229.235341956 208.808313991 -5.60587608772\n",
      "[EMF_RBM] Iteration 81, pseudo-likelihood = -94.81, time = 16.06s\n",
      "computing TAP Free Energies\n",
      "monitor:  -229.889178015 208.426127621 -6.51677317087\n",
      "[EMF_RBM] Iteration 82, pseudo-likelihood = -94.98, time = 15.43s\n",
      "computing TAP Free Energies\n",
      "monitor:  -230.542170841 208.050928285 -7.42146496098\n",
      "[EMF_RBM] Iteration 83, pseudo-likelihood = -97.08, time = 15.93s\n",
      "computing TAP Free Energies\n",
      "monitor:  -231.193935302 207.682621863 -8.31962321156\n",
      "[EMF_RBM] Iteration 84, pseudo-likelihood = -96.53, time = 19.19s\n",
      "computing TAP Free Energies\n",
      "monitor:  -231.844355911 207.321122718 -9.21116736153\n",
      "[EMF_RBM] Iteration 85, pseudo-likelihood = -94.39, time = 17.05s\n",
      "computing TAP Free Energies\n",
      "monitor:  -232.493384808 206.966256222 -10.0961907189\n",
      "[EMF_RBM] Iteration 86, pseudo-likelihood = -96.63, time = 16.07s\n",
      "computing TAP Free Energies\n",
      "monitor:  -233.141094884 206.617735748 -10.9750235492\n",
      "[EMF_RBM] Iteration 87, pseudo-likelihood = -95.57, time = 16.56s\n",
      "computing TAP Free Energies\n",
      "monitor:  -233.787555751 206.275516017 -11.847728842\n",
      "[EMF_RBM] Iteration 88, pseudo-likelihood = -94.78, time = 15.98s\n",
      "computing TAP Free Energies\n",
      "monitor:  -234.433109243 205.939562539 -12.7146203804\n",
      "[EMF_RBM] Iteration 89, pseudo-likelihood = -96.08, time = 15.96s\n",
      "computing TAP Free Energies\n",
      "monitor:  -235.077381509 205.609691247 -13.5754604294\n",
      "[EMF_RBM] Iteration 90, pseudo-likelihood = -93.92, time = 17.14s\n",
      "computing TAP Free Energies\n",
      "monitor:  -235.720464652 205.285988679 -14.4301928812\n",
      "[EMF_RBM] Iteration 91, pseudo-likelihood = -95.45, time = 16.46s\n",
      "computing TAP Free Energies\n",
      "monitor:  -236.361980851 204.968061525 -15.2788024854\n",
      "[EMF_RBM] Iteration 92, pseudo-likelihood = -91.21, time = 15.72s\n",
      "computing TAP Free Energies\n",
      "monitor:  -237.002219484 204.655845243 -16.1215902146\n",
      "[EMF_RBM] Iteration 93, pseudo-likelihood = -95.42, time = 15.87s\n",
      "computing TAP Free Energies\n",
      "monitor:  -237.64170416 204.349367664 -16.9589790481\n",
      "[EMF_RBM] Iteration 94, pseudo-likelihood = -88.30, time = 17.09s\n",
      "computing TAP Free Energies\n",
      "monitor:  -238.280016274 204.048519093 -17.7906112827\n",
      "[EMF_RBM] Iteration 95, pseudo-likelihood = -92.16, time = 15.91s\n",
      "computing TAP Free Energies\n",
      "monitor:  -238.917089371 203.753018399 -18.6166626111\n",
      "[EMF_RBM] Iteration 96, pseudo-likelihood = -92.60, time = 16.64s\n",
      "computing TAP Free Energies\n",
      "monitor:  -239.553160754 203.462725202 -19.4374771087\n",
      "[EMF_RBM] Iteration 97, pseudo-likelihood = -92.24, time = 16.17s\n",
      "computing TAP Free Energies\n",
      "monitor:  -240.188282286 203.177490315 -20.2532157356\n",
      "[EMF_RBM] Iteration 98, pseudo-likelihood = -91.87, time = 15.90s\n",
      "computing TAP Free Energies\n",
      "monitor:  -240.822260437 202.897197094 -21.0637686087\n",
      "[EMF_RBM] Iteration 99, pseudo-likelihood = -92.70, time = 15.90s\n",
      "computing TAP Free Energies\n",
      "monitor:  -241.455871712 202.621706624 -21.8700178534\n",
      "[EMF_RBM] Iteration 100, pseudo-likelihood = -92.52, time = 15.89s\n",
      "computing TAP Free Energies\n",
      "monitor:  -242.088608762 202.350736623 -22.6717264836\n",
      "[EMF_RBM] Iteration 101, pseudo-likelihood = -89.70, time = 15.96s\n",
      "computing TAP Free Energies\n",
      "monitor:  -242.720576186 202.084152773 -23.4691173729\n",
      "[EMF_RBM] Iteration 102, pseudo-likelihood = -90.66, time = 15.91s\n",
      "computing TAP Free Energies\n",
      "monitor:  -243.35166149 201.82184059 -24.2621753249\n",
      "[EMF_RBM] Iteration 103, pseudo-likelihood = -90.43, time = 16.16s\n",
      "computing TAP Free Energies\n",
      "monitor:  -243.981742211 201.563574943 -25.0510049243\n",
      "[EMF_RBM] Iteration 104, pseudo-likelihood = -88.31, time = 18.54s\n",
      "computing TAP Free Energies\n",
      "monitor:  -244.610861035 201.309254645 -25.8357366136\n",
      "[EMF_RBM] Iteration 105, pseudo-likelihood = -88.61, time = 18.44s\n",
      "computing TAP Free Energies\n",
      "monitor:  -245.238950366 201.058643837 -26.6165331873\n",
      "[EMF_RBM] Iteration 106, pseudo-likelihood = -89.10, time = 17.39s\n",
      "computing TAP Free Energies\n",
      "monitor:  -245.865896034 200.811642966 -27.3933631779\n",
      "[EMF_RBM] Iteration 107, pseudo-likelihood = -90.54, time = 17.16s\n",
      "computing TAP Free Energies\n",
      "monitor:  -246.49160107 200.568155225 -28.1662380392\n",
      "[EMF_RBM] Iteration 108, pseudo-likelihood = -88.99, time = 18.01s\n",
      "computing TAP Free Energies\n",
      "monitor:  -247.115902787 200.328069227 -28.9351042419\n",
      "[EMF_RBM] Iteration 109, pseudo-likelihood = -89.23, time = 17.20s\n",
      "computing TAP Free Energies\n",
      "monitor:  -247.73860958 200.091093602 -29.7000789656\n",
      "[EMF_RBM] Iteration 110, pseudo-likelihood = -85.50, time = 17.90s\n",
      "computing TAP Free Energies\n",
      "monitor:  -248.359797491 199.857260216 -30.4611883621\n",
      "[EMF_RBM] Iteration 111, pseudo-likelihood = -87.52, time = 17.03s\n",
      "computing TAP Free Energies\n",
      "monitor:  -248.979517947 199.626464659 -31.2185891694\n",
      "[EMF_RBM] Iteration 112, pseudo-likelihood = -87.61, time = 16.70s\n",
      "computing TAP Free Energies\n",
      "monitor:  -249.597753269 199.398601556 -31.9723697388\n",
      "[EMF_RBM] Iteration 113, pseudo-likelihood = -87.10, time = 15.94s\n",
      "computing TAP Free Energies\n",
      "monitor:  -250.214136885 199.173591094 -32.7222376239\n",
      "[EMF_RBM] Iteration 114, pseudo-likelihood = -88.73, time = 16.04s\n",
      "computing TAP Free Energies\n",
      "monitor:  -250.828818135 198.951466036 -33.4682762493\n",
      "[EMF_RBM] Iteration 115, pseudo-likelihood = -86.88, time = 15.93s\n",
      "computing TAP Free Energies\n",
      "monitor:  -251.441723064 198.732041228 -34.2106151087\n",
      "[EMF_RBM] Iteration 116, pseudo-likelihood = -85.93, time = 16.24s\n",
      "computing TAP Free Energies\n",
      "monitor:  -252.052554153 198.51523664 -34.9490356676\n",
      "[EMF_RBM] Iteration 117, pseudo-likelihood = -85.93, time = 15.88s\n",
      "computing TAP Free Energies\n",
      "monitor:  -252.661256045 198.301098985 -35.6834238149\n",
      "[EMF_RBM] Iteration 118, pseudo-likelihood = -85.14, time = 17.07s\n",
      "computing TAP Free Energies\n",
      "monitor:  -253.267841098 198.08955267 -36.4138467572\n",
      "[EMF_RBM] Iteration 119, pseudo-likelihood = -88.51, time = 16.27s\n",
      "computing TAP Free Energies\n",
      "monitor:  -253.872509056 197.880529783 -37.1405695727\n",
      "[EMF_RBM] Iteration 120, pseudo-likelihood = -86.04, time = 15.83s\n",
      "computing TAP Free Energies\n",
      "monitor:  -254.475067477 197.67396577 -37.8634702756\n",
      "[EMF_RBM] Iteration 121, pseudo-likelihood = -87.19, time = 16.68s\n",
      "computing TAP Free Energies\n",
      "monitor:  -255.075646634 197.469733356 -38.5828066299\n",
      "[EMF_RBM] Iteration 122, pseudo-likelihood = -83.35, time = 16.44s\n",
      "computing TAP Free Energies\n",
      "monitor:  -255.674085585 197.267776584 -39.2984723926\n",
      "[EMF_RBM] Iteration 123, pseudo-likelihood = -85.64, time = 16.35s\n",
      "computing TAP Free Energies\n",
      "monitor:  -256.270215054 197.067917913 -40.0105056882\n",
      "[EMF_RBM] Iteration 124, pseudo-likelihood = -86.26, time = 15.91s\n",
      "computing TAP Free Energies\n",
      "monitor:  -256.864210636 196.870298655 -40.7189009535\n",
      "[EMF_RBM] Iteration 125, pseudo-likelihood = -83.83, time = 16.60s\n",
      "computing TAP Free Energies\n",
      "monitor:  -257.45596992 196.674932293 -41.4235164107\n",
      "[EMF_RBM] Iteration 126, pseudo-likelihood = -86.17, time = 16.87s\n",
      "computing TAP Free Energies\n",
      "monitor:  -258.0451737 196.481708633 -42.1241597876\n",
      "[EMF_RBM] Iteration 127, pseudo-likelihood = -87.67, time = 17.74s\n",
      "computing TAP Free Energies\n",
      "monitor:  -258.631862936 196.290561255 -42.8209254134\n",
      "[EMF_RBM] Iteration 128, pseudo-likelihood = -83.77, time = 16.59s\n",
      "computing TAP Free Energies\n",
      "monitor:  -259.216115097 196.101435897 -43.5139419032\n",
      "[EMF_RBM] Iteration 129, pseudo-likelihood = -84.30, time = 16.35s\n",
      "computing TAP Free Energies\n",
      "monitor:  -259.797672954 195.914260824 -44.2030176022\n",
      "[EMF_RBM] Iteration 130, pseudo-likelihood = -85.34, time = 16.55s\n",
      "computing TAP Free Energies\n",
      "monitor:  -260.376603239 195.728941622 -44.888315503\n",
      "[EMF_RBM] Iteration 131, pseudo-likelihood = -84.45, time = 15.58s\n",
      "computing TAP Free Energies\n",
      "monitor:  -260.952737546 195.545441661 -45.5697083511\n",
      "[EMF_RBM] Iteration 132, pseudo-likelihood = -85.85, time = 15.85s\n",
      "computing TAP Free Energies\n",
      "monitor:  -261.526167841 195.363744723 -46.2472882602\n",
      "[EMF_RBM] Iteration 133, pseudo-likelihood = -86.23, time = 15.77s\n",
      "computing TAP Free Energies\n",
      "monitor:  -262.097074201 195.183787433 -46.921304077\n",
      "[EMF_RBM] Iteration 134, pseudo-likelihood = -84.19, time = 17.89s\n",
      "computing TAP Free Energies\n",
      "monitor:  -262.665340849 195.00563277 -47.5915492886\n",
      "[EMF_RBM] Iteration 135, pseudo-likelihood = -82.33, time = 15.52s\n",
      "computing TAP Free Energies\n",
      "monitor:  -263.230893493 194.829244982 -48.25797645\n",
      "[EMF_RBM] Iteration 136, pseudo-likelihood = -83.47, time = 15.24s\n",
      "computing TAP Free Energies\n",
      "monitor:  -263.793835067 194.654558116 -48.9207612532\n",
      "[EMF_RBM] Iteration 137, pseudo-likelihood = -81.99, time = 15.29s\n",
      "computing TAP Free Energies\n",
      "monitor:  -264.353903782 194.481624661 -49.5795760329\n",
      "[EMF_RBM] Iteration 138, pseudo-likelihood = -80.45, time = 15.63s\n",
      "computing TAP Free Energies\n",
      "monitor:  -264.911098909 194.31030191 -50.2345654901\n",
      "[EMF_RBM] Iteration 139, pseudo-likelihood = -85.61, time = 16.29s\n",
      "computing TAP Free Energies\n",
      "monitor:  -265.465625459 194.140580086 -50.8859350117\n",
      "[EMF_RBM] Iteration 140, pseudo-likelihood = -83.51, time = 17.31s\n",
      "computing TAP Free Energies\n",
      "monitor:  -266.017093408 193.972531162 -51.5332054517\n",
      "[EMF_RBM] Iteration 141, pseudo-likelihood = -83.75, time = 17.09s\n",
      "computing TAP Free Energies\n",
      "monitor:  -266.56576662 193.806075209 -52.1767140112\n",
      "[EMF_RBM] Iteration 142, pseudo-likelihood = -85.16, time = 16.83s\n",
      "computing TAP Free Energies\n",
      "monitor:  -267.111567432 193.641157215 -52.8164241657\n",
      "[EMF_RBM] Iteration 143, pseudo-likelihood = -85.57, time = 16.45s\n",
      "computing TAP Free Energies\n",
      "monitor:  -267.654668701 193.477748413 -53.4525387662\n",
      "[EMF_RBM] Iteration 144, pseudo-likelihood = -82.02, time = 16.69s\n",
      "computing TAP Free Energies\n",
      "monitor:  -268.194779929 193.315853029 -54.0847491276\n",
      "[EMF_RBM] Iteration 145, pseudo-likelihood = -83.40, time = 17.36s\n",
      "computing TAP Free Energies\n",
      "monitor:  -268.732100685 193.15554003 -54.7131625726\n",
      "[EMF_RBM] Iteration 146, pseudo-likelihood = -82.76, time = 17.52s\n",
      "computing TAP Free Energies\n",
      "monitor:  -269.266669714 192.996745049 -55.3378776724\n",
      "[EMF_RBM] Iteration 147, pseudo-likelihood = -81.62, time = 17.12s\n",
      "computing TAP Free Energies\n",
      "monitor:  -269.798491505 192.839396623 -55.9589709414\n",
      "[EMF_RBM] Iteration 148, pseudo-likelihood = -83.10, time = 16.89s\n",
      "computing TAP Free Energies\n",
      "monitor:  -270.327426581 192.683406999 -56.5764021069\n",
      "[EMF_RBM] Iteration 149, pseudo-likelihood = -83.14, time = 17.22s\n",
      "computing TAP Free Energies\n",
      "monitor:  -270.853688527 192.528836096 -57.1903077148\n",
      "[EMF_RBM] Iteration 150, pseudo-likelihood = -84.61, time = 17.30s\n",
      "computing TAP Free Energies\n",
      "monitor:  -271.376833393 192.375704806 -57.8002212854\n",
      "[EMF_RBM] Iteration 151, pseudo-likelihood = -81.86, time = 16.50s\n",
      "computing TAP Free Energies\n",
      "monitor:  -271.897118811 192.223871661 -58.406530336\n",
      "[EMF_RBM] Iteration 152, pseudo-likelihood = -82.93, time = 17.14s\n",
      "computing TAP Free Energies\n",
      "monitor:  -272.414423011 192.073429609 -59.0089994741\n",
      "[EMF_RBM] Iteration 153, pseudo-likelihood = -82.73, time = 16.70s\n",
      "computing TAP Free Energies\n",
      "monitor:  -272.928815916 191.92431113 -59.6077698229\n",
      "[EMF_RBM] Iteration 154, pseudo-likelihood = -80.89, time = 16.51s\n",
      "computing TAP Free Energies\n",
      "monitor:  -273.440177587 191.776487097 -60.2027414241\n",
      "[EMF_RBM] Iteration 155, pseudo-likelihood = -82.29, time = 17.06s\n",
      "computing TAP Free Energies\n",
      "monitor:  -273.9486135 191.629886035 -60.7940854319\n",
      "[EMF_RBM] Iteration 156, pseudo-likelihood = -80.14, time = 17.02s\n",
      "computing TAP Free Energies\n",
      "monitor:  -274.454151163 191.484515148 -61.3818147052\n",
      "[EMF_RBM] Iteration 157, pseudo-likelihood = -81.64, time = 18.22s\n",
      "computing TAP Free Energies\n",
      "monitor:  -274.956595319 191.340413888 -61.9656836629\n",
      "[EMF_RBM] Iteration 158, pseudo-likelihood = -83.15, time = 16.88s\n",
      "computing TAP Free Energies\n",
      "monitor:  -275.456181908 191.197607936 -62.5458946703\n",
      "[EMF_RBM] Iteration 159, pseudo-likelihood = -80.46, time = 15.41s\n",
      "computing TAP Free Energies\n",
      "monitor:  -275.953102311 191.056087104 -63.1226446966\n",
      "[EMF_RBM] Iteration 160, pseudo-likelihood = -80.39, time = 15.09s\n",
      "computing TAP Free Energies\n",
      "monitor:  -276.447425724 190.915816524 -63.6960247646\n",
      "[EMF_RBM] Iteration 161, pseudo-likelihood = -77.28, time = 14.99s\n",
      "computing TAP Free Energies\n",
      "monitor:  -276.93905736 190.776873332 -64.2658339273\n",
      "[EMF_RBM] Iteration 162, pseudo-likelihood = -82.58, time = 14.92s\n",
      "computing TAP Free Energies\n",
      "monitor:  -277.428001436 190.639215421 -64.8321251549\n",
      "[EMF_RBM] Iteration 163, pseudo-likelihood = -81.25, time = 14.99s\n",
      "computing TAP Free Energies\n",
      "monitor:  -277.914315449 190.50279422 -65.3950044841\n",
      "[EMF_RBM] Iteration 164, pseudo-likelihood = -80.71, time = 15.46s\n",
      "computing TAP Free Energies\n",
      "monitor:  -278.398057943 190.367524057 -65.9546111971\n",
      "[EMF_RBM] Iteration 165, pseudo-likelihood = -80.25, time = 15.32s\n",
      "computing TAP Free Energies\n",
      "monitor:  -278.879114494 190.233379438 -66.5108569385\n",
      "[EMF_RBM] Iteration 166, pseudo-likelihood = -78.94, time = 15.48s\n",
      "computing TAP Free Energies\n",
      "monitor:  -279.357358421 190.100454586 -67.0635034239\n",
      "[EMF_RBM] Iteration 167, pseudo-likelihood = -82.62, time = 15.98s\n",
      "computing TAP Free Energies\n",
      "monitor:  -279.832922088 189.968810174 -67.6126049628\n",
      "[EMF_RBM] Iteration 168, pseudo-likelihood = -80.19, time = 15.67s\n",
      "computing TAP Free Energies\n",
      "monitor:  -280.305979558 189.838452705 -68.1583103177\n",
      "[EMF_RBM] Iteration 169, pseudo-likelihood = -79.06, time = 16.01s\n",
      "computing TAP Free Energies\n",
      "monitor:  -280.77653649 189.709260219 -68.7007530545\n",
      "[EMF_RBM] Iteration 170, pseudo-likelihood = -80.60, time = 15.95s\n",
      "computing TAP Free Energies\n",
      "monitor:  -281.244455568 189.581167417 -69.2398652195\n",
      "[EMF_RBM] Iteration 171, pseudo-likelihood = -80.29, time = 15.63s\n",
      "computing TAP Free Energies\n",
      "monitor:  -281.709812097 189.45419108 -69.7756982793\n",
      "[EMF_RBM] Iteration 172, pseudo-likelihood = -80.66, time = 15.95s\n",
      "computing TAP Free Energies\n",
      "monitor:  -282.17279464 189.328302318 -70.3084605323\n",
      "[EMF_RBM] Iteration 173, pseudo-likelihood = -77.11, time = 15.80s\n",
      "computing TAP Free Energies\n",
      "monitor:  -282.633259123 189.20350414 -70.8380043884\n",
      "[EMF_RBM] Iteration 174, pseudo-likelihood = -77.93, time = 15.94s\n",
      "computing TAP Free Energies\n",
      "monitor:  -283.091192019 189.079835108 -71.3642650945\n",
      "[EMF_RBM] Iteration 175, pseudo-likelihood = -77.18, time = 15.84s\n",
      "computing TAP Free Energies\n",
      "monitor:  -283.546795498 188.957235896 -71.8875080516\n",
      "[EMF_RBM] Iteration 176, pseudo-likelihood = -79.53, time = 16.10s\n",
      "computing TAP Free Energies\n",
      "monitor:  -284.000050608 188.835749299 -72.4076522024\n",
      "[EMF_RBM] Iteration 177, pseudo-likelihood = -77.82, time = 15.75s\n",
      "computing TAP Free Energies\n",
      "monitor:  -284.450903413 188.715375459 -72.9246367194\n",
      "[EMF_RBM] Iteration 178, pseudo-likelihood = -77.52, time = 15.98s\n",
      "computing TAP Free Energies\n",
      "monitor:  -284.899381917 188.59608016 -73.4385259118\n",
      "[EMF_RBM] Iteration 179, pseudo-likelihood = -81.66, time = 15.51s\n",
      "computing TAP Free Energies\n",
      "monitor:  -285.34557521 188.477803571 -73.949460351\n",
      "[EMF_RBM] Iteration 180, pseudo-likelihood = -77.18, time = 15.94s\n",
      "computing TAP Free Energies\n",
      "monitor:  -285.789503745 188.360564726 -74.4574402885\n",
      "[EMF_RBM] Iteration 181, pseudo-likelihood = -77.48, time = 16.05s\n",
      "computing TAP Free Energies\n",
      "monitor:  -286.231003272 188.244392955 -74.9622515526\n",
      "[EMF_RBM] Iteration 182, pseudo-likelihood = -77.60, time = 16.21s\n",
      "computing TAP Free Energies\n",
      "monitor:  -286.670426933 188.129281952 -75.4642481267\n",
      "[EMF_RBM] Iteration 183, pseudo-likelihood = -74.90, time = 15.82s\n",
      "computing TAP Free Energies\n",
      "monitor:  -287.107860377 188.015210166 -75.9635410564\n",
      "[EMF_RBM] Iteration 184, pseudo-likelihood = -78.29, time = 15.79s\n",
      "computing TAP Free Energies\n",
      "monitor:  -287.543031138 187.902103035 -76.4599462725\n",
      "[EMF_RBM] Iteration 185, pseudo-likelihood = -79.50, time = 15.80s\n",
      "computing TAP Free Energies\n",
      "monitor:  -287.975783065 187.789921876 -76.9533479442\n",
      "[EMF_RBM] Iteration 186, pseudo-likelihood = -78.86, time = 16.09s\n",
      "computing TAP Free Energies\n",
      "monitor:  -288.406420993 187.678633994 -77.4440775222\n",
      "[EMF_RBM] Iteration 187, pseudo-likelihood = -77.83, time = 16.17s\n",
      "computing TAP Free Energies\n",
      "monitor:  -288.834924426 187.568271082 -77.9320668568\n",
      "[EMF_RBM] Iteration 188, pseudo-likelihood = -81.26, time = 16.24s\n",
      "computing TAP Free Energies\n",
      "monitor:  -289.261444452 187.458808971 -78.417494071\n",
      "[EMF_RBM] Iteration 189, pseudo-likelihood = -79.18, time = 16.05s\n",
      "computing TAP Free Energies\n",
      "monitor:  -289.685914727 187.350288612 -78.9002421046\n",
      "[EMF_RBM] Iteration 190, pseudo-likelihood = -76.49, time = 16.25s\n",
      "computing TAP Free Energies\n",
      "monitor:  -290.108273696 187.242732192 -79.3802146635\n",
      "[EMF_RBM] Iteration 191, pseudo-likelihood = -80.73, time = 16.88s\n",
      "computing TAP Free Energies\n",
      "monitor:  -290.528558461 187.136114798 -79.8574668371\n",
      "[EMF_RBM] Iteration 192, pseudo-likelihood = -79.64, time = 16.50s\n",
      "computing TAP Free Energies\n",
      "monitor:  -290.946613643 187.030406182 -80.3318713726\n",
      "[EMF_RBM] Iteration 193, pseudo-likelihood = -76.57, time = 15.69s\n",
      "computing TAP Free Energies\n",
      "monitor:  -291.362473527 186.925579388 -80.8035006254\n",
      "[EMF_RBM] Iteration 194, pseudo-likelihood = -79.85, time = 15.96s\n",
      "computing TAP Free Energies\n",
      "monitor:  -291.77630227 186.821540781 -81.272624922\n",
      "[EMF_RBM] Iteration 195, pseudo-likelihood = -79.46, time = 15.80s\n",
      "computing TAP Free Energies\n",
      "monitor:  -292.188306891 186.718317716 -81.7394103723\n",
      "[EMF_RBM] Iteration 196, pseudo-likelihood = -76.73, time = 16.18s\n",
      "computing TAP Free Energies\n",
      "monitor:  -292.598438837 186.615902241 -82.2038110412\n",
      "[EMF_RBM] Iteration 197, pseudo-likelihood = -79.03, time = 15.67s\n",
      "computing TAP Free Energies\n",
      "monitor:  -293.00662467 186.514329533 -82.665708561\n",
      "[EMF_RBM] Iteration 198, pseudo-likelihood = -77.55, time = 15.64s\n",
      "computing TAP Free Energies\n",
      "monitor:  -293.412895561 186.413603306 -83.1251299258\n",
      "[EMF_RBM] Iteration 199, pseudo-likelihood = -76.83, time = 15.59s\n",
      "computing TAP Free Energies\n",
      "monitor:  -293.817260389 186.313688975 -83.5821183403\n",
      "[EMF_RBM] Iteration 200, pseudo-likelihood = -75.72, time = 15.65s\n",
      "computing TAP Free Energies\n",
      "monitor:  -294.219674652 186.214534448 -84.0366863623\n"
     ]
    }
   ],
   "source": [
    "import emf_rbm\n",
    "rbm = emf_rbm.EMF_RBM(verbose=True, monitor=True, n_iter=200)\n",
    "print rbm\n",
    "rbm= rbm.fit(X_train)"
   ]
  },
  {
   "cell_type": "code",
   "execution_count": 22,
   "metadata": {
    "ExecuteTime": {
     "end_time": "2017-03-06T10:00:18.259721",
     "start_time": "2017-03-06T10:00:18.038927"
    },
    "collapsed": false,
    "scrolled": true
   },
   "outputs": [
    {
     "data": {
      "text/plain": [
       "<matplotlib.text.Text at 0x113321b50>"
      ]
     },
     "execution_count": 22,
     "metadata": {},
     "output_type": "execute_result"
    },
    {
     "data": {
      "image/png": "[encoded data removed]",
      "text/plain": [
       "<matplotlib.figure.Figure at 0x112a526d0>"
      ]
     },
     "metadata": {},
     "output_type": "display_data"
    }
   ],
   "source": [
    "plt.plot(rbm.entropies-rbm.entropies[0], color='red', label='Entropy')\n",
    "plt.plot(rbm.mean_field_energies-rbm.mean_field_energies[0], color='blue', label='MF Energy')\n",
    "plt.plot(rbm.free_energies-rbm.free_energies[0], color='green', label='Free Energy')\n",
    "plt.legend(loc='upper right')\n",
    "plt.title(\"Ominglot: Free Energy, Mean Field Enegry, & Entropy vs Epochs\")\n"
   ]
  },
  {
   "cell_type": "code",
   "execution_count": 23,
   "metadata": {
    "ExecuteTime": {
     "end_time": "2017-03-06T10:00:19.472251",
     "start_time": "2017-03-06T10:00:19.426630"
    },
    "collapsed": true
   },
   "outputs": [],
   "source": [
    "from sklearn.preprocessing import binarize\n",
    "X_test = binarize(test_x, threshold=0.5, copy=True)"
   ]
  },
  {
   "cell_type": "code",
   "execution_count": 24,
   "metadata": {
    "ExecuteTime": {
     "end_time": "2017-03-06T10:00:19.983505",
     "start_time": "2017-03-06T10:00:19.979043"
    },
    "collapsed": false
   },
   "outputs": [
    {
     "data": {
      "text/plain": [
       "array([ 0,  1,  2,  3,  4,  5,  6,  7,  8,  9, 10, 11, 12, 13, 14, 15, 16,\n",
       "       17, 18, 19, 20, 21, 22, 23, 24, 25, 26, 27, 28, 29, 30, 31, 32, 33,\n",
       "       34, 35, 36, 37, 38, 39, 40, 41, 42, 43, 44, 45, 46, 47, 48, 49])"
      ]
     },
     "execution_count": 24,
     "metadata": {},
     "output_type": "execute_result"
    }
   ],
   "source": [
    "np.unique(train_y)"
   ]
  },
  {
   "cell_type": "code",
   "execution_count": null,
   "metadata": {
    "ExecuteTime": {
     "start_time": "2017-03-06T18:01:19.578Z"
    },
    "collapsed": false
   },
   "outputs": [],
   "source": [
    "from sklearn.svm import LinearSVC\n",
    "from sklearn.metrics import accuracy_score\n",
    "\n",
    "F_train = rbm.transform(X_train)\n",
    "F_test = rbm.transform(X_test)\n",
    "\n",
    "for c in [0.01, 0.1, 1, 10, 100]:\n",
    "    classifier = LinearSVC()\n",
    "    classifier.fit(F_train, train_y)\n",
    "    test_emf_rbm_pred_y = classifier.predict(F_test)\n",
    "    emf_accuracy = accuracy_score(y_pred=test_emf_rbm_pred_y, y_true=test_y)\n",
    "    print c, emf_accuracy"
   ]
  },
  {
   "cell_type": "code",
   "execution_count": null,
   "metadata": {
    "ExecuteTime": {
     "end_time": "2017-03-05T23:13:15.864513",
     "start_time": "2017-03-06T07:06:50.647Z"
    },
    "collapsed": true
   },
   "outputs": [],
   "source": []
  },
  {
   "cell_type": "code",
   "execution_count": null,
   "metadata": {
    "collapsed": true
   },
   "outputs": [],
   "source": []
  },
  {
   "cell_type": "code",
   "execution_count": null,
   "metadata": {
    "collapsed": true
   },
   "outputs": [],
   "source": []
  },
  {
   "cell_type": "code",
   "execution_count": null,
   "metadata": {
    "collapsed": true
   },
   "outputs": [],
   "source": []
  }
 ],
 "metadata": {
  "anaconda-cloud": {},
  "kernelspec": {
   "display_name": "Python [Root]",
   "language": "python",
   "name": "Python [Root]"
  },
  "language_info": {
   "codemirror_mode": {
    "name": "ipython",
    "version": 2
   },
   "file_extension": ".py",
   "mimetype": "text/x-python",
   "name": "python",
   "nbconvert_exporter": "python",
   "pygments_lexer": "ipython2",
   "version": "2.7.12"
  }
 },
 "nbformat": 4,
 "nbformat_minor": 0
}
